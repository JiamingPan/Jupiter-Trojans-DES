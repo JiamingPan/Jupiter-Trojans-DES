{
 "cells": [
  {
   "cell_type": "code",
   "execution_count": 1,
   "id": "7cf2939a-456b-4e33-b682-9a50032f6bac",
   "metadata": {},
   "outputs": [],
   "source": [
    "#pip install spacerocks"
   ]
  },
  {
   "cell_type": "code",
   "execution_count": 1,
   "id": "737536cb-6722-4c9f-853b-bf5a594d19ae",
   "metadata": {},
   "outputs": [
    {
     "name": "stdout",
     "output_type": "stream",
     "text": [
      "/home/jiamingp\n"
     ]
    }
   ],
   "source": [
    "cd /home/jiamingp"
   ]
  },
  {
   "cell_type": "code",
   "execution_count": 2,
   "id": "efdbdbe9-6522-49c8-867e-ec5e3fa44a84",
   "metadata": {},
   "outputs": [
    {
     "name": "stdout",
     "output_type": "stream",
     "text": [
      "Requirement already satisfied: pip in /usr/local/anaconda/lib/python3.8/site-packages (21.3)\n",
      "Collecting pip\n",
      "  Downloading pip-21.3.1-py3-none-any.whl (1.7 MB)\n",
      "     |████████████████████████████████| 1.7 MB 31.5 MB/s            \n",
      "\u001b[?25hInstalling collected packages: pip\n",
      "  Attempting uninstall: pip\n",
      "    Found existing installation: pip 21.3\n",
      "    Uninstalling pip-21.3:\n",
      "      Successfully uninstalled pip-21.3\n",
      "Successfully installed pip-21.3.1\n",
      "Note: you may need to restart the kernel to use updated packages.\n"
     ]
    }
   ],
   "source": [
    "pip install --upgrade pip"
   ]
  },
  {
   "cell_type": "code",
   "execution_count": 3,
   "id": "89d1c062-99e2-45d7-bed2-9b215ef1618d",
   "metadata": {},
   "outputs": [
    {
     "name": "stdout",
     "output_type": "stream",
     "text": [
      "Collecting spacerocks==1.0.23\n",
      "  Using cached spacerocks-1.0.23-cp38-cp38-linux_x86_64.whl\n",
      "Requirement already satisfied: reboundx in /usr/local/anaconda/lib/python3.8/site-packages (from spacerocks==1.0.23) (3.4.1)\n",
      "Requirement already satisfied: healpy in /usr/local/anaconda/lib/python3.8/site-packages (from spacerocks==1.0.23) (1.15.0)\n",
      "Requirement already satisfied: numpy in /usr/local/anaconda/lib/python3.8/site-packages (from spacerocks==1.0.23) (1.21.3)\n",
      "Requirement already satisfied: pandas in /usr/local/anaconda/lib/python3.8/site-packages (from spacerocks==1.0.23) (1.3.4)\n",
      "Requirement already satisfied: rebound in /usr/local/anaconda/lib/python3.8/site-packages (from spacerocks==1.0.23) (3.18.0)\n",
      "Requirement already satisfied: skyfield in /usr/local/anaconda/lib/python3.8/site-packages (from spacerocks==1.0.23) (1.39)\n",
      "Requirement already satisfied: astropy in /usr/local/anaconda/lib/python3.8/site-packages (from spacerocks==1.0.23) (4.3.1)\n",
      "Requirement already satisfied: pyerfa>=1.7.3 in /usr/local/anaconda/lib/python3.8/site-packages (from astropy->spacerocks==1.0.23) (2.0.0)\n",
      "Requirement already satisfied: matplotlib in /usr/local/anaconda/lib/python3.8/site-packages (from healpy->spacerocks==1.0.23) (3.4.3)\n",
      "Requirement already satisfied: scipy in /usr/local/anaconda/lib/python3.8/site-packages (from healpy->spacerocks==1.0.23) (1.7.1)\n",
      "Requirement already satisfied: python-dateutil>=2.7.3 in /usr/local/anaconda/lib/python3.8/site-packages (from pandas->spacerocks==1.0.23) (2.8.2)\n",
      "Requirement already satisfied: pytz>=2017.3 in /usr/local/anaconda/lib/python3.8/site-packages (from pandas->spacerocks==1.0.23) (2021.3)\n",
      "Requirement already satisfied: jplephem>=2.13 in /usr/local/anaconda/lib/python3.8/site-packages (from skyfield->spacerocks==1.0.23) (2.15)\n",
      "Requirement already satisfied: sgp4>=2.2 in /usr/local/anaconda/lib/python3.8/site-packages (from skyfield->spacerocks==1.0.23) (2.19)\n",
      "Requirement already satisfied: certifi>=2017.4.17 in /usr/local/anaconda/lib/python3.8/site-packages (from skyfield->spacerocks==1.0.23) (2021.5.30)\n",
      "Requirement already satisfied: six>=1.5 in /usr/local/anaconda/lib/python3.8/site-packages (from python-dateutil>=2.7.3->pandas->spacerocks==1.0.23) (1.16.0)\n",
      "Requirement already satisfied: pillow>=6.2.0 in /usr/local/anaconda/lib/python3.8/site-packages (from matplotlib->healpy->spacerocks==1.0.23) (8.4.0)\n",
      "Requirement already satisfied: kiwisolver>=1.0.1 in /usr/local/anaconda/lib/python3.8/site-packages (from matplotlib->healpy->spacerocks==1.0.23) (1.3.2)\n",
      "Requirement already satisfied: pyparsing>=2.2.1 in /usr/local/anaconda/lib/python3.8/site-packages (from matplotlib->healpy->spacerocks==1.0.23) (2.4.7)\n",
      "Requirement already satisfied: cycler>=0.10 in /usr/local/anaconda/lib/python3.8/site-packages (from matplotlib->healpy->spacerocks==1.0.23) (0.10.0)\n",
      "Installing collected packages: spacerocks\n",
      "  Attempting uninstall: spacerocks\n",
      "    Found existing installation: spacerocks 1.1.5\n",
      "    Uninstalling spacerocks-1.1.5:\n",
      "      Successfully uninstalled spacerocks-1.1.5\n",
      "Successfully installed spacerocks-1.0.23\n",
      "Note: you may need to restart the kernel to use updated packages.\n"
     ]
    }
   ],
   "source": [
    "pip install spacerocks==1.0.23"
   ]
  },
  {
   "cell_type": "code",
   "execution_count": 1,
   "id": "5050072a-d319-4e05-badf-55b01138e5db",
   "metadata": {},
   "outputs": [
    {
     "name": "stdout",
     "output_type": "stream",
     "text": [
      "Collecting spacerocks\n",
      "  Using cached spacerocks-1.1.0.tar.gz (36.7 MB)\n",
      "Requirement already satisfied: healpy in /usr/local/anaconda/lib/python3.8/site-packages (from spacerocks) (1.14.0)\n",
      "Requirement already satisfied: numpy in /usr/local/anaconda/lib/python3.8/site-packages (from spacerocks) (1.20.3)\n",
      "Requirement already satisfied: skyfield in /usr/local/anaconda/lib/python3.8/site-packages (from spacerocks) (1.39)\n",
      "Requirement already satisfied: astropy in /usr/local/anaconda/lib/python3.8/site-packages (from spacerocks) (4.3.1)\n",
      "Requirement already satisfied: pandas in /usr/local/anaconda/lib/python3.8/site-packages (from spacerocks) (1.3.2)\n",
      "Requirement already satisfied: rebound in /usr/local/anaconda/lib/python3.8/site-packages (from spacerocks) (3.17.0)\n",
      "Requirement already satisfied: reboundx in /usr/local/anaconda/lib/python3.8/site-packages (from spacerocks) (3.3.0)\n",
      "Requirement already satisfied: pyerfa>=1.7.3 in /usr/local/anaconda/lib/python3.8/site-packages (from astropy->spacerocks) (2.0.0)\n",
      "Requirement already satisfied: six in /usr/local/anaconda/lib/python3.8/site-packages (from healpy->spacerocks) (1.16.0)\n",
      "Requirement already satisfied: matplotlib in /usr/local/anaconda/lib/python3.8/site-packages (from healpy->spacerocks) (3.4.2)\n",
      "Requirement already satisfied: scipy in /usr/local/anaconda/lib/python3.8/site-packages (from healpy->spacerocks) (1.6.2)\n",
      "Requirement already satisfied: kiwisolver>=1.0.1 in /usr/local/anaconda/lib/python3.8/site-packages (from matplotlib->healpy->spacerocks) (1.3.1)\n",
      "Requirement already satisfied: pillow>=6.2.0 in /usr/local/anaconda/lib/python3.8/site-packages (from matplotlib->healpy->spacerocks) (8.3.1)\n",
      "Requirement already satisfied: cycler>=0.10 in /usr/local/anaconda/lib/python3.8/site-packages (from matplotlib->healpy->spacerocks) (0.10.0)\n",
      "Requirement already satisfied: pyparsing>=2.2.1 in /usr/local/anaconda/lib/python3.8/site-packages (from matplotlib->healpy->spacerocks) (2.4.7)\n",
      "Requirement already satisfied: python-dateutil>=2.7 in /usr/local/anaconda/lib/python3.8/site-packages (from matplotlib->healpy->spacerocks) (2.8.2)\n",
      "Requirement already satisfied: pytz>=2017.3 in /usr/local/anaconda/lib/python3.8/site-packages (from pandas->spacerocks) (2021.1)\n",
      "Requirement already satisfied: sgp4>=2.2 in /usr/local/anaconda/lib/python3.8/site-packages (from skyfield->spacerocks) (2.19)\n",
      "Requirement already satisfied: certifi>=2017.4.17 in /usr/local/anaconda/lib/python3.8/site-packages (from skyfield->spacerocks) (2021.5.30)\n",
      "Requirement already satisfied: jplephem>=2.13 in /usr/local/anaconda/lib/python3.8/site-packages (from skyfield->spacerocks) (2.15)\n",
      "Building wheels for collected packages: spacerocks\n",
      "  Building wheel for spacerocks (setup.py) ... \u001b[?25lerror\n",
      "\u001b[31m  ERROR: Command errored out with exit status 1:\n",
      "   command: /usr/local/anaconda/bin/python -u -c 'import io, os, sys, setuptools, tokenize; sys.argv[0] = '\"'\"'/tmp/pip-install-356xuxy7/spacerocks_cc4cc45bd424453796ad141d3f236274/setup.py'\"'\"'; __file__='\"'\"'/tmp/pip-install-356xuxy7/spacerocks_cc4cc45bd424453796ad141d3f236274/setup.py'\"'\"';f = getattr(tokenize, '\"'\"'open'\"'\"', open)(__file__) if os.path.exists(__file__) else io.StringIO('\"'\"'from setuptools import setup; setup()'\"'\"');code = f.read().replace('\"'\"'\\r\\n'\"'\"', '\"'\"'\\n'\"'\"');f.close();exec(compile(code, __file__, '\"'\"'exec'\"'\"'))' bdist_wheel -d /tmp/pip-wheel-rl1_vp8l\n",
      "       cwd: /tmp/pip-install-356xuxy7/spacerocks_cc4cc45bd424453796ad141d3f236274/\n",
      "  Complete output (44 lines):\n",
      "  running bdist_wheel\n",
      "  running build\n",
      "  running build_py\n",
      "  creating build\n",
      "  creating build/lib.linux-x86_64-3.8\n",
      "  creating build/lib.linux-x86_64-3.8/spacerocks\n",
      "  copying spacerocks/jacobians.py -> build/lib.linux-x86_64-3.8/spacerocks\n",
      "  copying spacerocks/constants.py -> build/lib.linux-x86_64-3.8/spacerocks\n",
      "  copying spacerocks/observatory_json_to_csv.py -> build/lib.linux-x86_64-3.8/spacerocks\n",
      "  copying spacerocks/__init__.py -> build/lib.linux-x86_64-3.8/spacerocks\n",
      "  copying spacerocks/pyOrbfit.py -> build/lib.linux-x86_64-3.8/spacerocks\n",
      "  copying spacerocks/vector.py -> build/lib.linux-x86_64-3.8/spacerocks\n",
      "  copying spacerocks/units.py -> build/lib.linux-x86_64-3.8/spacerocks\n",
      "  copying spacerocks/mpc.py -> build/lib.linux-x86_64-3.8/spacerocks\n",
      "  copying spacerocks/convenience.py -> build/lib.linux-x86_64-3.8/spacerocks\n",
      "  copying spacerocks/orbfit.py -> build/lib.linux-x86_64-3.8/spacerocks\n",
      "  copying spacerocks/detections.py -> build/lib.linux-x86_64-3.8/spacerocks\n",
      "  copying spacerocks/orbitfuncs.py -> build/lib.linux-x86_64-3.8/spacerocks\n",
      "  copying spacerocks/ephemerides.py -> build/lib.linux-x86_64-3.8/spacerocks\n",
      "  copying spacerocks/spacerock.py -> build/lib.linux-x86_64-3.8/spacerocks\n",
      "  creating build/lib.linux-x86_64-3.8/spacerocks/data\n",
      "  copying spacerocks/data/__init__.py -> build/lib.linux-x86_64-3.8/spacerocks/data\n",
      "  running egg_info\n",
      "  writing spacerocks.egg-info/PKG-INFO\n",
      "  writing dependency_links to spacerocks.egg-info/dependency_links.txt\n",
      "  writing requirements to spacerocks.egg-info/requires.txt\n",
      "  writing top-level names to spacerocks.egg-info/top_level.txt\n",
      "  reading manifest file 'spacerocks.egg-info/SOURCES.txt'\n",
      "  writing manifest file 'spacerocks.egg-info/SOURCES.txt'\n",
      "  copying spacerocks/data/binEphem.423 -> build/lib.linux-x86_64-3.8/spacerocks/data\n",
      "  copying spacerocks/data/observatories.csv -> build/lib.linux-x86_64-3.8/spacerocks/data\n",
      "  copying spacerocks/data/observatories.dat -> build/lib.linux-x86_64-3.8/spacerocks/data\n",
      "  running build_ext\n",
      "  building 'libspacerocks' extension\n",
      "  creating build/temp.linux-x86_64-3.8\n",
      "  creating build/temp.linux-x86_64-3.8/src\n",
      "  gcc -pthread -B /usr/local/anaconda/compiler_compat -Wl,--sysroot=/ -Wsign-compare -DNDEBUG -g -fwrapv -O3 -Wall -Wstrict-prototypes -fPIC -Isrc -I/usr/local/anaconda/include/python3.8 -c src/speedy.c -o build/temp.linux-x86_64-3.8/src/speedy.o -O3 -fPIC -Wno-unknown-pragmas -std=c99\n",
      "  gcc -pthread -shared -B /usr/local/anaconda/compiler_compat -L/usr/local/anaconda/lib -Wl,-rpath=/usr/local/anaconda/lib -Wl,--no-as-needed -Wl,--sysroot=/ build/temp.linux-x86_64-3.8/src/speedy.o -o build/lib.linux-x86_64-3.8/libspacerocks.cpython-38-x86_64-linux-gnu.so\n",
      "  building '_pyOrbfit' extension\n",
      "  swigging src/pyOrbfit.i to src/pyOrbfit_wrap.c\n",
      "  swig -python -o src/pyOrbfit_wrap.c src/pyOrbfit.i\n",
      "  src/pyOrbfit.i:8: Error: Unable to find 'numpy.i'\n",
      "  src/pyOrbfit.i:67: Error: Unable to find 'orbfit.h'\n",
      "  error: command 'swig' failed with exit status 1\n",
      "  ----------------------------------------\u001b[0m\n",
      "\u001b[31m  ERROR: Failed building wheel for spacerocks\u001b[0m\n",
      "\u001b[?25h  Running setup.py clean for spacerocks\n",
      "Failed to build spacerocks\n",
      "Installing collected packages: spacerocks\n",
      "    Running setup.py install for spacerocks ... \u001b[?25lerror\n",
      "\u001b[31m    ERROR: Command errored out with exit status 1:\n",
      "     command: /usr/local/anaconda/bin/python -u -c 'import io, os, sys, setuptools, tokenize; sys.argv[0] = '\"'\"'/tmp/pip-install-356xuxy7/spacerocks_cc4cc45bd424453796ad141d3f236274/setup.py'\"'\"'; __file__='\"'\"'/tmp/pip-install-356xuxy7/spacerocks_cc4cc45bd424453796ad141d3f236274/setup.py'\"'\"';f = getattr(tokenize, '\"'\"'open'\"'\"', open)(__file__) if os.path.exists(__file__) else io.StringIO('\"'\"'from setuptools import setup; setup()'\"'\"');code = f.read().replace('\"'\"'\\r\\n'\"'\"', '\"'\"'\\n'\"'\"');f.close();exec(compile(code, __file__, '\"'\"'exec'\"'\"'))' install --record /tmp/pip-record-mxosolw_/install-record.txt --single-version-externally-managed --compile --install-headers /usr/local/anaconda/include/python3.8/spacerocks\n",
      "         cwd: /tmp/pip-install-356xuxy7/spacerocks_cc4cc45bd424453796ad141d3f236274/\n",
      "    Complete output (44 lines):\n",
      "    running install\n",
      "    running build\n",
      "    running build_py\n",
      "    creating build\n",
      "    creating build/lib.linux-x86_64-3.8\n",
      "    creating build/lib.linux-x86_64-3.8/spacerocks\n",
      "    copying spacerocks/jacobians.py -> build/lib.linux-x86_64-3.8/spacerocks\n",
      "    copying spacerocks/constants.py -> build/lib.linux-x86_64-3.8/spacerocks\n",
      "    copying spacerocks/observatory_json_to_csv.py -> build/lib.linux-x86_64-3.8/spacerocks\n",
      "    copying spacerocks/__init__.py -> build/lib.linux-x86_64-3.8/spacerocks\n",
      "    copying spacerocks/pyOrbfit.py -> build/lib.linux-x86_64-3.8/spacerocks\n",
      "    copying spacerocks/vector.py -> build/lib.linux-x86_64-3.8/spacerocks\n",
      "    copying spacerocks/units.py -> build/lib.linux-x86_64-3.8/spacerocks\n",
      "    copying spacerocks/mpc.py -> build/lib.linux-x86_64-3.8/spacerocks\n",
      "    copying spacerocks/convenience.py -> build/lib.linux-x86_64-3.8/spacerocks\n",
      "    copying spacerocks/orbfit.py -> build/lib.linux-x86_64-3.8/spacerocks\n",
      "    copying spacerocks/detections.py -> build/lib.linux-x86_64-3.8/spacerocks\n",
      "    copying spacerocks/orbitfuncs.py -> build/lib.linux-x86_64-3.8/spacerocks\n",
      "    copying spacerocks/ephemerides.py -> build/lib.linux-x86_64-3.8/spacerocks\n",
      "    copying spacerocks/spacerock.py -> build/lib.linux-x86_64-3.8/spacerocks\n",
      "    creating build/lib.linux-x86_64-3.8/spacerocks/data\n",
      "    copying spacerocks/data/__init__.py -> build/lib.linux-x86_64-3.8/spacerocks/data\n",
      "    running egg_info\n",
      "    writing spacerocks.egg-info/PKG-INFO\n",
      "    writing dependency_links to spacerocks.egg-info/dependency_links.txt\n",
      "    writing requirements to spacerocks.egg-info/requires.txt\n",
      "    writing top-level names to spacerocks.egg-info/top_level.txt\n",
      "    reading manifest file 'spacerocks.egg-info/SOURCES.txt'\n",
      "    writing manifest file 'spacerocks.egg-info/SOURCES.txt'\n",
      "    copying spacerocks/data/binEphem.423 -> build/lib.linux-x86_64-3.8/spacerocks/data\n",
      "    copying spacerocks/data/observatories.csv -> build/lib.linux-x86_64-3.8/spacerocks/data\n",
      "    copying spacerocks/data/observatories.dat -> build/lib.linux-x86_64-3.8/spacerocks/data\n",
      "    running build_ext\n",
      "    building 'libspacerocks' extension\n",
      "    creating build/temp.linux-x86_64-3.8\n",
      "    creating build/temp.linux-x86_64-3.8/src\n",
      "    gcc -pthread -B /usr/local/anaconda/compiler_compat -Wl,--sysroot=/ -Wsign-compare -DNDEBUG -g -fwrapv -O3 -Wall -Wstrict-prototypes -fPIC -Isrc -I/usr/local/anaconda/include/python3.8 -c src/speedy.c -o build/temp.linux-x86_64-3.8/src/speedy.o -O3 -fPIC -Wno-unknown-pragmas -std=c99\n",
      "    gcc -pthread -shared -B /usr/local/anaconda/compiler_compat -L/usr/local/anaconda/lib -Wl,-rpath=/usr/local/anaconda/lib -Wl,--no-as-needed -Wl,--sysroot=/ build/temp.linux-x86_64-3.8/src/speedy.o -o build/lib.linux-x86_64-3.8/libspacerocks.cpython-38-x86_64-linux-gnu.so\n",
      "    building '_pyOrbfit' extension\n",
      "    swigging src/pyOrbfit.i to src/pyOrbfit_wrap.c\n",
      "    swig -python -o src/pyOrbfit_wrap.c src/pyOrbfit.i\n",
      "    src/pyOrbfit.i:8: Error: Unable to find 'numpy.i'\n",
      "    src/pyOrbfit.i:67: Error: Unable to find 'orbfit.h'\n",
      "    error: command 'swig' failed with exit status 1\n",
      "    ----------------------------------------\u001b[0m\n",
      "\u001b[31mERROR: Command errored out with exit status 1: /usr/local/anaconda/bin/python -u -c 'import io, os, sys, setuptools, tokenize; sys.argv[0] = '\"'\"'/tmp/pip-install-356xuxy7/spacerocks_cc4cc45bd424453796ad141d3f236274/setup.py'\"'\"'; __file__='\"'\"'/tmp/pip-install-356xuxy7/spacerocks_cc4cc45bd424453796ad141d3f236274/setup.py'\"'\"';f = getattr(tokenize, '\"'\"'open'\"'\"', open)(__file__) if os.path.exists(__file__) else io.StringIO('\"'\"'from setuptools import setup; setup()'\"'\"');code = f.read().replace('\"'\"'\\r\\n'\"'\"', '\"'\"'\\n'\"'\"');f.close();exec(compile(code, __file__, '\"'\"'exec'\"'\"'))' install --record /tmp/pip-record-mxosolw_/install-record.txt --single-version-externally-managed --compile --install-headers /usr/local/anaconda/include/python3.8/spacerocks Check the logs for full command output.\u001b[0m\n",
      "\u001b[?25hNote: you may need to restart the kernel to use updated packages.\n"
     ]
    }
   ],
   "source": [
    "pip install spacerocks #--upgrade"
   ]
  },
  {
   "cell_type": "code",
   "execution_count": 4,
   "id": "f991387b-698d-483e-bbcf-7b0721013879",
   "metadata": {},
   "outputs": [],
   "source": [
    "import spacerocks"
   ]
  },
  {
   "cell_type": "code",
   "execution_count": 5,
   "id": "1b682a05-4c41-40e7-a910-e336d41238e8",
   "metadata": {},
   "outputs": [],
   "source": [
    "from spacerocks import SpaceRock"
   ]
  },
  {
   "cell_type": "code",
   "execution_count": 7,
   "id": "bad4ed0d-e8db-40e7-9489-3f47d9152317",
   "metadata": {},
   "outputs": [],
   "source": [
    "#import spacerocks\n",
    "#import SpaceRock\n",
    "import pandas as pd\n",
    "from astropy.coordinates import SkyCoord\n",
    "from astropy.time import Time\n",
    "import astropy.units as u\n",
    "import numpy as np\n",
    "from astropy.time import Time\n",
    "from astropy.coordinates import SkyCoord\n",
    "import astropy.units as u\n",
    "import easyaccess as ea\n",
    "import matplotlib.pyplot as plt\n",
    "from DEEP_pointings import DEEP_fields_2019, DEEP_fields_2020\n",
    "from compute_chip import compute_chip"
   ]
  },
  {
   "cell_type": "code",
   "execution_count": 8,
   "id": "358688d7-a0fe-41d1-bb38-b57b95eb7214",
   "metadata": {},
   "outputs": [],
   "source": [
    "#dfo = pd.read_json('https://minorplanetcenter.net/Extended_Files/mpcorb_extended.json.gz')\n",
    "#dfo.to_csv('mpcorb_extended.csv', index=None)\n",
    "dfo = pd.read_csv('mpcorb_extended.csv')"
   ]
  },
  {
   "cell_type": "code",
   "execution_count": 9,
   "id": "67d0430d-0eab-42ad-a1e8-d85e7bda5751",
   "metadata": {},
   "outputs": [
    {
     "name": "stdout",
     "output_type": "stream",
     "text": [
      "10437\n"
     ]
    }
   ],
   "source": [
    "df = dfo.loc[dfo.Orbit_type==\"Jupiter Trojan\"]\n",
    "df.to_csv('mpcorb_JT.csv', index=None)\n",
    "print(len(df))"
   ]
  },
  {
   "cell_type": "code",
   "execution_count": 3,
   "id": "1d61b7bb-fad3-4ef3-b5ae-49b09c423678",
   "metadata": {},
   "outputs": [],
   "source": [
    "from matplotlib.patches import Ellipse\n",
    "\n",
    "class DECamField(object):\n",
    "#\n",
    "    def __init__(self, pos):\n",
    "        self.ra = pos.ra.deg\n",
    "        self.dec = pos.dec.deg\n",
    "\n",
    "    def ellipse(self):\n",
    "        # An approximation to the DECam field of view, suitable e.g. for plotting\n",
    "        semimajor_deg = 1.08\n",
    "        semiminor_deg = 0.98\n",
    "        center = (self.ra, self.dec)\n",
    "        rotation = 0\n",
    "        return Ellipse(center, 2*semimajor_deg, 2*semiminor_deg, rotation, fill=False, ec='k')\n",
    "    \n",
    "    def contains(self, ra1, dec1):\n",
    "        # returns True if the point (ra1, dec1) lies inside the field\n",
    "        radiff = ra1-self.ra\n",
    "        if radiff > 360: radiff -= 2*360\n",
    "        return radiff**2/1.08**2 + (dec1-self.dec)**2/0.98**2 <= 1.0"
   ]
  },
  {
   "cell_type": "code",
   "execution_count": 4,
   "id": "af346340-854a-41c9-9adb-7afda0982853",
   "metadata": {},
   "outputs": [],
   "source": [
    "def give_ccd(date,expnum,pointings):\n",
    "    df = dfo.loc[dfo.Orbit_type==\"Jupiter Trojan\"]\n",
    "    rocks = SpaceRock(a=df.a.values, \n",
    "                  e=df.e.values, \n",
    "                  inc=df.i.values, \n",
    "                  arg=df.Peri.values, \n",
    "                  node=df.Node.values, \n",
    "                  t_peri=df.Tp.values, \n",
    "                  epoch=df.Epoch.values,\n",
    "                  H=df.H.values, \n",
    "                  name=df.Principal_desig.values.astype(str),\n",
    "                  precise=False,\n",
    "                  coordinates='keplerian',\n",
    "                  angles='degrees',\n",
    "                  frame='heliocentric',\n",
    "                  obscode='W84')\n",
    "    dates = Time(date, format='iso', scale='utc')\n",
    "    prop1 = rocks.propagate(dates.jd, model=1)\n",
    "    obs1o = prop1.observe('W84')\n",
    "    df['ra'] =obs1o.ra.deg \n",
    "    df['dec'] =obs1o.dec.deg \n",
    "    df['expnum']=expnum\n",
    "    ccd = []\n",
    "    for ind, row in df.iterrows():\n",
    "            target_pos = SkyCoord(row['ra'], row['dec'], frame='icrs', unit=(u.deg, u.deg))\n",
    "            ccdnam, ccdnum = compute_chip(target_pos.ra.radian, target_pos.dec.radian, pointings.ra.radian, pointings.dec.radian)\n",
    "            ccd.append(ccdnum)\n",
    "    df['ccd'] = ccd\n",
    "    df2 = df.loc[df.ccd>0]\n",
    "    return df2"
   ]
  },
  {
   "cell_type": "markdown",
   "id": "5d1a58f6-6457-4b17-b208-476959224716",
   "metadata": {},
   "source": [
    "### Get reliable JTs from DES"
   ]
  },
  {
   "cell_type": "code",
   "execution_count": 10,
   "id": "366e17ae-de89-4f93-a1bb-4a3e71dd954c",
   "metadata": {},
   "outputs": [],
   "source": [
    "desjt = pd.read_csv('DES_Trojans_mpc(2).csv')\n",
    "despo = pd.read_csv('DES pointing/DES_Y6A1_exposures.csv')"
   ]
  },
  {
   "cell_type": "code",
   "execution_count": 11,
   "id": "17d368bd-5dca-4798-bb67-8e846ad7aacf",
   "metadata": {},
   "outputs": [
    {
     "data": {
      "text/plain": [
       "143"
      ]
     },
     "execution_count": 11,
     "metadata": {},
     "output_type": "execute_result"
    },
    {
     "data": {
      "image/png": "[encoded data removed]",
      "text/plain": [
       "<Figure size 432x288 with 1 Axes>"
      ]
     },
     "metadata": {
      "needs_background": "light"
     },
     "output_type": "display_data"
    }
   ],
   "source": [
    "import matplotlib.pyplot as plt\n",
    "import seaborn as sns\n",
    "#This is nubmer of exposures for each objects\n",
    "nume = desjt.groupby('Principal_desig').size()\n",
    "#plot histogram for that.\n",
    "plt.hist(nume, color = 'blue', edgecolor = 'black',bins = 200)\n",
    "plt.title('Histogram of exposures')\n",
    "plt.xlabel('Number of exposures')\n",
    "plt.ylabel('Number')\n",
    "plt.xticks(np.arange(0, max(nume), 10.0))\n",
    "plt.grid()\n",
    "#np.average(nume[nume<20])\n",
    "len(nume[nume>20])\n",
    "#Looks to have many JTs with 6 exposures.\n",
    "#Many JTs with > 20 exposures "
   ]
  },
  {
   "cell_type": "code",
   "execution_count": 12,
   "id": "5dd688a9-cdee-4cb6-b2ae-1ffca552f4e2",
   "metadata": {},
   "outputs": [
    {
     "data": {
      "text/plain": [
       "151"
      ]
     },
     "execution_count": 12,
     "metadata": {},
     "output_type": "execute_result"
    }
   ],
   "source": [
    "len(nume[nume==1])"
   ]
  },
  {
   "cell_type": "code",
   "execution_count": 13,
   "id": "529d62a1-9c0e-46f9-b775-019838289b0b",
   "metadata": {},
   "outputs": [
    {
     "data": {
      "text/plain": [
       "143"
      ]
     },
     "execution_count": 13,
     "metadata": {},
     "output_type": "execute_result"
    }
   ],
   "source": [
    "len(nume[nume>20])"
   ]
  },
  {
   "cell_type": "markdown",
   "id": "497481de-9523-4992-8c42-1299b3d11bcb",
   "metadata": {},
   "source": [
    "### Plot band per objects"
   ]
  },
  {
   "cell_type": "code",
   "execution_count": 14,
   "id": "4d149ab1-5e02-44e4-b74b-2ee284ba7056",
   "metadata": {},
   "outputs": [
    {
     "data": {
      "text/plain": [
       "86"
      ]
     },
     "execution_count": 14,
     "metadata": {},
     "output_type": "execute_result"
    },
    {
     "data": {
      "image/png": "[encoded data removed]",
      "text/plain": [
       "<Figure size 432x288 with 1 Axes>"
      ]
     },
     "metadata": {
      "needs_background": "light"
     },
     "output_type": "display_data"
    },
    {
     "data": {
      "image/png": "[encoded data removed]",
      "text/plain": [
       "<Figure size 1555.2x777.6 with 6 Axes>"
      ]
     },
     "metadata": {
      "needs_background": "light"
     },
     "output_type": "display_data"
    }
   ],
   "source": [
    "desjt = pd.read_csv('DES_Trojans_mpc(2).csv')\n",
    "bande = desjt.groupby('BAND').size()\n",
    "#plot histogram for that.\n",
    "plt.figure(figsize=(6,4),frameon=False)\n",
    "plt.hist(desjt['BAND'], color = 'blue', edgecolor = 'black',bins = 100)\n",
    "plt.title('Histogram of exposures per band')\n",
    "plt.xlabel('Band')\n",
    "plt.ylabel('Number')\n",
    "plt.grid()\n",
    "\n",
    "plt.figure(figsize=(18*1.2,9*1.2),frameon=False)\n",
    "ax2=plt.subplot(231)\n",
    "gband = desjt.loc[desjt['BAND']==\"b'g'\"]\n",
    "nume = gband.groupby('Principal_desig').size()\n",
    "plt.hist(nume, color = 'blue', edgecolor = 'black',bins = 50)\n",
    "plt.title('Histogram of exposures per object in g band')\n",
    "plt.xlabel('Number of exposures')\n",
    "plt.ylabel('Number')\n",
    "plt.xticks(np.arange(0, max(nume), 2.0))\n",
    "plt.grid()\n",
    "\n",
    "ax2=plt.subplot(232)\n",
    "rband = desjt.loc[desjt['BAND']==\"b'r'\"]\n",
    "nume = rband.groupby('Principal_desig').size()\n",
    "plt.hist(nume, color = 'blue', edgecolor = 'black',bins = 50)\n",
    "plt.title('Histogram of exposures per object in r band')\n",
    "plt.xlabel('Number of exposures')\n",
    "plt.ylabel('Number')\n",
    "plt.xticks(np.arange(0, max(nume), 2.0))\n",
    "plt.grid()\n",
    "\n",
    "ax2=plt.subplot(233)\n",
    "iband = desjt.loc[desjt['BAND']==\"b'i'\"]\n",
    "nume = iband.groupby('Principal_desig').size()\n",
    "plt.hist(nume, color = 'blue', edgecolor = 'black',bins = 50)\n",
    "plt.title('Histogram of exposures per object in i band')\n",
    "plt.xlabel('Number of exposures')\n",
    "plt.ylabel('Number')\n",
    "plt.xticks(np.arange(0, max(nume), 2.0))\n",
    "plt.grid()\n",
    "\n",
    "ax2=plt.subplot(234)\n",
    "uband = desjt.loc[desjt['BAND']==\"b'u'\"]\n",
    "nume = uband.groupby('Principal_desig').size()\n",
    "plt.hist(nume, color = 'blue', edgecolor = 'black',bins = 50)\n",
    "plt.title('Histogram of exposures per object in u band')\n",
    "plt.xlabel('Number of exposures')\n",
    "plt.ylabel('Number')\n",
    "plt.xticks(np.arange(0, max(nume), 2.0))\n",
    "plt.grid()\n",
    "\n",
    "ax2=plt.subplot(235)\n",
    "Yband = desjt.loc[desjt['BAND']==\"b'z'\"]\n",
    "nume = Yband.groupby('Principal_desig').size()\n",
    "plt.hist(nume, color = 'blue', edgecolor = 'black',bins = 50)\n",
    "plt.title('Histogram of exposures per object in z band')\n",
    "plt.xlabel('Number of exposures')\n",
    "plt.ylabel('Number')\n",
    "plt.xticks(np.arange(0, max(nume), 5.0))\n",
    "plt.grid()\n",
    "plt.tight_layout()\n",
    "\n",
    "ax2=plt.subplot(236)\n",
    "Yband = desjt.loc[desjt['BAND']==\"b'Y'\"]\n",
    "nume = Yband.groupby('Principal_desig').size()\n",
    "plt.hist(nume, color = 'blue', edgecolor = 'black',bins = 50)\n",
    "plt.title('Histogram of exposures per object in Y band')\n",
    "plt.xlabel('Number of exposures')\n",
    "plt.ylabel('Number')\n",
    "plt.xticks(np.arange(0, max(nume), 2.0))\n",
    "plt.grid()\n",
    "plt.tight_layout()\n",
    "\n",
    "Yband = desjt.loc[desjt['BAND']==\"b'z'\"]\n",
    "nume = Yband.groupby('Principal_desig').size()\n",
    "max(nume)"
   ]
  },
  {
   "cell_type": "markdown",
   "id": "ce44b492-ae23-47d5-842f-780cdaec25c6",
   "metadata": {},
   "source": [
    "Now find objects that can be plotted as g - r, r - i or z - i"
   ]
  },
  {
   "cell_type": "code",
   "execution_count": 15,
   "id": "a197082d-19fe-42f4-a0e9-1c58338b4d35",
   "metadata": {},
   "outputs": [
    {
     "name": "stdout",
     "output_type": "stream",
     "text": [
      "652\n",
      "507\n",
      "604\n",
      "658\n",
      "82\n"
     ]
    }
   ],
   "source": [
    "goodg = desjt.loc[(desjt['RA_3sigma']<2)&(desjt['DEC_3sigma']<2)&(desjt['BAND']==\"b'g'\")]['Principal_desig'].unique()\n",
    "goodr = desjt.loc[(desjt['RA_3sigma']<2)&(desjt['DEC_3sigma']<2)&(desjt['BAND']==\"b'r'\")]['Principal_desig'].unique()\n",
    "goodi = desjt.loc[(desjt['RA_3sigma']<2)&(desjt['DEC_3sigma']<2)&(desjt['BAND']==\"b'i'\")]['Principal_desig'].unique()\n",
    "goodz = desjt.loc[(desjt['RA_3sigma']<2)&(desjt['DEC_3sigma']<2)&(desjt['BAND']==\"b'z'\")]['Principal_desig'].unique()\n",
    "goodu = desjt.loc[(desjt['RA_3sigma']<2)&(desjt['DEC_3sigma']<2)&(desjt['BAND']==\"b'u'\")]['Principal_desig'].unique()\n",
    "print(len(goodg))\n",
    "print(len(goodr))\n",
    "print(len(goodi))\n",
    "print(len(goodz))\n",
    "print(len(goodu))"
   ]
  },
  {
   "cell_type": "code",
   "execution_count": 16,
   "id": "4c6e956a-7943-4cd0-b0db-2476969eb949",
   "metadata": {},
   "outputs": [
    {
     "name": "stdout",
     "output_type": "stream",
     "text": [
      "g-r 462\n",
      "r-i 456\n",
      "z-i 524\n",
      "u-g 19\n",
      "z-r 416\n",
      "z-g 489\n",
      "g-r&r-i 421\n",
      "g-r&z-i 365\n",
      "r-i&z-i 395\n",
      "g-r&z-g 381\n",
      "g-r&z-r 381\n"
     ]
    },
    {
     "data": {
      "image/png": "[encoded data removed]",
      "text/plain": [
       "<Figure size 1152x360 with 3 Axes>"
      ]
     },
     "metadata": {
      "needs_background": "light"
     },
     "output_type": "display_data"
    }
   ],
   "source": [
    "grgood = []\n",
    "for i in goodg:\n",
    "    for a in goodr:\n",
    "        if i == a: \n",
    "            grgood.append(i)\n",
    "print('g-r',len(grgood))\n",
    "\n",
    "rigood = []\n",
    "for i in goodi:\n",
    "    for a in goodr:\n",
    "        if i == a: \n",
    "            rigood.append(i)\n",
    "print('r-i',len(rigood))\n",
    "\n",
    "zigood = []\n",
    "for i in goodz:\n",
    "    for a in goodi:\n",
    "        if i == a: \n",
    "            zigood.append(i)\n",
    "print('z-i',len(zigood))\n",
    "\n",
    "uggood = []\n",
    "for i in goodu:\n",
    "    for a in goodg:\n",
    "        if i == a: \n",
    "            uggood.append(i)\n",
    "print('u-g',len(uggood))\n",
    "\n",
    "zrgood = []\n",
    "for i in goodz:\n",
    "    for a in goodr:\n",
    "        if i == a: \n",
    "            zrgood.append(i)\n",
    "print('z-r',len(zrgood))\n",
    "\n",
    "zggood = []\n",
    "for i in goodz:\n",
    "    for a in goodg:\n",
    "        if i == a: \n",
    "            zggood.append(i)\n",
    "print('z-g',len(zggood))\n",
    "\n",
    "grrigood = []\n",
    "for i in grgood:\n",
    "    for a in rigood:\n",
    "        if i == a: \n",
    "            grrigood.append(i)\n",
    "LL = []\n",
    "for b in grrigood:\n",
    "    l = desjt.loc[desjt['Principal_desig'] == b]['Ln'].unique()\n",
    "    l = l[0]\n",
    "    LL.append(l)\n",
    "#print(LL)\n",
    "print('g-r&r-i',len(grrigood))\n",
    "plt.figure(figsize=(16,5),frameon=False)\n",
    "ax2=plt.subplot(131)\n",
    "plt.hist(LL, color = 'blue', edgecolor = 'black',bins = 100)\n",
    "plt.title('Histogram of Ln in g-r & r -i')\n",
    "plt.xlabel('Ln')\n",
    "plt.ylabel('Number in exposures')\n",
    "plt.grid()\n",
    "\n",
    "grzigood = []\n",
    "for i in grgood:\n",
    "    for a in zigood:\n",
    "        if i == a: \n",
    "            grzigood.append(i)\n",
    "print('g-r&z-i',len(grzigood))\n",
    "LL = []\n",
    "for b in grzigood:\n",
    "    l = desjt.loc[desjt['Principal_desig'] == b]['Ln'].unique()\n",
    "    l = l[0]\n",
    "    LL.append(l)\n",
    "ax2=plt.subplot(132)\n",
    "plt.hist(LL, color = 'blue', edgecolor = 'black',bins = 100)\n",
    "plt.title('Histogram of Ln in g-r&z-i')\n",
    "plt.xlabel('Ln')\n",
    "plt.ylabel('Number in exposures')\n",
    "plt.grid()\n",
    "\n",
    "rizigood = []\n",
    "for i in rigood:\n",
    "    for a in zigood:\n",
    "        if i == a: \n",
    "            rizigood.append(i)\n",
    "print('r-i&z-i',len(rizigood))\n",
    "LL = []\n",
    "for b in rizigood:\n",
    "    l = desjt.loc[desjt['Principal_desig'] == b]['Ln'].unique()\n",
    "    l = l[0]\n",
    "    LL.append(l)\n",
    "ax2=plt.subplot(133)\n",
    "plt.hist(LL, color = 'blue', edgecolor = 'black',bins = 100)\n",
    "plt.title('Histogram of Ln in r-i&z-i')\n",
    "plt.xlabel('Ln')\n",
    "plt.ylabel('Number in exposures')\n",
    "plt.grid()\n",
    "\n",
    "grzggood = []\n",
    "for i in grgood:\n",
    "    for a in zggood:\n",
    "        if i == a: \n",
    "            grzggood.append(i)\n",
    "print('g-r&z-g',len(grzggood))\n",
    "\n",
    "grzrgood = []\n",
    "for i in grgood:\n",
    "    for a in zrgood:\n",
    "        if i == a: \n",
    "            grzrgood.append(i)\n",
    "print('g-r&z-r',len(grzrgood))"
   ]
  },
  {
   "cell_type": "code",
   "execution_count": 17,
   "id": "c885860b-b5e5-4039-b55e-a30c311993f0",
   "metadata": {},
   "outputs": [],
   "source": [
    "# Store some good JTs\n",
    "goodjt = pd.DataFrame()\n",
    "goo = []\n",
    "desjj = desjt.values.tolist()\n",
    "for i in desjj:\n",
    "    najt = i[1]\n",
    "    for j in grzigood:\n",
    "\n",
    "        if najt == j:\n",
    "            goo.append(i)\n",
    "#print(goodjt)\n",
    "#goodjt[['']]\n",
    "#print(goo)"
   ]
  },
  {
   "cell_type": "code",
   "execution_count": 18,
   "id": "00e66416-1b3d-4d9e-aa19-a59df99acae7",
   "metadata": {},
   "outputs": [],
   "source": [
    "goodjt = pd.DataFrame()\n",
    "exp = []\n",
    "na =[]\n",
    "ra=[]\n",
    "dec=[]\n",
    "ccd=[]\n",
    "Band = []\n",
    "date = []\n",
    "U = []\n",
    "delra = []\n",
    "deldec = []\n",
    "L = []\n",
    "for i in goo:\n",
    "    exp.append(i[0])\n",
    "    na.append(i[1])\n",
    "    ra.append(i[2])\n",
    "    dec.append(i[3])\n",
    "    ccd.append(i[4])\n",
    "    Band.append(i[5])\n",
    "    date.append(i[6])\n",
    "    U.append(i[7])\n",
    "    delra.append(i[8])\n",
    "    deldec.append(i[9])\n",
    "    L.append(i[11])"
   ]
  },
  {
   "cell_type": "code",
   "execution_count": 44,
   "id": "6b443d8d-9d79-4272-92f9-ef45bb9be052",
   "metadata": {},
   "outputs": [],
   "source": [
    "#goo"
   ]
  },
  {
   "cell_type": "code",
   "execution_count": 45,
   "id": "194e1e3f-804e-42b0-ae50-5042336450db",
   "metadata": {},
   "outputs": [
    {
     "data": {
      "text/html": [
       "<div>\n",
       "<style scoped>\n",
       "    .dataframe tbody tr th:only-of-type {\n",
       "        vertical-align: middle;\n",
       "    }\n",
       "\n",
       "    .dataframe tbody tr th {\n",
       "        vertical-align: top;\n",
       "    }\n",
       "\n",
       "    .dataframe thead th {\n",
       "        text-align: right;\n",
       "    }\n",
       "</style>\n",
       "<table border=\"1\" class=\"dataframe\">\n",
       "  <thead>\n",
       "    <tr style=\"text-align: right;\">\n",
       "      <th></th>\n",
       "      <th>(expnum, Principal_desig, ra, dec, ccd, BAND, DATE_OBS, U, RA_3sigma, DEC_3sigma, Ln)</th>\n",
       "    </tr>\n",
       "  </thead>\n",
       "  <tbody>\n",
       "    <tr>\n",
       "      <th>0</th>\n",
       "      <td>[398230, 1971 FF, 33.36053299832449, 4.0916818...</td>\n",
       "    </tr>\n",
       "    <tr>\n",
       "      <th>1</th>\n",
       "      <td>[398232, 1971 FF, 33.36066774840785, 4.0918184...</td>\n",
       "    </tr>\n",
       "    <tr>\n",
       "      <th>2</th>\n",
       "      <td>[229724, 1971 FF, 8.352986116683855, -3.065866...</td>\n",
       "    </tr>\n",
       "    <tr>\n",
       "      <th>3</th>\n",
       "      <td>[231945, 1971 FF, 7.702020272614733, -3.504680...</td>\n",
       "    </tr>\n",
       "    <tr>\n",
       "      <th>4</th>\n",
       "      <td>[233119, 1971 FF, 7.399927380969678, -3.696634...</td>\n",
       "    </tr>\n",
       "    <tr>\n",
       "      <th>...</th>\n",
       "      <td>...</td>\n",
       "    </tr>\n",
       "    <tr>\n",
       "      <th>8621</th>\n",
       "      <td>[258896, 2021 JW21, 40.44667858522249, -6.5755...</td>\n",
       "    </tr>\n",
       "    <tr>\n",
       "      <th>8622</th>\n",
       "      <td>[259343, 2021 JW21, 40.36075921256722, -6.6013...</td>\n",
       "    </tr>\n",
       "    <tr>\n",
       "      <th>8623</th>\n",
       "      <td>[266566, 2021 JW21, 39.03771336836945, -6.8031...</td>\n",
       "    </tr>\n",
       "    <tr>\n",
       "      <th>8624</th>\n",
       "      <td>[266567, 2021 JW21, 39.03764062520296, -6.8031...</td>\n",
       "    </tr>\n",
       "    <tr>\n",
       "      <th>8625</th>\n",
       "      <td>[279778, 2021 JW21, 39.48536041614857, -5.4429...</td>\n",
       "    </tr>\n",
       "  </tbody>\n",
       "</table>\n",
       "<p>8626 rows × 1 columns</p>\n",
       "</div>"
      ],
      "text/plain": [
       "     (expnum, Principal_desig, ra, dec, ccd, BAND, DATE_OBS, U, RA_3sigma, DEC_3sigma, Ln)\n",
       "0     [398230, 1971 FF, 33.36053299832449, 4.0916818...                                   \n",
       "1     [398232, 1971 FF, 33.36066774840785, 4.0918184...                                   \n",
       "2     [229724, 1971 FF, 8.352986116683855, -3.065866...                                   \n",
       "3     [231945, 1971 FF, 7.702020272614733, -3.504680...                                   \n",
       "4     [233119, 1971 FF, 7.399927380969678, -3.696634...                                   \n",
       "...                                                 ...                                   \n",
       "8621  [258896, 2021 JW21, 40.44667858522249, -6.5755...                                   \n",
       "8622  [259343, 2021 JW21, 40.36075921256722, -6.6013...                                   \n",
       "8623  [266566, 2021 JW21, 39.03771336836945, -6.8031...                                   \n",
       "8624  [266567, 2021 JW21, 39.03764062520296, -6.8031...                                   \n",
       "8625  [279778, 2021 JW21, 39.48536041614857, -5.4429...                                   \n",
       "\n",
       "[8626 rows x 1 columns]"
      ]
     },
     "execution_count": 45,
     "metadata": {},
     "output_type": "execute_result"
    }
   ],
   "source": [
    "#print(len(goo))\n",
    "goodjt = pd.DataFrame()\n",
    "goodjt['expnum','Principal_desig','ra','dec','ccd','BAND','DATE_OBS','U'\n",
    ",'RA_3sigma'\n",
    ",'DEC_3sigma'\n",
    ",'Ln'] = goo\n",
    "goodjt"
   ]
  },
  {
   "cell_type": "code",
   "execution_count": 19,
   "id": "b30aa088-ff28-49b5-9eb8-67637d36035e",
   "metadata": {},
   "outputs": [
    {
     "data": {
      "text/plain": [
       "365"
      ]
     },
     "execution_count": 19,
     "metadata": {},
     "output_type": "execute_result"
    }
   ],
   "source": [
    "goodjt['expnum'] = exp\n",
    "goodjt['Principal_desig'] =na\n",
    "goodjt['ra'] = ra\n",
    "goodjt['dec']=dec\n",
    "goodjt['ccd']=ccd\n",
    "goodjt['BAND']=Band\n",
    "goodjt['DATE_OBS']=date\n",
    "goodjt['U']=U\n",
    "goodjt['RA_3sigma']=delra\n",
    "goodjt['DEC_3sigma']=deldec\n",
    "goodjt['Ln']=L\n",
    "\n",
    "goodjt\n",
    "len(goodjt['Principal_desig'].unique())"
   ]
  },
  {
   "cell_type": "code",
   "execution_count": 20,
   "id": "d149d160-d845-49a3-8d71-3963ad973fce",
   "metadata": {},
   "outputs": [],
   "source": [
    "goodjt.to_csv('DES_GoodTrojans_mpc.csv', index=None)"
   ]
  },
  {
   "cell_type": "code",
   "execution_count": 21,
   "id": "9858ca99-26e5-4a98-9cc5-078a6b8a4d36",
   "metadata": {},
   "outputs": [
    {
     "data": {
      "text/plain": [
       "365"
      ]
     },
     "execution_count": 21,
     "metadata": {},
     "output_type": "execute_result"
    }
   ],
   "source": [
    "len(goodjt['Principal_desig'].unique())"
   ]
  },
  {
   "cell_type": "code",
   "execution_count": 22,
   "id": "2cd089ae-143d-4e9b-a717-4af3a7f95b06",
   "metadata": {},
   "outputs": [
    {
     "data": {
      "text/plain": [
       "366"
      ]
     },
     "execution_count": 22,
     "metadata": {},
     "output_type": "execute_result"
    }
   ],
   "source": [
    "#The old one\n",
    "#desjt2 = pd.read_csv('DES JTs/DES_GoodTrojans_mpc (1).csv')\n",
    "#len(desjt2['Principal_desig'].unique())\n",
    "\n"
   ]
  },
  {
   "cell_type": "markdown",
   "id": "1dfe2eec-26d5-42cf-b47f-87c33680f88d",
   "metadata": {},
   "source": [
    "### check the two JTs overlapping with DEEP: 2002 CH326 and 2014 UQ194\n",
    "Both are captued in all band of g, r, i, and z. 2002 CH326 also has u band."
   ]
  },
  {
   "cell_type": "code",
   "execution_count": 17,
   "id": "0d9227e6-d16e-44c5-b754-e83ffc898e81",
   "metadata": {},
   "outputs": [
    {
     "name": "stdout",
     "output_type": "stream",
     "text": [
      "True\n",
      "True\n",
      "True\n",
      "True\n",
      "True\n",
      "True\n",
      "True\n",
      "True\n",
      "True\n",
      "True\n",
      "No\n",
      "True\n",
      "['1999 RQ116', '1988 RY11', '2008 SA164', '2008 EK137', '2002 ET8', '2003 HN24', '2009 SN122', '2008 SY169', '2009 SS246', '2010 BH62', '2010 HU58', '2013 CC222', '2008 SB232', '2002 CH326', '2007 ET239', '2013 CK135', '2013 CX167', '2013 CK222', '2013 CH223']\n"
     ]
    }
   ],
   "source": [
    "if '2014 UQ194' in str(zigood):\n",
    "    print('True')\n",
    "else:\n",
    "        print('No') \n",
    "\n",
    "if '2002 CH326' in str(zigood):\n",
    "    print('True')\n",
    "else:\n",
    "        print('No')\n",
    "if '2014 UQ194' in str(grgood):\n",
    "    print('True')\n",
    "else:\n",
    "        print('No')    \n",
    "if '2002 CH326' in str(grgood):\n",
    "    print('True')\n",
    "else:\n",
    "        print('No')\n",
    "\n",
    "if '2014 UQ194' in str(rigood):\n",
    "    print('True')\n",
    "else:\n",
    "        print('No')    \n",
    "if '2002 CH326' in str(rigood):\n",
    "    print('True')\n",
    "else:\n",
    "        print('No')\n",
    "        \n",
    "if '2014 UQ194' in str(zrgood):\n",
    "    print('True')\n",
    "else:\n",
    "        print('No')    \n",
    "if '2002 CH326' in str(zrgood):\n",
    "    print('True')\n",
    "else:\n",
    "        print('No')\n",
    "\n",
    "    \n",
    "if '2014 UQ194' in str(zggood):\n",
    "    print('True')\n",
    "else:\n",
    "        print('No')    \n",
    "if '2002 CH326' in str(zggood):\n",
    "    print('True')\n",
    "else:\n",
    "        print('No')\n",
    "        \n",
    "if '2014 UQ194' in str(uggood):\n",
    "    print('True')\n",
    "else:\n",
    "        print('No')    \n",
    "if '2002 CH326' in str(uggood):\n",
    "    print('True')\n",
    "else:\n",
    "        print('No')\n",
    "print(uggood)"
   ]
  },
  {
   "cell_type": "code",
   "execution_count": null,
   "id": "1cfe1b33-8282-4a77-a83d-09ead898af20",
   "metadata": {},
   "outputs": [],
   "source": []
  },
  {
   "cell_type": "markdown",
   "id": "ef3cd314-d582-47ba-b232-7feebb85da4c",
   "metadata": {},
   "source": [
    "### Now plot u uncertainty from MPC"
   ]
  },
  {
   "cell_type": "code",
   "execution_count": 18,
   "id": "cfadfe96-09f1-4c3b-a7c2-fc51fc424cfe",
   "metadata": {},
   "outputs": [],
   "source": [
    "dfo = pd.read_csv('mpcorb_extended.csv')"
   ]
  },
  {
   "cell_type": "code",
   "execution_count": 19,
   "id": "90b80b4a-b3b7-4156-b093-c5e3963edf83",
   "metadata": {},
   "outputs": [
    {
     "data": {
      "image/png": "[encoded data removed]",
      "text/plain": [
       "<Figure size 432x288 with 1 Axes>"
      ]
     },
     "metadata": {
      "needs_background": "light"
     },
     "output_type": "display_data"
    }
   ],
   "source": [
    "desjt = pd.read_csv('DES_Trojans_mpc(2).csv')\n",
    "u = desjt['U'].values.tolist()\n",
    "plt.hist(u, color = 'blue', edgecolor = 'black',bins = 100)\n",
    "plt.title('Histogram of uncertainty')\n",
    "plt.xlabel('Uncertainty values')\n",
    "plt.ylabel('Number')\n",
    "plt.yticks(np.arange(0, 10000, 1000.0))\n",
    "plt.grid()\n",
    "#len(u[u<2])\n",
    "#About > 11000 smaller than 2 u uncertainty. Good."
   ]
  },
  {
   "cell_type": "code",
   "execution_count": 20,
   "id": "2d2db588-3f99-42b8-861a-b15f02e93eeb",
   "metadata": {},
   "outputs": [
    {
     "data": {
      "text/html": [
       "<div>\n",
       "<style scoped>\n",
       "    .dataframe tbody tr th:only-of-type {\n",
       "        vertical-align: middle;\n",
       "    }\n",
       "\n",
       "    .dataframe tbody tr th {\n",
       "        vertical-align: top;\n",
       "    }\n",
       "\n",
       "    .dataframe thead th {\n",
       "        text-align: right;\n",
       "    }\n",
       "</style>\n",
       "<table border=\"1\" class=\"dataframe\">\n",
       "  <thead>\n",
       "    <tr style=\"text-align: right;\">\n",
       "      <th></th>\n",
       "      <th>expnum</th>\n",
       "      <th>Principal_desig</th>\n",
       "      <th>ra</th>\n",
       "      <th>dec</th>\n",
       "      <th>ccd</th>\n",
       "      <th>BAND</th>\n",
       "      <th>DATE_OBS</th>\n",
       "      <th>U</th>\n",
       "      <th>RA_3sigma</th>\n",
       "      <th>DEC_3sigma</th>\n",
       "      <th>Ln</th>\n",
       "    </tr>\n",
       "  </thead>\n",
       "  <tbody>\n",
       "    <tr>\n",
       "      <th>0</th>\n",
       "      <td>398230</td>\n",
       "      <td>1971 FF</td>\n",
       "      <td>33.360533</td>\n",
       "      <td>4.091682</td>\n",
       "      <td>51</td>\n",
       "      <td>b'z'</td>\n",
       "      <td>b'2015-01-15T01:12:19.639544'</td>\n",
       "      <td>0.0</td>\n",
       "      <td>0.085</td>\n",
       "      <td>0.052</td>\n",
       "      <td>L5</td>\n",
       "    </tr>\n",
       "    <tr>\n",
       "      <th>1</th>\n",
       "      <td>398232</td>\n",
       "      <td>1971 FF</td>\n",
       "      <td>33.360668</td>\n",
       "      <td>4.091818</td>\n",
       "      <td>21</td>\n",
       "      <td>b'z'</td>\n",
       "      <td>b'2015-01-15T01:17:01.220886'</td>\n",
       "      <td>0.0</td>\n",
       "      <td>0.085</td>\n",
       "      <td>0.052</td>\n",
       "      <td>L5</td>\n",
       "    </tr>\n",
       "    <tr>\n",
       "      <th>2</th>\n",
       "      <td>229724</td>\n",
       "      <td>1971 FF</td>\n",
       "      <td>8.352986</td>\n",
       "      <td>-3.065867</td>\n",
       "      <td>47</td>\n",
       "      <td>b'g'</td>\n",
       "      <td>b'2013-09-02T08:22:25.719124'</td>\n",
       "      <td>0.0</td>\n",
       "      <td>0.085</td>\n",
       "      <td>0.052</td>\n",
       "      <td>L5</td>\n",
       "    </tr>\n",
       "    <tr>\n",
       "      <th>3</th>\n",
       "      <td>231945</td>\n",
       "      <td>1971 FF</td>\n",
       "      <td>7.702020</td>\n",
       "      <td>-3.504681</td>\n",
       "      <td>5</td>\n",
       "      <td>b'g'</td>\n",
       "      <td>b'2013-09-09T05:22:28.403233'</td>\n",
       "      <td>0.0</td>\n",
       "      <td>0.085</td>\n",
       "      <td>0.052</td>\n",
       "      <td>L5</td>\n",
       "    </tr>\n",
       "    <tr>\n",
       "      <th>4</th>\n",
       "      <td>233119</td>\n",
       "      <td>1971 FF</td>\n",
       "      <td>7.399927</td>\n",
       "      <td>-3.696635</td>\n",
       "      <td>37</td>\n",
       "      <td>b'Y'</td>\n",
       "      <td>b'2013-09-12T03:49:10.587528'</td>\n",
       "      <td>0.0</td>\n",
       "      <td>0.085</td>\n",
       "      <td>0.052</td>\n",
       "      <td>L5</td>\n",
       "    </tr>\n",
       "    <tr>\n",
       "      <th>...</th>\n",
       "      <td>...</td>\n",
       "      <td>...</td>\n",
       "      <td>...</td>\n",
       "      <td>...</td>\n",
       "      <td>...</td>\n",
       "      <td>...</td>\n",
       "      <td>...</td>\n",
       "      <td>...</td>\n",
       "      <td>...</td>\n",
       "      <td>...</td>\n",
       "      <td>...</td>\n",
       "    </tr>\n",
       "    <tr>\n",
       "      <th>13727</th>\n",
       "      <td>243514</td>\n",
       "      <td>2019 GH23</td>\n",
       "      <td>1.635546</td>\n",
       "      <td>0.945336</td>\n",
       "      <td>46</td>\n",
       "      <td>b'i'</td>\n",
       "      <td>b'2013-10-13T02:46:38.912962'</td>\n",
       "      <td>NaN</td>\n",
       "      <td>5225180.900</td>\n",
       "      <td>2171127.900</td>\n",
       "      <td>L5</td>\n",
       "    </tr>\n",
       "    <tr>\n",
       "      <th>13728</th>\n",
       "      <td>257225</td>\n",
       "      <td>2019 GH23</td>\n",
       "      <td>358.915776</td>\n",
       "      <td>-0.080070</td>\n",
       "      <td>30</td>\n",
       "      <td>b'g'</td>\n",
       "      <td>b'2013-11-22T01:35:45.448902'</td>\n",
       "      <td>NaN</td>\n",
       "      <td>5225180.900</td>\n",
       "      <td>2171127.900</td>\n",
       "      <td>L5</td>\n",
       "    </tr>\n",
       "    <tr>\n",
       "      <th>13729</th>\n",
       "      <td>257259</td>\n",
       "      <td>2019 GH23</td>\n",
       "      <td>358.915045</td>\n",
       "      <td>-0.080159</td>\n",
       "      <td>30</td>\n",
       "      <td>b'z'</td>\n",
       "      <td>b'2013-11-22T02:51:12.559943'</td>\n",
       "      <td>NaN</td>\n",
       "      <td>5225180.900</td>\n",
       "      <td>2171127.900</td>\n",
       "      <td>L5</td>\n",
       "    </tr>\n",
       "    <tr>\n",
       "      <th>13730</th>\n",
       "      <td>257466</td>\n",
       "      <td>2019 GH23</td>\n",
       "      <td>358.905774</td>\n",
       "      <td>-0.081153</td>\n",
       "      <td>33</td>\n",
       "      <td>b'r'</td>\n",
       "      <td>b'2013-11-23T02:06:45.168531'</td>\n",
       "      <td>NaN</td>\n",
       "      <td>5225180.900</td>\n",
       "      <td>2171127.900</td>\n",
       "      <td>L5</td>\n",
       "    </tr>\n",
       "    <tr>\n",
       "      <th>13731</th>\n",
       "      <td>262940</td>\n",
       "      <td>2019 GH23</td>\n",
       "      <td>359.317899</td>\n",
       "      <td>0.152033</td>\n",
       "      <td>51</td>\n",
       "      <td>b'Y'</td>\n",
       "      <td>b'2013-12-12T01:10:22.063477'</td>\n",
       "      <td>NaN</td>\n",
       "      <td>5225180.900</td>\n",
       "      <td>2171127.900</td>\n",
       "      <td>L5</td>\n",
       "    </tr>\n",
       "  </tbody>\n",
       "</table>\n",
       "<p>13732 rows × 11 columns</p>\n",
       "</div>"
      ],
      "text/plain": [
       "       expnum Principal_desig          ra       dec  ccd  BAND  \\\n",
       "0      398230         1971 FF   33.360533  4.091682   51  b'z'   \n",
       "1      398232         1971 FF   33.360668  4.091818   21  b'z'   \n",
       "2      229724         1971 FF    8.352986 -3.065867   47  b'g'   \n",
       "3      231945         1971 FF    7.702020 -3.504681    5  b'g'   \n",
       "4      233119         1971 FF    7.399927 -3.696635   37  b'Y'   \n",
       "...       ...             ...         ...       ...  ...   ...   \n",
       "13727  243514       2019 GH23    1.635546  0.945336   46  b'i'   \n",
       "13728  257225       2019 GH23  358.915776 -0.080070   30  b'g'   \n",
       "13729  257259       2019 GH23  358.915045 -0.080159   30  b'z'   \n",
       "13730  257466       2019 GH23  358.905774 -0.081153   33  b'r'   \n",
       "13731  262940       2019 GH23  359.317899  0.152033   51  b'Y'   \n",
       "\n",
       "                            DATE_OBS    U    RA_3sigma   DEC_3sigma  Ln  \n",
       "0      b'2015-01-15T01:12:19.639544'  0.0        0.085        0.052  L5  \n",
       "1      b'2015-01-15T01:17:01.220886'  0.0        0.085        0.052  L5  \n",
       "2      b'2013-09-02T08:22:25.719124'  0.0        0.085        0.052  L5  \n",
       "3      b'2013-09-09T05:22:28.403233'  0.0        0.085        0.052  L5  \n",
       "4      b'2013-09-12T03:49:10.587528'  0.0        0.085        0.052  L5  \n",
       "...                              ...  ...          ...          ...  ..  \n",
       "13727  b'2013-10-13T02:46:38.912962'  NaN  5225180.900  2171127.900  L5  \n",
       "13728  b'2013-11-22T01:35:45.448902'  NaN  5225180.900  2171127.900  L5  \n",
       "13729  b'2013-11-22T02:51:12.559943'  NaN  5225180.900  2171127.900  L5  \n",
       "13730  b'2013-11-23T02:06:45.168531'  NaN  5225180.900  2171127.900  L5  \n",
       "13731  b'2013-12-12T01:10:22.063477'  NaN  5225180.900  2171127.900  L5  \n",
       "\n",
       "[13732 rows x 11 columns]"
      ]
     },
     "execution_count": 20,
     "metadata": {},
     "output_type": "execute_result"
    }
   ],
   "source": [
    "desjt"
   ]
  },
  {
   "cell_type": "markdown",
   "id": "d0be0a90-c02a-49f7-b276-23b5a09a7042",
   "metadata": {},
   "source": [
    "### Separate JTs with L4 and L5"
   ]
  },
  {
   "cell_type": "code",
   "execution_count": 21,
   "id": "272322f9-6ca3-450b-a5bf-b54bf5b15bd2",
   "metadata": {},
   "outputs": [],
   "source": [
    "JT = pd.read_csv('DES JTs/List of Jupiter Trojans.csv')\n",
    "desjt = pd.read_csv('DES_Trojans_mpc(2).csv')"
   ]
  },
  {
   "cell_type": "code",
   "execution_count": 22,
   "id": "0e010f04-2609-409d-b9e9-14b8754a4125",
   "metadata": {},
   "outputs": [
    {
     "data": {
      "text/html": [
       "<div>\n",
       "<style scoped>\n",
       "    .dataframe tbody tr th:only-of-type {\n",
       "        vertical-align: middle;\n",
       "    }\n",
       "\n",
       "    .dataframe tbody tr th {\n",
       "        vertical-align: top;\n",
       "    }\n",
       "\n",
       "    .dataframe thead th {\n",
       "        text-align: right;\n",
       "    }\n",
       "</style>\n",
       "<table border=\"1\" class=\"dataframe\">\n",
       "  <thead>\n",
       "    <tr style=\"text-align: right;\">\n",
       "      <th></th>\n",
       "      <th>expnum</th>\n",
       "      <th>Principal_desig</th>\n",
       "      <th>ra</th>\n",
       "      <th>dec</th>\n",
       "      <th>ccd</th>\n",
       "      <th>BAND</th>\n",
       "      <th>DATE_OBS</th>\n",
       "      <th>U</th>\n",
       "      <th>RA_3sigma</th>\n",
       "      <th>DEC_3sigma</th>\n",
       "      <th>Ln</th>\n",
       "    </tr>\n",
       "  </thead>\n",
       "  <tbody>\n",
       "    <tr>\n",
       "      <th>0</th>\n",
       "      <td>398230</td>\n",
       "      <td>1971 FF</td>\n",
       "      <td>33.360533</td>\n",
       "      <td>4.091682</td>\n",
       "      <td>51</td>\n",
       "      <td>b'z'</td>\n",
       "      <td>b'2015-01-15T01:12:19.639544'</td>\n",
       "      <td>0.0</td>\n",
       "      <td>0.085</td>\n",
       "      <td>0.052</td>\n",
       "      <td>L5</td>\n",
       "    </tr>\n",
       "    <tr>\n",
       "      <th>1</th>\n",
       "      <td>398232</td>\n",
       "      <td>1971 FF</td>\n",
       "      <td>33.360668</td>\n",
       "      <td>4.091818</td>\n",
       "      <td>21</td>\n",
       "      <td>b'z'</td>\n",
       "      <td>b'2015-01-15T01:17:01.220886'</td>\n",
       "      <td>0.0</td>\n",
       "      <td>0.085</td>\n",
       "      <td>0.052</td>\n",
       "      <td>L5</td>\n",
       "    </tr>\n",
       "    <tr>\n",
       "      <th>2</th>\n",
       "      <td>229724</td>\n",
       "      <td>1971 FF</td>\n",
       "      <td>8.352986</td>\n",
       "      <td>-3.065867</td>\n",
       "      <td>47</td>\n",
       "      <td>b'g'</td>\n",
       "      <td>b'2013-09-02T08:22:25.719124'</td>\n",
       "      <td>0.0</td>\n",
       "      <td>0.085</td>\n",
       "      <td>0.052</td>\n",
       "      <td>L5</td>\n",
       "    </tr>\n",
       "    <tr>\n",
       "      <th>3</th>\n",
       "      <td>231945</td>\n",
       "      <td>1971 FF</td>\n",
       "      <td>7.702020</td>\n",
       "      <td>-3.504681</td>\n",
       "      <td>5</td>\n",
       "      <td>b'g'</td>\n",
       "      <td>b'2013-09-09T05:22:28.403233'</td>\n",
       "      <td>0.0</td>\n",
       "      <td>0.085</td>\n",
       "      <td>0.052</td>\n",
       "      <td>L5</td>\n",
       "    </tr>\n",
       "    <tr>\n",
       "      <th>4</th>\n",
       "      <td>233119</td>\n",
       "      <td>1971 FF</td>\n",
       "      <td>7.399927</td>\n",
       "      <td>-3.696635</td>\n",
       "      <td>37</td>\n",
       "      <td>b'Y'</td>\n",
       "      <td>b'2013-09-12T03:49:10.587528'</td>\n",
       "      <td>0.0</td>\n",
       "      <td>0.085</td>\n",
       "      <td>0.052</td>\n",
       "      <td>L5</td>\n",
       "    </tr>\n",
       "    <tr>\n",
       "      <th>...</th>\n",
       "      <td>...</td>\n",
       "      <td>...</td>\n",
       "      <td>...</td>\n",
       "      <td>...</td>\n",
       "      <td>...</td>\n",
       "      <td>...</td>\n",
       "      <td>...</td>\n",
       "      <td>...</td>\n",
       "      <td>...</td>\n",
       "      <td>...</td>\n",
       "      <td>...</td>\n",
       "    </tr>\n",
       "    <tr>\n",
       "      <th>13727</th>\n",
       "      <td>243514</td>\n",
       "      <td>2019 GH23</td>\n",
       "      <td>1.635546</td>\n",
       "      <td>0.945336</td>\n",
       "      <td>46</td>\n",
       "      <td>b'i'</td>\n",
       "      <td>b'2013-10-13T02:46:38.912962'</td>\n",
       "      <td>NaN</td>\n",
       "      <td>5225180.900</td>\n",
       "      <td>2171127.900</td>\n",
       "      <td>L5</td>\n",
       "    </tr>\n",
       "    <tr>\n",
       "      <th>13728</th>\n",
       "      <td>257225</td>\n",
       "      <td>2019 GH23</td>\n",
       "      <td>358.915776</td>\n",
       "      <td>-0.080070</td>\n",
       "      <td>30</td>\n",
       "      <td>b'g'</td>\n",
       "      <td>b'2013-11-22T01:35:45.448902'</td>\n",
       "      <td>NaN</td>\n",
       "      <td>5225180.900</td>\n",
       "      <td>2171127.900</td>\n",
       "      <td>L5</td>\n",
       "    </tr>\n",
       "    <tr>\n",
       "      <th>13729</th>\n",
       "      <td>257259</td>\n",
       "      <td>2019 GH23</td>\n",
       "      <td>358.915045</td>\n",
       "      <td>-0.080159</td>\n",
       "      <td>30</td>\n",
       "      <td>b'z'</td>\n",
       "      <td>b'2013-11-22T02:51:12.559943'</td>\n",
       "      <td>NaN</td>\n",
       "      <td>5225180.900</td>\n",
       "      <td>2171127.900</td>\n",
       "      <td>L5</td>\n",
       "    </tr>\n",
       "    <tr>\n",
       "      <th>13730</th>\n",
       "      <td>257466</td>\n",
       "      <td>2019 GH23</td>\n",
       "      <td>358.905774</td>\n",
       "      <td>-0.081153</td>\n",
       "      <td>33</td>\n",
       "      <td>b'r'</td>\n",
       "      <td>b'2013-11-23T02:06:45.168531'</td>\n",
       "      <td>NaN</td>\n",
       "      <td>5225180.900</td>\n",
       "      <td>2171127.900</td>\n",
       "      <td>L5</td>\n",
       "    </tr>\n",
       "    <tr>\n",
       "      <th>13731</th>\n",
       "      <td>262940</td>\n",
       "      <td>2019 GH23</td>\n",
       "      <td>359.317899</td>\n",
       "      <td>0.152033</td>\n",
       "      <td>51</td>\n",
       "      <td>b'Y'</td>\n",
       "      <td>b'2013-12-12T01:10:22.063477'</td>\n",
       "      <td>NaN</td>\n",
       "      <td>5225180.900</td>\n",
       "      <td>2171127.900</td>\n",
       "      <td>L5</td>\n",
       "    </tr>\n",
       "  </tbody>\n",
       "</table>\n",
       "<p>13732 rows × 11 columns</p>\n",
       "</div>"
      ],
      "text/plain": [
       "       expnum Principal_desig          ra       dec  ccd  BAND  \\\n",
       "0      398230         1971 FF   33.360533  4.091682   51  b'z'   \n",
       "1      398232         1971 FF   33.360668  4.091818   21  b'z'   \n",
       "2      229724         1971 FF    8.352986 -3.065867   47  b'g'   \n",
       "3      231945         1971 FF    7.702020 -3.504681    5  b'g'   \n",
       "4      233119         1971 FF    7.399927 -3.696635   37  b'Y'   \n",
       "...       ...             ...         ...       ...  ...   ...   \n",
       "13727  243514       2019 GH23    1.635546  0.945336   46  b'i'   \n",
       "13728  257225       2019 GH23  358.915776 -0.080070   30  b'g'   \n",
       "13729  257259       2019 GH23  358.915045 -0.080159   30  b'z'   \n",
       "13730  257466       2019 GH23  358.905774 -0.081153   33  b'r'   \n",
       "13731  262940       2019 GH23  359.317899  0.152033   51  b'Y'   \n",
       "\n",
       "                            DATE_OBS    U    RA_3sigma   DEC_3sigma  Ln  \n",
       "0      b'2015-01-15T01:12:19.639544'  0.0        0.085        0.052  L5  \n",
       "1      b'2015-01-15T01:17:01.220886'  0.0        0.085        0.052  L5  \n",
       "2      b'2013-09-02T08:22:25.719124'  0.0        0.085        0.052  L5  \n",
       "3      b'2013-09-09T05:22:28.403233'  0.0        0.085        0.052  L5  \n",
       "4      b'2013-09-12T03:49:10.587528'  0.0        0.085        0.052  L5  \n",
       "...                              ...  ...          ...          ...  ..  \n",
       "13727  b'2013-10-13T02:46:38.912962'  NaN  5225180.900  2171127.900  L5  \n",
       "13728  b'2013-11-22T01:35:45.448902'  NaN  5225180.900  2171127.900  L5  \n",
       "13729  b'2013-11-22T02:51:12.559943'  NaN  5225180.900  2171127.900  L5  \n",
       "13730  b'2013-11-23T02:06:45.168531'  NaN  5225180.900  2171127.900  L5  \n",
       "13731  b'2013-12-12T01:10:22.063477'  NaN  5225180.900  2171127.900  L5  \n",
       "\n",
       "[13732 rows x 11 columns]"
      ]
     },
     "execution_count": 22,
     "metadata": {},
     "output_type": "execute_result"
    }
   ],
   "source": [
    "desjt"
   ]
  },
  {
   "cell_type": "code",
   "execution_count": 23,
   "id": "d6579a80-34fc-4514-beae-95b38015b62a",
   "metadata": {},
   "outputs": [],
   "source": [
    "a = JT.values.tolist()\n",
    "for i in a:\n",
    "    name = i[4]\n",
    "    Ln = i[5]\n",
    "    desjt.loc[desjt['Principal_desig'] == name, 'Ln'] = Ln"
   ]
  },
  {
   "cell_type": "code",
   "execution_count": 24,
   "id": "4e47b294-35d4-474f-a3c1-ca6bea2c54e8",
   "metadata": {},
   "outputs": [
    {
     "data": {
      "text/plain": [
       "11113"
      ]
     },
     "execution_count": 24,
     "metadata": {},
     "output_type": "execute_result"
    }
   ],
   "source": [
    "len(desjt.loc[desjt['Ln']=='L5'])"
   ]
  },
  {
   "cell_type": "code",
   "execution_count": 25,
   "id": "0e54b1aa-5c82-4515-b8b0-8b265d04e3b0",
   "metadata": {},
   "outputs": [
    {
     "data": {
      "text/plain": [
       "2277"
      ]
     },
     "execution_count": 25,
     "metadata": {},
     "output_type": "execute_result"
    }
   ],
   "source": [
    "len(desjt.loc[desjt['Ln']=='L4'])"
   ]
  },
  {
   "cell_type": "code",
   "execution_count": 26,
   "id": "0cbda4d4-6909-45b9-a199-680ecd4f2ef4",
   "metadata": {},
   "outputs": [
    {
     "data": {
      "text/plain": [
       "13732"
      ]
     },
     "execution_count": 26,
     "metadata": {},
     "output_type": "execute_result"
    }
   ],
   "source": [
    "len(desjt)"
   ]
  },
  {
   "cell_type": "code",
   "execution_count": 27,
   "id": "456f235e-e1d4-4f96-9d93-c24e4903c9fb",
   "metadata": {},
   "outputs": [
    {
     "data": {
      "text/html": [
       "<div>\n",
       "<style scoped>\n",
       "    .dataframe tbody tr th:only-of-type {\n",
       "        vertical-align: middle;\n",
       "    }\n",
       "\n",
       "    .dataframe tbody tr th {\n",
       "        vertical-align: top;\n",
       "    }\n",
       "\n",
       "    .dataframe thead th {\n",
       "        text-align: right;\n",
       "    }\n",
       "</style>\n",
       "<table border=\"1\" class=\"dataframe\">\n",
       "  <thead>\n",
       "    <tr style=\"text-align: right;\">\n",
       "      <th></th>\n",
       "      <th>expnum</th>\n",
       "      <th>Principal_desig</th>\n",
       "      <th>ra</th>\n",
       "      <th>dec</th>\n",
       "      <th>ccd</th>\n",
       "      <th>BAND</th>\n",
       "      <th>DATE_OBS</th>\n",
       "      <th>U</th>\n",
       "      <th>RA_3sigma</th>\n",
       "      <th>DEC_3sigma</th>\n",
       "      <th>Ln</th>\n",
       "    </tr>\n",
       "  </thead>\n",
       "  <tbody>\n",
       "    <tr>\n",
       "      <th>0</th>\n",
       "      <td>398230</td>\n",
       "      <td>1971 FF</td>\n",
       "      <td>33.360533</td>\n",
       "      <td>4.091682</td>\n",
       "      <td>51</td>\n",
       "      <td>b'z'</td>\n",
       "      <td>b'2015-01-15T01:12:19.639544'</td>\n",
       "      <td>0.0</td>\n",
       "      <td>0.085</td>\n",
       "      <td>0.052</td>\n",
       "      <td>L5</td>\n",
       "    </tr>\n",
       "    <tr>\n",
       "      <th>1</th>\n",
       "      <td>398232</td>\n",
       "      <td>1971 FF</td>\n",
       "      <td>33.360668</td>\n",
       "      <td>4.091818</td>\n",
       "      <td>21</td>\n",
       "      <td>b'z'</td>\n",
       "      <td>b'2015-01-15T01:17:01.220886'</td>\n",
       "      <td>0.0</td>\n",
       "      <td>0.085</td>\n",
       "      <td>0.052</td>\n",
       "      <td>L5</td>\n",
       "    </tr>\n",
       "    <tr>\n",
       "      <th>2</th>\n",
       "      <td>229724</td>\n",
       "      <td>1971 FF</td>\n",
       "      <td>8.352986</td>\n",
       "      <td>-3.065867</td>\n",
       "      <td>47</td>\n",
       "      <td>b'g'</td>\n",
       "      <td>b'2013-09-02T08:22:25.719124'</td>\n",
       "      <td>0.0</td>\n",
       "      <td>0.085</td>\n",
       "      <td>0.052</td>\n",
       "      <td>L5</td>\n",
       "    </tr>\n",
       "    <tr>\n",
       "      <th>3</th>\n",
       "      <td>231945</td>\n",
       "      <td>1971 FF</td>\n",
       "      <td>7.702020</td>\n",
       "      <td>-3.504681</td>\n",
       "      <td>5</td>\n",
       "      <td>b'g'</td>\n",
       "      <td>b'2013-09-09T05:22:28.403233'</td>\n",
       "      <td>0.0</td>\n",
       "      <td>0.085</td>\n",
       "      <td>0.052</td>\n",
       "      <td>L5</td>\n",
       "    </tr>\n",
       "    <tr>\n",
       "      <th>4</th>\n",
       "      <td>233119</td>\n",
       "      <td>1971 FF</td>\n",
       "      <td>7.399927</td>\n",
       "      <td>-3.696635</td>\n",
       "      <td>37</td>\n",
       "      <td>b'Y'</td>\n",
       "      <td>b'2013-09-12T03:49:10.587528'</td>\n",
       "      <td>0.0</td>\n",
       "      <td>0.085</td>\n",
       "      <td>0.052</td>\n",
       "      <td>L5</td>\n",
       "    </tr>\n",
       "    <tr>\n",
       "      <th>...</th>\n",
       "      <td>...</td>\n",
       "      <td>...</td>\n",
       "      <td>...</td>\n",
       "      <td>...</td>\n",
       "      <td>...</td>\n",
       "      <td>...</td>\n",
       "      <td>...</td>\n",
       "      <td>...</td>\n",
       "      <td>...</td>\n",
       "      <td>...</td>\n",
       "      <td>...</td>\n",
       "    </tr>\n",
       "    <tr>\n",
       "      <th>13727</th>\n",
       "      <td>243514</td>\n",
       "      <td>2019 GH23</td>\n",
       "      <td>1.635546</td>\n",
       "      <td>0.945336</td>\n",
       "      <td>46</td>\n",
       "      <td>b'i'</td>\n",
       "      <td>b'2013-10-13T02:46:38.912962'</td>\n",
       "      <td>NaN</td>\n",
       "      <td>5225180.900</td>\n",
       "      <td>2171127.900</td>\n",
       "      <td>L5</td>\n",
       "    </tr>\n",
       "    <tr>\n",
       "      <th>13728</th>\n",
       "      <td>257225</td>\n",
       "      <td>2019 GH23</td>\n",
       "      <td>358.915776</td>\n",
       "      <td>-0.080070</td>\n",
       "      <td>30</td>\n",
       "      <td>b'g'</td>\n",
       "      <td>b'2013-11-22T01:35:45.448902'</td>\n",
       "      <td>NaN</td>\n",
       "      <td>5225180.900</td>\n",
       "      <td>2171127.900</td>\n",
       "      <td>L5</td>\n",
       "    </tr>\n",
       "    <tr>\n",
       "      <th>13729</th>\n",
       "      <td>257259</td>\n",
       "      <td>2019 GH23</td>\n",
       "      <td>358.915045</td>\n",
       "      <td>-0.080159</td>\n",
       "      <td>30</td>\n",
       "      <td>b'z'</td>\n",
       "      <td>b'2013-11-22T02:51:12.559943'</td>\n",
       "      <td>NaN</td>\n",
       "      <td>5225180.900</td>\n",
       "      <td>2171127.900</td>\n",
       "      <td>L5</td>\n",
       "    </tr>\n",
       "    <tr>\n",
       "      <th>13730</th>\n",
       "      <td>257466</td>\n",
       "      <td>2019 GH23</td>\n",
       "      <td>358.905774</td>\n",
       "      <td>-0.081153</td>\n",
       "      <td>33</td>\n",
       "      <td>b'r'</td>\n",
       "      <td>b'2013-11-23T02:06:45.168531'</td>\n",
       "      <td>NaN</td>\n",
       "      <td>5225180.900</td>\n",
       "      <td>2171127.900</td>\n",
       "      <td>L5</td>\n",
       "    </tr>\n",
       "    <tr>\n",
       "      <th>13731</th>\n",
       "      <td>262940</td>\n",
       "      <td>2019 GH23</td>\n",
       "      <td>359.317899</td>\n",
       "      <td>0.152033</td>\n",
       "      <td>51</td>\n",
       "      <td>b'Y'</td>\n",
       "      <td>b'2013-12-12T01:10:22.063477'</td>\n",
       "      <td>NaN</td>\n",
       "      <td>5225180.900</td>\n",
       "      <td>2171127.900</td>\n",
       "      <td>L5</td>\n",
       "    </tr>\n",
       "  </tbody>\n",
       "</table>\n",
       "<p>13732 rows × 11 columns</p>\n",
       "</div>"
      ],
      "text/plain": [
       "       expnum Principal_desig          ra       dec  ccd  BAND  \\\n",
       "0      398230         1971 FF   33.360533  4.091682   51  b'z'   \n",
       "1      398232         1971 FF   33.360668  4.091818   21  b'z'   \n",
       "2      229724         1971 FF    8.352986 -3.065867   47  b'g'   \n",
       "3      231945         1971 FF    7.702020 -3.504681    5  b'g'   \n",
       "4      233119         1971 FF    7.399927 -3.696635   37  b'Y'   \n",
       "...       ...             ...         ...       ...  ...   ...   \n",
       "13727  243514       2019 GH23    1.635546  0.945336   46  b'i'   \n",
       "13728  257225       2019 GH23  358.915776 -0.080070   30  b'g'   \n",
       "13729  257259       2019 GH23  358.915045 -0.080159   30  b'z'   \n",
       "13730  257466       2019 GH23  358.905774 -0.081153   33  b'r'   \n",
       "13731  262940       2019 GH23  359.317899  0.152033   51  b'Y'   \n",
       "\n",
       "                            DATE_OBS    U    RA_3sigma   DEC_3sigma  Ln  \n",
       "0      b'2015-01-15T01:12:19.639544'  0.0        0.085        0.052  L5  \n",
       "1      b'2015-01-15T01:17:01.220886'  0.0        0.085        0.052  L5  \n",
       "2      b'2013-09-02T08:22:25.719124'  0.0        0.085        0.052  L5  \n",
       "3      b'2013-09-09T05:22:28.403233'  0.0        0.085        0.052  L5  \n",
       "4      b'2013-09-12T03:49:10.587528'  0.0        0.085        0.052  L5  \n",
       "...                              ...  ...          ...          ...  ..  \n",
       "13727  b'2013-10-13T02:46:38.912962'  NaN  5225180.900  2171127.900  L5  \n",
       "13728  b'2013-11-22T01:35:45.448902'  NaN  5225180.900  2171127.900  L5  \n",
       "13729  b'2013-11-22T02:51:12.559943'  NaN  5225180.900  2171127.900  L5  \n",
       "13730  b'2013-11-23T02:06:45.168531'  NaN  5225180.900  2171127.900  L5  \n",
       "13731  b'2013-12-12T01:10:22.063477'  NaN  5225180.900  2171127.900  L5  \n",
       "\n",
       "[13732 rows x 11 columns]"
      ]
     },
     "execution_count": 27,
     "metadata": {},
     "output_type": "execute_result"
    }
   ],
   "source": [
    "desjt"
   ]
  },
  {
   "cell_type": "code",
   "execution_count": 28,
   "id": "2af05d17-dc9a-472a-8244-4e14bfab269e",
   "metadata": {},
   "outputs": [],
   "source": [
    "#desjt[['Principal_desig','Ln']]\n",
    "L4 = desjt.loc[desjt['Ln']==\"L4\"]\n",
    "nume = L4.groupby('Principal_desig').size()"
   ]
  },
  {
   "cell_type": "code",
   "execution_count": 29,
   "id": "e330cc49-d2cb-4179-8590-bb213c9adaf6",
   "metadata": {},
   "outputs": [
    {
     "data": {
      "image/png": "[encoded data removed]",
      "text/plain": [
       "<Figure size 432x288 with 1 Axes>"
      ]
     },
     "metadata": {
      "needs_background": "light"
     },
     "output_type": "display_data"
    }
   ],
   "source": [
    "l = desjt['Ln'].values.tolist()\n",
    "plt.hist(l, color = 'blue', edgecolor = 'black',bins = 100)\n",
    "plt.title('Histogram of Ln')\n",
    "plt.xlabel('Ln')\n",
    "plt.ylabel('Number in exposures')\n",
    "plt.grid()\n",
    "# L5 11113\n",
    "# L4 2277\n",
    "# 385 nan"
   ]
  },
  {
   "cell_type": "code",
   "execution_count": 67,
   "id": "c8cc12fe-596a-44a5-96ca-c1f46d919f3c",
   "metadata": {},
   "outputs": [
    {
     "data": {
      "text/plain": [
       "1088"
      ]
     },
     "execution_count": 67,
     "metadata": {},
     "output_type": "execute_result"
    }
   ],
   "source": [
    "num = desjt['Principal_desig'].unique()\n",
    "len(num)"
   ]
  },
  {
   "cell_type": "code",
   "execution_count": 33,
   "id": "3a03ccd4-eb38-4f13-ae11-ac6ea047e600",
   "metadata": {},
   "outputs": [
    {
     "ename": "NameError",
     "evalue": "name 'JT' is not defined",
     "output_type": "error",
     "traceback": [
      "\u001b[0;31m---------------------------------------------------------------------------\u001b[0m",
      "\u001b[0;31mNameError\u001b[0m                                 Traceback (most recent call last)",
      "\u001b[0;32m<ipython-input-33-3b0e24fa3686>\u001b[0m in \u001b[0;36m<module>\u001b[0;34m\u001b[0m\n\u001b[1;32m      1\u001b[0m \u001b[0;31m# Now for each object\u001b[0m\u001b[0;34m\u001b[0m\u001b[0;34m\u001b[0m\u001b[0;34m\u001b[0m\u001b[0m\n\u001b[0;32m----> 2\u001b[0;31m \u001b[0ma\u001b[0m \u001b[0;34m=\u001b[0m \u001b[0mJT\u001b[0m\u001b[0;34m.\u001b[0m\u001b[0mvalues\u001b[0m\u001b[0;34m.\u001b[0m\u001b[0mtolist\u001b[0m\u001b[0;34m(\u001b[0m\u001b[0;34m)\u001b[0m\u001b[0;34m\u001b[0m\u001b[0;34m\u001b[0m\u001b[0m\n\u001b[0m\u001b[1;32m      3\u001b[0m \u001b[0mlobj\u001b[0m \u001b[0;34m=\u001b[0m \u001b[0;34m[\u001b[0m\u001b[0;34m]\u001b[0m\u001b[0;34m\u001b[0m\u001b[0;34m\u001b[0m\u001b[0m\n\u001b[1;32m      4\u001b[0m \u001b[0;32mdef\u001b[0m \u001b[0mgive_Ln\u001b[0m\u001b[0;34m(\u001b[0m\u001b[0mname\u001b[0m\u001b[0;34m)\u001b[0m\u001b[0;34m:\u001b[0m\u001b[0;34m\u001b[0m\u001b[0;34m\u001b[0m\u001b[0m\n\u001b[1;32m      5\u001b[0m     \u001b[0;32mfor\u001b[0m \u001b[0mn\u001b[0m \u001b[0;32min\u001b[0m \u001b[0ma\u001b[0m\u001b[0;34m:\u001b[0m\u001b[0;34m\u001b[0m\u001b[0;34m\u001b[0m\u001b[0m\n",
      "\u001b[0;31mNameError\u001b[0m: name 'JT' is not defined"
     ]
    }
   ],
   "source": [
    "# Now for each object\n",
    "a = JT.values.tolist()\n",
    "lobj = []\n",
    "def give_Ln(name):\n",
    "    for n in a:\n",
    "        na = n[4]\n",
    "        Ln = n[5]\n",
    "        if na == name:\n",
    "            return Ln\n",
    "            \n",
    "for i in num:\n",
    "    Ln = give_Ln(i)\n",
    "    if isinstance(Ln, basestring) == True:\n",
    "        lobj.append(Ln)"
   ]
  },
  {
   "cell_type": "code",
   "execution_count": 86,
   "id": "2a652bcc-3c9a-45b6-a4fe-99ca9ce0884c",
   "metadata": {},
   "outputs": [
    {
     "data": {
      "image/png": "[encoded data removed]",
      "text/plain": [
       "<Figure size 432x288 with 1 Axes>"
      ]
     },
     "metadata": {
      "needs_background": "light"
     },
     "output_type": "display_data"
    }
   ],
   "source": [
    "plt.hist(lobj, color = 'blue', edgecolor = 'black',bins = 100)\n",
    "plt.title('Histogram of Ln')\n",
    "plt.xlabel('Ln')\n",
    "plt.ylabel('Number in exposures')\n",
    "plt.grid()"
   ]
  },
  {
   "cell_type": "code",
   "execution_count": 129,
   "id": "ce399a2f-4bf2-48e9-b57a-3e258dc709de",
   "metadata": {},
   "outputs": [
    {
     "data": {
      "text/html": [
       "<div>\n",
       "<style scoped>\n",
       "    .dataframe tbody tr th:only-of-type {\n",
       "        vertical-align: middle;\n",
       "    }\n",
       "\n",
       "    .dataframe tbody tr th {\n",
       "        vertical-align: top;\n",
       "    }\n",
       "\n",
       "    .dataframe thead th {\n",
       "        text-align: right;\n",
       "    }\n",
       "</style>\n",
       "<table border=\"1\" class=\"dataframe\">\n",
       "  <thead>\n",
       "    <tr style=\"text-align: right;\">\n",
       "      <th></th>\n",
       "      <th>expnum</th>\n",
       "      <th>Principal_desig</th>\n",
       "      <th>ra</th>\n",
       "      <th>dec</th>\n",
       "      <th>ccd</th>\n",
       "      <th>BAND</th>\n",
       "      <th>DATE_OBS</th>\n",
       "      <th>U</th>\n",
       "      <th>RA_3sigma</th>\n",
       "      <th>DEC_3sigma</th>\n",
       "      <th>Ln</th>\n",
       "    </tr>\n",
       "  </thead>\n",
       "  <tbody>\n",
       "    <tr>\n",
       "      <th>0</th>\n",
       "      <td>157460</td>\n",
       "      <td>2001 XO128</td>\n",
       "      <td>34.570048</td>\n",
       "      <td>-5.635341</td>\n",
       "      <td>58</td>\n",
       "      <td>b'g'</td>\n",
       "      <td>b'2012-12-03T01:54:00.378837'</td>\n",
       "      <td>0.0</td>\n",
       "      <td>0.102</td>\n",
       "      <td>0.090</td>\n",
       "      <td>L5</td>\n",
       "    </tr>\n",
       "    <tr>\n",
       "      <th>1</th>\n",
       "      <td>157460</td>\n",
       "      <td>2020 HS92</td>\n",
       "      <td>34.224163</td>\n",
       "      <td>-5.320325</td>\n",
       "      <td>47</td>\n",
       "      <td>b'g'</td>\n",
       "      <td>b'2012-12-03T01:54:00.378837'</td>\n",
       "      <td>5.0</td>\n",
       "      <td>24.284</td>\n",
       "      <td>6.103</td>\n",
       "      <td>L5</td>\n",
       "    </tr>\n",
       "    <tr>\n",
       "      <th>2</th>\n",
       "      <td>157461</td>\n",
       "      <td>2001 XO128</td>\n",
       "      <td>34.569808</td>\n",
       "      <td>-5.635227</td>\n",
       "      <td>58</td>\n",
       "      <td>b'r'</td>\n",
       "      <td>b'2012-12-03T01:57:23.095488'</td>\n",
       "      <td>0.0</td>\n",
       "      <td>0.102</td>\n",
       "      <td>0.090</td>\n",
       "      <td>L5</td>\n",
       "    </tr>\n",
       "    <tr>\n",
       "      <th>3</th>\n",
       "      <td>157461</td>\n",
       "      <td>2020 HS92</td>\n",
       "      <td>34.223969</td>\n",
       "      <td>-5.320304</td>\n",
       "      <td>47</td>\n",
       "      <td>b'r'</td>\n",
       "      <td>b'2012-12-03T01:57:23.095488'</td>\n",
       "      <td>5.0</td>\n",
       "      <td>24.284</td>\n",
       "      <td>6.103</td>\n",
       "      <td>L5</td>\n",
       "    </tr>\n",
       "    <tr>\n",
       "      <th>4</th>\n",
       "      <td>157462</td>\n",
       "      <td>2001 XO128</td>\n",
       "      <td>34.569596</td>\n",
       "      <td>-5.635126</td>\n",
       "      <td>58</td>\n",
       "      <td>b'i'</td>\n",
       "      <td>b'2012-12-03T02:00:22.145094'</td>\n",
       "      <td>0.0</td>\n",
       "      <td>0.102</td>\n",
       "      <td>0.090</td>\n",
       "      <td>L5</td>\n",
       "    </tr>\n",
       "    <tr>\n",
       "      <th>...</th>\n",
       "      <td>...</td>\n",
       "      <td>...</td>\n",
       "      <td>...</td>\n",
       "      <td>...</td>\n",
       "      <td>...</td>\n",
       "      <td>...</td>\n",
       "      <td>...</td>\n",
       "      <td>...</td>\n",
       "      <td>...</td>\n",
       "      <td>...</td>\n",
       "      <td>...</td>\n",
       "    </tr>\n",
       "    <tr>\n",
       "      <th>13770</th>\n",
       "      <td>397707</td>\n",
       "      <td>2006 AN97</td>\n",
       "      <td>35.770972</td>\n",
       "      <td>-4.227069</td>\n",
       "      <td>13</td>\n",
       "      <td>b'g'</td>\n",
       "      <td>b'2015-01-14T01:03:29.030379'</td>\n",
       "      <td>0.0</td>\n",
       "      <td>0.172</td>\n",
       "      <td>0.096</td>\n",
       "      <td>L5</td>\n",
       "    </tr>\n",
       "    <tr>\n",
       "      <th>13771</th>\n",
       "      <td>397707</td>\n",
       "      <td>2006 BH185</td>\n",
       "      <td>36.941394</td>\n",
       "      <td>-4.456668</td>\n",
       "      <td>30</td>\n",
       "      <td>b'g'</td>\n",
       "      <td>b'2015-01-14T01:03:29.030379'</td>\n",
       "      <td>0.0</td>\n",
       "      <td>0.195</td>\n",
       "      <td>0.104</td>\n",
       "      <td>L5</td>\n",
       "    </tr>\n",
       "    <tr>\n",
       "      <th>13772</th>\n",
       "      <td>397708</td>\n",
       "      <td>2006 AN97</td>\n",
       "      <td>35.771034</td>\n",
       "      <td>-4.226834</td>\n",
       "      <td>13</td>\n",
       "      <td>b'g'</td>\n",
       "      <td>b'2015-01-14T01:07:16.506021'</td>\n",
       "      <td>0.0</td>\n",
       "      <td>0.172</td>\n",
       "      <td>0.096</td>\n",
       "      <td>L5</td>\n",
       "    </tr>\n",
       "    <tr>\n",
       "      <th>13773</th>\n",
       "      <td>397708</td>\n",
       "      <td>2006 BH185</td>\n",
       "      <td>36.941465</td>\n",
       "      <td>-4.456469</td>\n",
       "      <td>30</td>\n",
       "      <td>b'g'</td>\n",
       "      <td>b'2015-01-14T01:07:16.506021'</td>\n",
       "      <td>0.0</td>\n",
       "      <td>0.195</td>\n",
       "      <td>0.104</td>\n",
       "      <td>L5</td>\n",
       "    </tr>\n",
       "    <tr>\n",
       "      <th>13774</th>\n",
       "      <td>397715</td>\n",
       "      <td>2020 HG116</td>\n",
       "      <td>31.041859</td>\n",
       "      <td>-0.847491</td>\n",
       "      <td>11</td>\n",
       "      <td>b'r'</td>\n",
       "      <td>b'2015-01-14T01:31:09.767010'</td>\n",
       "      <td>1.0</td>\n",
       "      <td>23.213</td>\n",
       "      <td>1.185</td>\n",
       "      <td>NaN</td>\n",
       "    </tr>\n",
       "  </tbody>\n",
       "</table>\n",
       "<p>13775 rows × 11 columns</p>\n",
       "</div>"
      ],
      "text/plain": [
       "       expnum Principal_desig         ra       dec  ccd  BAND  \\\n",
       "0      157460      2001 XO128  34.570048 -5.635341   58  b'g'   \n",
       "1      157460       2020 HS92  34.224163 -5.320325   47  b'g'   \n",
       "2      157461      2001 XO128  34.569808 -5.635227   58  b'r'   \n",
       "3      157461       2020 HS92  34.223969 -5.320304   47  b'r'   \n",
       "4      157462      2001 XO128  34.569596 -5.635126   58  b'i'   \n",
       "...       ...             ...        ...       ...  ...   ...   \n",
       "13770  397707       2006 AN97  35.770972 -4.227069   13  b'g'   \n",
       "13771  397707      2006 BH185  36.941394 -4.456668   30  b'g'   \n",
       "13772  397708       2006 AN97  35.771034 -4.226834   13  b'g'   \n",
       "13773  397708      2006 BH185  36.941465 -4.456469   30  b'g'   \n",
       "13774  397715      2020 HG116  31.041859 -0.847491   11  b'r'   \n",
       "\n",
       "                            DATE_OBS    U  RA_3sigma  DEC_3sigma   Ln  \n",
       "0      b'2012-12-03T01:54:00.378837'  0.0      0.102       0.090   L5  \n",
       "1      b'2012-12-03T01:54:00.378837'  5.0     24.284       6.103   L5  \n",
       "2      b'2012-12-03T01:57:23.095488'  0.0      0.102       0.090   L5  \n",
       "3      b'2012-12-03T01:57:23.095488'  5.0     24.284       6.103   L5  \n",
       "4      b'2012-12-03T02:00:22.145094'  0.0      0.102       0.090   L5  \n",
       "...                              ...  ...        ...         ...  ...  \n",
       "13770  b'2015-01-14T01:03:29.030379'  0.0      0.172       0.096   L5  \n",
       "13771  b'2015-01-14T01:03:29.030379'  0.0      0.195       0.104   L5  \n",
       "13772  b'2015-01-14T01:07:16.506021'  0.0      0.172       0.096   L5  \n",
       "13773  b'2015-01-14T01:07:16.506021'  0.0      0.195       0.104   L5  \n",
       "13774  b'2015-01-14T01:31:09.767010'  1.0     23.213       1.185  NaN  \n",
       "\n",
       "[13775 rows x 11 columns]"
      ]
     },
     "execution_count": 129,
     "metadata": {},
     "output_type": "execute_result"
    }
   ],
   "source": [
    "desjt"
   ]
  },
  {
   "cell_type": "code",
   "execution_count": 10,
   "id": "b4ef4724-b09d-4f44-bac6-59c15320bc86",
   "metadata": {},
   "outputs": [
    {
     "data": {
      "text/plain": [
       "964"
      ]
     },
     "execution_count": 10,
     "metadata": {},
     "output_type": "execute_result"
    }
   ],
   "source": [
    "goodna = desjt.loc[(desjt['RA_3sigma']<2)&(desjt['DEC_3sigma']<2)]['Principal_desig'].unique()\n",
    "len(goodna)"
   ]
  },
  {
   "cell_type": "code",
   "execution_count": 31,
   "id": "6b5e8adb-60cf-4c80-b230-214adf3c595d",
   "metadata": {},
   "outputs": [
    {
     "data": {
      "image/png": "[encoded data removed]",
      "text/plain": [
       "<Figure size 432x288 with 1 Axes>"
      ]
     },
     "metadata": {
      "needs_background": "light"
     },
     "output_type": "display_data"
    }
   ],
   "source": [
    "l = desjt['Ln'].values.tolist()\n",
    "plt.hist(l, color = 'blue', edgecolor = 'black',bins = 100)\n",
    "plt.title('Histogram of Ln')\n",
    "plt.xlabel('Ln')\n",
    "plt.ylabel('Number in exposures')\n",
    "plt.grid()"
   ]
  },
  {
   "cell_type": "code",
   "execution_count": 31,
   "id": "d15a12d9-a4d8-405d-8650-ead1b2911ac2",
   "metadata": {},
   "outputs": [
    {
     "ename": "NameError",
     "evalue": "name 'goodna' is not defined",
     "output_type": "error",
     "traceback": [
      "\u001b[0;31m---------------------------------------------------------------------------\u001b[0m",
      "\u001b[0;31mNameError\u001b[0m                                 Traceback (most recent call last)",
      "\u001b[0;32m<ipython-input-31-54fc4933b60f>\u001b[0m in \u001b[0;36m<module>\u001b[0;34m\u001b[0m\n\u001b[1;32m      8\u001b[0m             \u001b[0;32mreturn\u001b[0m \u001b[0mLn\u001b[0m\u001b[0;34m\u001b[0m\u001b[0;34m\u001b[0m\u001b[0m\n\u001b[1;32m      9\u001b[0m \u001b[0;34m\u001b[0m\u001b[0m\n\u001b[0;32m---> 10\u001b[0;31m \u001b[0;32mfor\u001b[0m \u001b[0mi\u001b[0m \u001b[0;32min\u001b[0m \u001b[0mgoodna\u001b[0m\u001b[0;34m:\u001b[0m\u001b[0;34m\u001b[0m\u001b[0;34m\u001b[0m\u001b[0m\n\u001b[0m\u001b[1;32m     11\u001b[0m     \u001b[0mLn\u001b[0m \u001b[0;34m=\u001b[0m \u001b[0mgive_Ln\u001b[0m\u001b[0;34m(\u001b[0m\u001b[0mi\u001b[0m\u001b[0;34m)\u001b[0m\u001b[0;34m\u001b[0m\u001b[0;34m\u001b[0m\u001b[0m\n\u001b[1;32m     12\u001b[0m     \u001b[0;32mif\u001b[0m \u001b[0misinstance\u001b[0m\u001b[0;34m(\u001b[0m\u001b[0mLn\u001b[0m\u001b[0;34m,\u001b[0m \u001b[0mbasestring\u001b[0m\u001b[0;34m)\u001b[0m \u001b[0;34m==\u001b[0m \u001b[0;32mTrue\u001b[0m\u001b[0;34m:\u001b[0m\u001b[0;34m\u001b[0m\u001b[0;34m\u001b[0m\u001b[0m\n",
      "\u001b[0;31mNameError\u001b[0m: name 'goodna' is not defined"
     ]
    }
   ],
   "source": [
    "lobj = []\n",
    "a = JT.values.tolist()\n",
    "def give_Ln(name):\n",
    "    for n in a:\n",
    "        na = n[4]\n",
    "        Ln = n[5]\n",
    "        if na == name:\n",
    "            return Ln\n",
    "            \n",
    "for i in goodna:\n",
    "    Ln = give_Ln(i)\n",
    "    if isinstance(Ln, basestring) == True:\n",
    "        lobj.append(Ln)"
   ]
  },
  {
   "cell_type": "code",
   "execution_count": 101,
   "id": "93345d6b-1ea1-4b80-80f1-e74c70e05466",
   "metadata": {},
   "outputs": [
    {
     "data": {
      "text/plain": [
       "946"
      ]
     },
     "execution_count": 101,
     "metadata": {},
     "output_type": "execute_result"
    },
    {
     "data": {
      "image/png": "[encoded data removed]",
      "text/plain": [
       "<Figure size 432x288 with 1 Axes>"
      ]
     },
     "metadata": {
      "needs_background": "light"
     },
     "output_type": "display_data"
    }
   ],
   "source": [
    "plt.hist(lobj, color = 'blue', edgecolor = 'black',bins = 100)\n",
    "plt.title('Histogram of Ln')\n",
    "plt.xlabel('Ln')\n",
    "plt.ylabel('Number in exposures')\n",
    "plt.grid()\n",
    "len(lobj) #18 nan "
   ]
  },
  {
   "cell_type": "code",
   "execution_count": 30,
   "id": "4f20e096-d644-4fd5-9d03-195982e7bba7",
   "metadata": {},
   "outputs": [
    {
     "ename": "NameError",
     "evalue": "name 'lobj' is not defined",
     "output_type": "error",
     "traceback": [
      "\u001b[0;31m---------------------------------------------------------------------------\u001b[0m",
      "\u001b[0;31mNameError\u001b[0m                                 Traceback (most recent call last)",
      "\u001b[0;32m<ipython-input-30-5061054b8260>\u001b[0m in \u001b[0;36m<module>\u001b[0;34m\u001b[0m\n\u001b[0;32m----> 1\u001b[0;31m \u001b[0mprint\u001b[0m\u001b[0;34m(\u001b[0m\u001b[0mlobj\u001b[0m\u001b[0;34m.\u001b[0m\u001b[0mcount\u001b[0m\u001b[0;34m(\u001b[0m\u001b[0;34m'L5'\u001b[0m\u001b[0;34m)\u001b[0m\u001b[0;34m)\u001b[0m\u001b[0;34m\u001b[0m\u001b[0;34m\u001b[0m\u001b[0m\n\u001b[0m\u001b[1;32m      2\u001b[0m \u001b[0mprint\u001b[0m\u001b[0;34m(\u001b[0m\u001b[0mlobj\u001b[0m\u001b[0;34m.\u001b[0m\u001b[0mcount\u001b[0m\u001b[0;34m(\u001b[0m\u001b[0;34m'L4'\u001b[0m\u001b[0;34m)\u001b[0m\u001b[0;34m)\u001b[0m\u001b[0;34m\u001b[0m\u001b[0;34m\u001b[0m\u001b[0m\n",
      "\u001b[0;31mNameError\u001b[0m: name 'lobj' is not defined"
     ]
    }
   ],
   "source": [
    "print(lobj.count('L5'))\n",
    "print(lobj.count('L4'))"
   ]
  },
  {
   "cell_type": "code",
   "execution_count": 45,
   "id": "2f7fa6d8-9d50-4195-bb81-1c1faccd7a14",
   "metadata": {},
   "outputs": [
    {
     "data": {
      "text/plain": [
       "[]"
      ]
     },
     "execution_count": 45,
     "metadata": {},
     "output_type": "execute_result"
    }
   ],
   "source": [
    "bb = []\n",
    "for i in goodna:\n",
    "    if i == '2020 ST70':\n",
    "        bb.append(i)\n",
    "bb\n",
    "    "
   ]
  },
  {
   "cell_type": "code",
   "execution_count": 6,
   "id": "e59f44dd-f196-432b-963a-88d7d95c4460",
   "metadata": {},
   "outputs": [
    {
     "data": {
      "text/plain": [
       "Principal_desig\n",
       "1971 FF     False\n",
       "1973 UF5    False\n",
       "1975 QD     False\n",
       "1983 PV     False\n",
       "1985 VO     False\n",
       "            ...  \n",
       "2021 KL4    False\n",
       "2021 LR4     True\n",
       "3365 T-3    False\n",
       "4101 T-3    False\n",
       "5191 T-3    False\n",
       "Name: Principal_desig, Length: 1088, dtype: bool"
      ]
     },
     "execution_count": 6,
     "metadata": {},
     "output_type": "execute_result"
    }
   ],
   "source": [
    "desjt.groupby('Principal_desig').Principal_desig.count() <2"
   ]
  },
  {
   "cell_type": "code",
   "execution_count": 7,
   "id": "5fc9d8d6-9634-40f9-ab99-43da2af42742",
   "metadata": {},
   "outputs": [
    {
     "data": {
      "text/plain": [
       "8"
      ]
     },
     "execution_count": 7,
     "metadata": {},
     "output_type": "execute_result"
    }
   ],
   "source": [
    "a = desjt.loc[desjt['Principal_desig']=='1995 CV']['ra'].count()\n",
    "a"
   ]
  },
  {
   "cell_type": "code",
   "execution_count": 8,
   "id": "8460228e-d1d6-4fab-918d-6a6a093441dc",
   "metadata": {},
   "outputs": [],
   "source": [
    "a = desjt.values.tolist()\n",
    "badnum = []\n",
    "for i in a:\n",
    "    na = i[1]\n",
    "  #  print(na)\n",
    "    if desjt.loc[desjt['Principal_desig']==na]['expnum'].count() == 1:\n",
    "        badnum.append(na)\n",
    "#badnum"
   ]
  },
  {
   "cell_type": "code",
   "execution_count": 9,
   "id": "28d10a33-77c2-4eac-9aba-f36a0a8dc604",
   "metadata": {},
   "outputs": [
    {
     "data": {
      "text/plain": [
       "151"
      ]
     },
     "execution_count": 9,
     "metadata": {},
     "output_type": "execute_result"
    }
   ],
   "source": [
    "len(badnum)"
   ]
  },
  {
   "cell_type": "code",
   "execution_count": 136,
   "id": "1aaec5a5-8eb4-4584-87cc-907becb761a9",
   "metadata": {},
   "outputs": [],
   "source": [
    "desjt = pd.read_csv('DES JTs/DES_Trojans_mpc (3).csv')\n",
    "nume = desjt.groupby('Principal_desig').size()\n",
    "len(nume[nume==1])\n",
    "nume[nume==1]\n",
    "desjt.to_csv('DES_Trojans_mpc.csv', index=None)"
   ]
  },
  {
   "cell_type": "code",
   "execution_count": 135,
   "id": "060ef94d-3958-49f3-8d07-f828611c6de5",
   "metadata": {},
   "outputs": [
    {
     "data": {
      "text/plain": [
       "Principal_desig\n",
       "1988 RE12     1\n",
       "1988 RL13     1\n",
       "1995 CV       1\n",
       "1996 RT29     1\n",
       "1996 TY68     1\n",
       "             ..\n",
       "2020 HJ99     1\n",
       "2020 RQ107    1\n",
       "2020 ST70     1\n",
       "2021 GN101    1\n",
       "2021 GZ63     1\n",
       "Length: 119, dtype: int64"
      ]
     },
     "execution_count": 135,
     "metadata": {},
     "output_type": "execute_result"
    }
   ],
   "source": [
    "desjt = pd.read_csv('DES_Trojans_mpc.csv')\n",
    "nume = desjt.groupby('Principal_desig').size()\n",
    "len(nume[nume==1])\n",
    "nume[nume==1]"
   ]
  },
  {
   "cell_type": "code",
   "execution_count": 11,
   "id": "a94ea823-9442-4274-8f23-c6506be9fa4e",
   "metadata": {},
   "outputs": [
    {
     "data": {
      "text/plain": [
       "['2010 BM90',\n",
       " '2010 XF85',\n",
       " '2013 CF115',\n",
       " '1988 RE12',\n",
       " '2008 KH35',\n",
       " '2012 TJ25',\n",
       " '2008 KV8',\n",
       " '2010 VS',\n",
       " '2013 TH32',\n",
       " '2012 TP52',\n",
       " '2012 TS256',\n",
       " '2000 SJ49',\n",
       " '2000 SL47',\n",
       " '2011 LA20',\n",
       " '2000 SA97',\n",
       " '2005 XS92',\n",
       " '2011 QW53',\n",
       " '2006 DB20',\n",
       " '2012 PK44',\n",
       " '2018 AV40',\n",
       " '2011 OT5',\n",
       " '2006 BG203',\n",
       " '2015 XR446',\n",
       " '2000 SB132',\n",
       " '2006 EP74',\n",
       " '2015 AY259',\n",
       " '2008 HL75',\n",
       " '2016 CU31',\n",
       " '2017 DG116',\n",
       " '2011 QB108',\n",
       " '2001 WB53',\n",
       " '2008 KY36',\n",
       " '2012 TY122',\n",
       " '2017 DD21',\n",
       " '2000 SA89',\n",
       " '2016 AW60',\n",
       " '2001 VK85',\n",
       " '2011 QV76',\n",
       " '2005 EQ272',\n",
       " '2011 KT21',\n",
       " '2014 WB18',\n",
       " '2011 KG17',\n",
       " '2014 VF8',\n",
       " '2002 CB94',\n",
       " '1996 TY68',\n",
       " '1999 WB2',\n",
       " '2013 CJ194',\n",
       " '2009 UE72',\n",
       " '2000 XN9',\n",
       " '2003 JG8',\n",
       " '2003 HQ35',\n",
       " '2008 SE276',\n",
       " '2009 UX143',\n",
       " '2013 AF',\n",
       " '2008 RQ175',\n",
       " '2009 VG58',\n",
       " '1999 YC13',\n",
       " '2013 FM1',\n",
       " '2001 CN33',\n",
       " '2009 WU112',\n",
       " '1996 RT29',\n",
       " '2006 BZ55',\n",
       " '2008 FQ132',\n",
       " '2000 SK47',\n",
       " '2000 QN116',\n",
       " '2007 EO34',\n",
       " '2014 WB546',\n",
       " '2009 FB63',\n",
       " '2004 YD23',\n",
       " '2016 AD303',\n",
       " '2001 RH142',\n",
       " '2006 BJ289',\n",
       " '2007 ES166',\n",
       " '2015 AU48',\n",
       " '2020 HK76',\n",
       " '2021 LR4',\n",
       " '2008 HX3',\n",
       " '2014 SD351',\n",
       " '2009 LN3',\n",
       " '2008 GS143',\n",
       " '2012 SQ49',\n",
       " '2015 BY202',\n",
       " '2016 YD20',\n",
       " '2011 QD3',\n",
       " '2014 WA120',\n",
       " '2020 HC100',\n",
       " '2005 EL140',\n",
       " '2011 OZ71',\n",
       " '2006 DC50',\n",
       " '2003 YR109',\n",
       " '2009 HW108',\n",
       " '2008 KM10',\n",
       " '2014 WD387',\n",
       " '2020 HK37',\n",
       " '2006 BH169',\n",
       " '2019 FX16',\n",
       " '2019 KS4',\n",
       " '2001 QM73',\n",
       " '2020 HD38',\n",
       " '2014 WO578',\n",
       " '1999 PY3',\n",
       " '2006 JV25',\n",
       " '2014 WT119',\n",
       " '2019 GA2',\n",
       " '2011 OC60',\n",
       " '2005 CM83',\n",
       " '2003 YL133',\n",
       " '1994 CX13',\n",
       " '2020 HB112',\n",
       " '2006 FC2',\n",
       " '2006 BY41',\n",
       " '2017 AF35',\n",
       " '2019 NW',\n",
       " '2014 WD573',\n",
       " '2006 BE167',\n",
       " '2019 GK6',\n",
       " '2010 JC1',\n",
       " '2001 SJ364',\n",
       " '2014 XJ7',\n",
       " '2017 CK',\n",
       " '2007 DW94',\n",
       " '2019 DG',\n",
       " '2006 BF8',\n",
       " '2001 SF317',\n",
       " '2011 OJ63']"
      ]
     },
     "execution_count": 11,
     "metadata": {},
     "output_type": "execute_result"
    }
   ],
   "source": [
    "bb = []\n",
    "\n",
    "for i in goodna:\n",
    "    for b in badnum:\n",
    "        if i == b:\n",
    "            bb.append(i)\n",
    "bb"
   ]
  },
  {
   "cell_type": "code",
   "execution_count": 12,
   "id": "d17b01eb-bf32-4abe-a860-26c7fa97646e",
   "metadata": {},
   "outputs": [
    {
     "data": {
      "text/plain": [
       "125"
      ]
     },
     "execution_count": 12,
     "metadata": {},
     "output_type": "execute_result"
    }
   ],
   "source": [
    "len(bb)"
   ]
  },
  {
   "cell_type": "code",
   "execution_count": 16,
   "id": "992cf49d-40a1-40c8-8992-9634cbbc5c68",
   "metadata": {},
   "outputs": [
    {
     "data": {
      "text/plain": [
       "array(['2011 OJ63'], dtype=object)"
      ]
     },
     "execution_count": 16,
     "metadata": {},
     "output_type": "execute_result"
    }
   ],
   "source": [
    "goodna[goodna=='2011 OJ63']\n",
    "#So there are many one exposures in the very accuarte measured JTs. Would make the good nubmer go down by 125\n",
    "#964 - 125 = 839\n",
    "# Probably eventually have 700 or so good enough JTs...."
   ]
  },
  {
   "cell_type": "markdown",
   "id": "031aa5a6-c27a-4a10-9119-16d13ef63a17",
   "metadata": {},
   "source": [
    "### Distinguish all L4 and L5 JTs\n",
    "\n",
    "L4, existing 60° ahead of the planet in its orbit, or L5, 60° behind. "
   ]
  },
  {
   "cell_type": "code",
   "execution_count": 97,
   "id": "73e29cdc-6078-44b3-aac0-7ce5192a2d39",
   "metadata": {},
   "outputs": [
    {
     "name": "stdout",
     "output_type": "stream",
     "text": [
      "335\n",
      "36\n"
     ]
    }
   ],
   "source": [
    "desjt = pd.read_csv('DES_Trojans_mpc(2).csv')\n",
    "len(desjt.loc[(desjt['Ln']!='L5')&(desjt['Ln']!='L4')]['DATE_OBS'].unique())\n",
    "nandate = desjt.loc[(desjt['Ln']!='L5')&(desjt['Ln']!='L4')]['DATE_OBS'].unique()\n",
    "nanna = desjt.loc[(desjt['Ln']!='L5')&(desjt['Ln']!='L4')]['Principal_desig'].unique()\n",
    "print(len(nandate))\n",
    "print(len(nanna))\n",
    "#print(nandate)"
   ]
  },
  {
   "cell_type": "code",
   "execution_count": 96,
   "id": "6ff02ef3-966f-4cfb-ac4a-cea8f4ccfd53",
   "metadata": {},
   "outputs": [
    {
     "name": "stdout",
     "output_type": "stream",
     "text": [
      "0\n",
      "0\n",
      "[]\n"
     ]
    }
   ],
   "source": [
    "desjtl = pd.read_csv('DES_Trojans_mpcL.csv')\n",
    "len(desjt.loc[(desjtl['Ln2']!='L5')&(desjtl['Ln2']!='L4')]['DATE_OBS'].unique())\n",
    "nandate = desjt.loc[(desjtl['Ln2']!='L5')&(desjtl['Ln2']!='L4')]['DATE_OBS'].unique()\n",
    "nanna = desjt.loc[(desjtl['Ln2']!='L5')&(desjtl['Ln2']!='L4')]['Principal_desig'].unique()\n",
    "print(len(nandate))\n",
    "print(len(nanna))\n",
    "print(nanna)"
   ]
  },
  {
   "cell_type": "markdown",
   "id": "a74b0d61-7b71-4f64-a561-593c22f23373",
   "metadata": {},
   "source": [
    "### Some jupiter trojans are nearly opposite to Jupiter. I don't know how to deal with them\n",
    "e.g. '2017 PC52' '2020 BZ43' '2010 HW38' '2010 JR42' '2010 LU' '2010 LD94']\\\n",
    "They may switch between L4 and L5???"
   ]
  },
  {
   "cell_type": "code",
   "execution_count": 47,
   "id": "5d1e8343-7039-411c-99ea-7b2fb4465259",
   "metadata": {},
   "outputs": [
    {
     "data": {
      "text/plain": [
       "array(['2006 UG185', '2014 UQ194', '2009 JG23', '2013 RE149',\n",
       "       '2013 RW149', '2013 RZ149', '2013 SP94', '2014 WS591',\n",
       "       '2014 WX591', '2014 WD592', '2017 BG181', '2017 PC52', '2018 BG26',\n",
       "       '2019 AN81', '2020 BZ43', '2020 HT115', '2020 HU115', '2020 HF116',\n",
       "       '2020 HG116', '2020 HH116', '2021 GT104', '2021 GD110',\n",
       "       '2021 HE15', '2021 JM20', '2021 JX20', '2021 JY20', '2021 JZ20',\n",
       "       '2021 JW21', '2021 JX21', '2021 KL4', '2021 LR4', '2010 CL191',\n",
       "       '2010 HW38', '2010 JR42', '2010 LU', '2010 LD94'], dtype=object)"
      ]
     },
     "execution_count": 47,
     "metadata": {},
     "output_type": "execute_result"
    }
   ],
   "source": [
    "desjt.loc[(desjt['Ln']!='L5')&(desjt['Ln']!='L4')]['Principal_desig'].unique()"
   ]
  },
  {
   "cell_type": "markdown",
   "id": "be9e7e5c-274b-46f6-8bf4-595f6ca4eeb5",
   "metadata": {},
   "source": [
    "If L4, ra JTs - ra Jup should be bigger or equal to 60 smaller 100 or be smaller than -250\n",
    "If L5, ra JTs - ra Jup should be smaller than -60 bigger than -100? or bigger than 200."
   ]
  },
  {
   "cell_type": "code",
   "execution_count": 137,
   "id": "6d8438a9-ef1f-4414-99fd-616430b7249a",
   "metadata": {},
   "outputs": [],
   "source": [
    "from astropy.time import Time\n",
    "from astropy.coordinates import solar_system_ephemeris, EarthLocation\n",
    "from astropy.coordinates import get_body_barycentric, get_body, get_moon\n",
    "datejt = desjt['DATE_OBS']\n",
    "datejt = datejt.values.tolist()\n",
    "a = desjt.values.tolist()\n",
    "for i in a:\n",
    "    date = i[6]\n",
    "    ra = i[2]\n",
    "    name = i[1]\n",
    "    d = date.replace(\"T\",\" \")\n",
    "    c = d.replace(\"b\",\"\")\n",
    "    e = eval(c)\n",
    "    t = Time(e, format='iso', scale='utc')\n",
    "    loc = EarthLocation.of_site('Cerro Tololo Interamerican Observatory') \n",
    "    jup = get_body('jupiter', t, loc) \n",
    "    jupra = jup.ra.deg\n",
    "    if ((ra - jupra>=20)&(ra - jupra<=180))|(ra - jupra<=-210):\n",
    "        desjt.loc[desjt['Principal_desig'] == name, 'Ln2'] = 'L4'\n",
    "    elif ((ra - jupra<=-20)&(ra - jupra >=-180))|(ra - jupra>=190):\n",
    "        desjt.loc[desjt['Principal_desig'] == name, 'Ln2'] = 'L5'\n",
    "\n"
   ]
  },
  {
   "cell_type": "code",
   "execution_count": 138,
   "id": "bf3da030-b6cc-4f83-a7bc-198e70160ff2",
   "metadata": {},
   "outputs": [],
   "source": [
    "desjt\n",
    "desjt.to_csv('DES_Trojans_mpcL.csv', index=None)"
   ]
  },
  {
   "cell_type": "code",
   "execution_count": 135,
   "id": "063be4c1-d181-41a1-9e2c-9b7b28fc0a5b",
   "metadata": {},
   "outputs": [
    {
     "name": "stdout",
     "output_type": "stream",
     "text": [
      "216.09353939347653\n"
     ]
    }
   ],
   "source": [
    "t = Time('2017-11-18 03:44:12.807217', format='iso', scale='utc')\n",
    "loc = EarthLocation.of_site('Cerro Tololo Interamerican Observatory') \n",
    "jup = get_body('jupiter', t, loc) \n",
    "jupra = jup.ra.deg\n",
    "print(jupra)"
   ]
  },
  {
   "cell_type": "code",
   "execution_count": 122,
   "id": "177d547a-a3f4-4f80-9c41-15c9e99d473f",
   "metadata": {},
   "outputs": [
    {
     "name": "stdout",
     "output_type": "stream",
     "text": [
      "13390\n"
     ]
    }
   ],
   "source": [
    "# Now check the Ln I get is the same with the list in mpc\n",
    "jtl = desjt.loc[(desjtl['Ln2']=='L5')|(desjtl['Ln2']=='L4')]\n",
    "#jtll = desjtl.loc[(desjtl['Ln2']=='L5')|(desjtl['Ln2']=='L4')]\n",
    "jtll = pd.read_csv('DES_Trojans_mpcL.csv')\n",
    "jtl = jtl.values.tolist()\n",
    "jtll = jtll.values.tolist()\n",
    "#print(jtll)\n",
    "correct = []\n",
    "for i in jtll:\n",
    "    ln = i[10]\n",
    "    ln2 = i[11]\n",
    "    if (ln =='L5')|(ln=='L4'):\n",
    "        correct.append(bool(ln==ln2))\n",
    "#print(correct)\n",
    "print(len(correct))\n",
    "for i in correct:\n",
    "    if i == False:\n",
    "        print('...')"
   ]
  },
  {
   "cell_type": "code",
   "execution_count": 139,
   "id": "bcde4e39-99aa-4eb4-9f01-aad8b308ca6a",
   "metadata": {},
   "outputs": [],
   "source": [
    "#print(len(desjt.loc[(desjt['Ln']=='L5')|(desjt['Ln']=='L4')]))\n",
    "jtll = pd.read_csv('DES_Trojans_mpcL.csv')\n",
    "Ln2 = jtll['Ln2'].values.tolist()\n",
    "#print(Ln2)\n",
    "desjt['Ln2']=Ln2\n",
    "desjt.to_csv('DES_Trojans_mpc(2).csv', index=None)"
   ]
  },
  {
   "cell_type": "code",
   "execution_count": 140,
   "id": "028ea556-ffb8-4de3-8c58-96bd6fd3e53d",
   "metadata": {},
   "outputs": [
    {
     "name": "stdout",
     "output_type": "stream",
     "text": [
      "652\n",
      "507\n",
      "604\n",
      "658\n",
      "82\n"
     ]
    }
   ],
   "source": [
    "goodg = desjt.loc[(desjt['RA_3sigma']<2)&(desjt['DEC_3sigma']<2)&(desjt['BAND']==\"b'g'\")]['Principal_desig'].unique()\n",
    "goodr = desjt.loc[(desjt['RA_3sigma']<2)&(desjt['DEC_3sigma']<2)&(desjt['BAND']==\"b'r'\")]['Principal_desig'].unique()\n",
    "goodi = desjt.loc[(desjt['RA_3sigma']<2)&(desjt['DEC_3sigma']<2)&(desjt['BAND']==\"b'i'\")]['Principal_desig'].unique()\n",
    "goodz = desjt.loc[(desjt['RA_3sigma']<2)&(desjt['DEC_3sigma']<2)&(desjt['BAND']==\"b'z'\")]['Principal_desig'].unique()\n",
    "goodu = desjt.loc[(desjt['RA_3sigma']<2)&(desjt['DEC_3sigma']<2)&(desjt['BAND']==\"b'u'\")]['Principal_desig'].unique()\n",
    "print(len(goodg))\n",
    "print(len(goodr))\n",
    "print(len(goodi))\n",
    "print(len(goodz))\n",
    "print(len(goodu))"
   ]
  },
  {
   "cell_type": "code",
   "execution_count": 141,
   "id": "7a667fed-09de-4862-9565-1c8ce277ab60",
   "metadata": {},
   "outputs": [
    {
     "name": "stdout",
     "output_type": "stream",
     "text": [
      "g-r 462\n",
      "r-i 456\n",
      "z-i 524\n",
      "u-g 19\n",
      "z-r 416\n",
      "z-g 489\n",
      "g-r&r-i 421\n",
      "g-r&z-i 365\n",
      "r-i&z-i 395\n",
      "g-r&z-g 381\n",
      "g-r&z-r 381\n"
     ]
    },
    {
     "data": {
      "image/png": "[encoded data removed]",
      "text/plain": [
       "<Figure size 1152x360 with 3 Axes>"
      ]
     },
     "metadata": {
      "needs_background": "light"
     },
     "output_type": "display_data"
    }
   ],
   "source": [
    "grgood = []\n",
    "for i in goodg:\n",
    "    for a in goodr:\n",
    "        if i == a: \n",
    "            grgood.append(i)\n",
    "print('g-r',len(grgood))\n",
    "\n",
    "rigood = []\n",
    "for i in goodi:\n",
    "    for a in goodr:\n",
    "        if i == a: \n",
    "            rigood.append(i)\n",
    "print('r-i',len(rigood))\n",
    "\n",
    "zigood = []\n",
    "for i in goodz:\n",
    "    for a in goodi:\n",
    "        if i == a: \n",
    "            zigood.append(i)\n",
    "print('z-i',len(zigood))\n",
    "\n",
    "uggood = []\n",
    "for i in goodu:\n",
    "    for a in goodg:\n",
    "        if i == a: \n",
    "            uggood.append(i)\n",
    "print('u-g',len(uggood))\n",
    "\n",
    "zrgood = []\n",
    "for i in goodz:\n",
    "    for a in goodr:\n",
    "        if i == a: \n",
    "            zrgood.append(i)\n",
    "print('z-r',len(zrgood))\n",
    "\n",
    "zggood = []\n",
    "for i in goodz:\n",
    "    for a in goodg:\n",
    "        if i == a: \n",
    "            zggood.append(i)\n",
    "print('z-g',len(zggood))\n",
    "\n",
    "grrigood = []\n",
    "for i in grgood:\n",
    "    for a in rigood:\n",
    "        if i == a: \n",
    "            grrigood.append(i)\n",
    "LL = []\n",
    "for b in grrigood:\n",
    "    l = desjt.loc[desjt['Principal_desig'] == b]['Ln2'].unique()\n",
    "    l = l[0]\n",
    "    LL.append(l)\n",
    "#print(LL)\n",
    "print('g-r&r-i',len(grrigood))\n",
    "plt.figure(figsize=(16,5),frameon=False)\n",
    "ax2=plt.subplot(131)\n",
    "plt.hist(LL, color = 'blue', edgecolor = 'black',bins = 100)\n",
    "plt.title('Histogram of Ln in g-r & r -i')\n",
    "plt.xlabel('Ln')\n",
    "plt.ylabel('Number in exposures')\n",
    "plt.grid()\n",
    "\n",
    "grzigood = []\n",
    "for i in grgood:\n",
    "    for a in zigood:\n",
    "        if i == a: \n",
    "            grzigood.append(i)\n",
    "print('g-r&z-i',len(grzigood))\n",
    "LL = []\n",
    "for b in grzigood:\n",
    "    l = desjt.loc[desjt['Principal_desig'] == b]['Ln2'].unique()\n",
    "    l = l[0]\n",
    "    LL.append(l)\n",
    "ax2=plt.subplot(132)\n",
    "plt.hist(LL, color = 'blue', edgecolor = 'black',bins = 100)\n",
    "plt.title('Histogram of Ln in g-r&z-i')\n",
    "plt.xlabel('Ln')\n",
    "plt.ylabel('Number in exposures')\n",
    "plt.grid()\n",
    "\n",
    "rizigood = []\n",
    "for i in rigood:\n",
    "    for a in zigood:\n",
    "        if i == a: \n",
    "            rizigood.append(i)\n",
    "print('r-i&z-i',len(rizigood))\n",
    "LL = []\n",
    "for b in rizigood:\n",
    "    l = desjt.loc[desjt['Principal_desig'] == b]['Ln2'].unique()\n",
    "    l = l[0]\n",
    "    LL.append(l)\n",
    "ax2=plt.subplot(133)\n",
    "plt.hist(LL, color = 'blue', edgecolor = 'black',bins = 100)\n",
    "plt.title('Histogram of Ln in r-i&z-i')\n",
    "plt.xlabel('Ln')\n",
    "plt.ylabel('Number in exposures')\n",
    "plt.grid()\n",
    "\n",
    "grzggood = []\n",
    "for i in grgood:\n",
    "    for a in zggood:\n",
    "        if i == a: \n",
    "            grzggood.append(i)\n",
    "print('g-r&z-g',len(grzggood))\n",
    "\n",
    "grzrgood = []\n",
    "for i in grgood:\n",
    "    for a in zrgood:\n",
    "        if i == a: \n",
    "            grzrgood.append(i)\n",
    "print('g-r&z-r',len(grzrgood))"
   ]
  },
  {
   "cell_type": "code",
   "execution_count": null,
   "id": "a895b647-1abc-485d-98df-23fe3e2deb31",
   "metadata": {},
   "outputs": [],
   "source": []
  }
 ],
 "metadata": {
  "kernelspec": {
   "display_name": "Python 3 (base)",
   "language": "python",
   "name": "python3"
  },
  "language_info": {
   "codemirror_mode": {
    "name": "ipython",
    "version": 3
   },
   "file_extension": ".py",
   "mimetype": "text/x-python",
   "name": "python",
   "nbconvert_exporter": "python",
   "pygments_lexer": "ipython3",
   "version": "3.8.5"
  }
 },
 "nbformat": 4,
 "nbformat_minor": 5
}
