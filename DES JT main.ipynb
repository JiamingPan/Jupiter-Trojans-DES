{
 "cells": [
  {
   "cell_type": "code",
   "execution_count": 1,
   "id": "7cf2939a-456b-4e33-b682-9a50032f6bac",
   "metadata": {},
   "outputs": [],
   "source": [
    "#pip install spacerocks"
   ]
  },
  {
   "cell_type": "code",
   "execution_count": 1,
   "id": "737536cb-6722-4c9f-853b-bf5a594d19ae",
   "metadata": {},
   "outputs": [
    {
     "name": "stdout",
     "output_type": "stream",
     "text": [
      "/home/jiamingp\n"
     ]
    }
   ],
   "source": [
    "cd /home/jiamingp"
   ]
  },
  {
   "cell_type": "code",
   "execution_count": 3,
   "id": "bad4ed0d-e8db-40e7-9489-3f47d9152317",
   "metadata": {},
   "outputs": [
    {
     "ename": "ImportError",
     "evalue": "cannot import name 'SpaceRock' from 'spacerocks' (unknown location)",
     "output_type": "error",
     "traceback": [
      "\u001b[0;31m---------------------------------------------------------------------------\u001b[0m",
      "\u001b[0;31mImportError\u001b[0m                               Traceback (most recent call last)",
      "\u001b[0;32m<ipython-input-3-0c8f6ef8d4e1>\u001b[0m in \u001b[0;36m<module>\u001b[0;34m\u001b[0m\n\u001b[0;32m----> 1\u001b[0;31m \u001b[0;32mfrom\u001b[0m \u001b[0mspacerocks\u001b[0m \u001b[0;32mimport\u001b[0m \u001b[0mSpaceRock\u001b[0m\u001b[0;34m\u001b[0m\u001b[0;34m\u001b[0m\u001b[0m\n\u001b[0m\u001b[1;32m      2\u001b[0m \u001b[0;32mimport\u001b[0m \u001b[0mpandas\u001b[0m \u001b[0;32mas\u001b[0m \u001b[0mpd\u001b[0m\u001b[0;34m\u001b[0m\u001b[0;34m\u001b[0m\u001b[0m\n\u001b[1;32m      3\u001b[0m \u001b[0;32mfrom\u001b[0m \u001b[0mastropy\u001b[0m\u001b[0;34m.\u001b[0m\u001b[0mcoordinates\u001b[0m \u001b[0;32mimport\u001b[0m \u001b[0mSkyCoord\u001b[0m\u001b[0;34m\u001b[0m\u001b[0;34m\u001b[0m\u001b[0m\n\u001b[1;32m      4\u001b[0m \u001b[0;32mfrom\u001b[0m \u001b[0mastropy\u001b[0m\u001b[0;34m.\u001b[0m\u001b[0mtime\u001b[0m \u001b[0;32mimport\u001b[0m \u001b[0mTime\u001b[0m\u001b[0;34m\u001b[0m\u001b[0;34m\u001b[0m\u001b[0m\n\u001b[1;32m      5\u001b[0m \u001b[0;32mimport\u001b[0m \u001b[0mastropy\u001b[0m\u001b[0;34m.\u001b[0m\u001b[0munits\u001b[0m \u001b[0;32mas\u001b[0m \u001b[0mu\u001b[0m\u001b[0;34m\u001b[0m\u001b[0;34m\u001b[0m\u001b[0m\n",
      "\u001b[0;31mImportError\u001b[0m: cannot import name 'SpaceRock' from 'spacerocks' (unknown location)"
     ]
    }
   ],
   "source": [
    "from spacerocks import SpaceRock\n",
    "import pandas as pd\n",
    "from astropy.coordinates import SkyCoord\n",
    "from astropy.time import Time\n",
    "import astropy.units as u\n",
    "import numpy as np\n",
    "from astropy.time import Time\n",
    "from astropy.coordinates import SkyCoord\n",
    "import astropy.units as u\n",
    "import easyaccess as ea\n",
    "import matplotlib.pyplot as plt\n",
    "from DEEP_pointings import DEEP_fields_2019, DEEP_fields_2020\n",
    "from compute_chip import compute_chip"
   ]
  },
  {
   "cell_type": "code",
   "execution_count": 16,
   "id": "358688d7-a0fe-41d1-bb38-b57b95eb7214",
   "metadata": {},
   "outputs": [],
   "source": [
    "#dfo = pd.read_json('https://minorplanetcenter.net/Extended_Files/mpcorb_extended.json.gz')\n",
    "#dfo.to_csv('mpcorb_extended.csv', index=None)\n",
    "dfo = pd.read_csv('mpcorb_extended.csv')"
   ]
  },
  {
   "cell_type": "code",
   "execution_count": 17,
   "id": "67d0430d-0eab-42ad-a1e8-d85e7bda5751",
   "metadata": {},
   "outputs": [
    {
     "name": "stdout",
     "output_type": "stream",
     "text": [
      "10437\n"
     ]
    }
   ],
   "source": [
    "df = dfo.loc[dfo.Orbit_type==\"Jupiter Trojan\"]\n",
    "df.to_csv('mpcorb_JT.csv', index=None)\n",
    "print(len(df))"
   ]
  },
  {
   "cell_type": "code",
   "execution_count": 11,
   "id": "1d61b7bb-fad3-4ef3-b5ae-49b09c423678",
   "metadata": {},
   "outputs": [],
   "source": [
    "from matplotlib.patches import Ellipse\n",
    "\n",
    "class DECamField(object):\n",
    "#\n",
    "    def __init__(self, pos):\n",
    "        self.ra = pos.ra.deg\n",
    "        self.dec = pos.dec.deg\n",
    "\n",
    "    def ellipse(self):\n",
    "        # An approximation to the DECam field of view, suitable e.g. for plotting\n",
    "        semimajor_deg = 1.08\n",
    "        semiminor_deg = 0.98\n",
    "        center = (self.ra, self.dec)\n",
    "        rotation = 0\n",
    "        return Ellipse(center, 2*semimajor_deg, 2*semiminor_deg, rotation, fill=False, ec='k')\n",
    "    \n",
    "    def contains(self, ra1, dec1):\n",
    "        # returns True if the point (ra1, dec1) lies inside the field\n",
    "        radiff = ra1-self.ra\n",
    "        if radiff > 360: radiff -= 2*360\n",
    "        return radiff**2/1.08**2 + (dec1-self.dec)**2/0.98**2 <= 1.0"
   ]
  },
  {
   "cell_type": "code",
   "execution_count": 5,
   "id": "af346340-854a-41c9-9adb-7afda0982853",
   "metadata": {},
   "outputs": [],
   "source": [
    "def give_ccd(date,expnum,pointings):\n",
    "    df = dfo.loc[dfo.Orbit_type==\"Jupiter Trojan\"]\n",
    "    rocks = SpaceRock(a=df.a.values, \n",
    "                  e=df.e.values, \n",
    "                  inc=df.i.values, \n",
    "                  arg=df.Peri.values, \n",
    "                  node=df.Node.values, \n",
    "                  t_peri=df.Tp.values, \n",
    "                  epoch=df.Epoch.values,\n",
    "                  H=df.H.values, \n",
    "                  name=df.Principal_desig.values.astype(str),\n",
    "                  precise=False,\n",
    "                  coordinates='keplerian',\n",
    "                  angles='degrees',\n",
    "                  frame='heliocentric',\n",
    "                  obscode='W84')\n",
    "    dates = Time(date, format='iso', scale='utc')\n",
    "    prop1 = rocks.propagate(dates.jd, model=1)\n",
    "    obs1o = prop1.observe('W84')\n",
    "    df['ra'] =obs1o.ra.deg \n",
    "    df['dec'] =obs1o.dec.deg \n",
    "    df['expnum']=expnum\n",
    "    ccd = []\n",
    "    for ind, row in df.iterrows():\n",
    "            target_pos = SkyCoord(row['ra'], row['dec'], frame='icrs', unit=(u.deg, u.deg))\n",
    "            ccdnam, ccdnum = compute_chip(target_pos.ra.radian, target_pos.dec.radian, pointings.ra.radian, pointings.dec.radian)\n",
    "            ccd.append(ccdnum)\n",
    "    df['ccd'] = ccd\n",
    "    df2 = df.loc[df.ccd>0]\n",
    "    return df2"
   ]
  },
  {
   "cell_type": "markdown",
   "id": "e4255dd4-6fd0-42ee-aed1-3ea88c46cdb9",
   "metadata": {},
   "source": [
    "# Find knwon JTs in the DES data\n",
    "\n",
    "About 12 s to run one. In total ,107631 exposre. Will take 14 days??????\\\n",
    "No. Run paralell notebooks and exclude geocentric eclipitc latitude greater than 30 deg."
   ]
  },
  {
   "cell_type": "code",
   "execution_count": 7,
   "id": "1b1d6ed3-859e-4332-a1d0-006fa8a33dc9",
   "metadata": {},
   "outputs": [
    {
     "name": "stdout",
     "output_type": "stream",
     "text": [
      "52.645996\n"
     ]
    }
   ],
   "source": [
    "#pointing\n",
    "pointing = pd.read_csv('DES pointing/DES_Y6A1_exposures.csv')\n",
    "pointgra = pointing['RADEG'].values.tolist()\n",
    "pointgdec = pointing['DECDEG'].values.tolist()\n",
    "point = []\n",
    "for i,j in zip(pointgra,pointgdec):\n",
    "    pointinge = SkyCoord(i, j, frame='icrs', unit=(u.deg, u.deg))\n",
    "    point.append(pointinge)\n",
    "print(point[0].ra.degree)\n",
    "ra1 = point[0].ra.degree\n",
    "dec1 = point[0].dec.degree"
   ]
  },
  {
   "cell_type": "code",
   "execution_count": 8,
   "id": "790816cc-4c17-440a-940b-2a3a4445c384",
   "metadata": {},
   "outputs": [],
   "source": [
    "#pointing1 = SkyCoord(ra = ra1, dec = dec1, frame='icrs', unit=(u.deg, u.deg))\n",
    "#print(pointing1)"
   ]
  },
  {
   "cell_type": "code",
   "execution_count": 9,
   "id": "4806968a-8a4a-4786-a0c3-73adb799da4f",
   "metadata": {},
   "outputs": [],
   "source": [
    "#date\n",
    "pointing = pd.read_csv('DES pointing/DES_Y6A1_exposures.csv')\n",
    "time = pointing['DATE_OBS']#.values.tolist()\n",
    "d = []\n",
    "for i in time:\n",
    "    a = i.replace(\"T\",\" \")\n",
    "    c = a.replace(\"b\",\"\")\n",
    "    e = eval(c)\n",
    "    d.append(e)\n",
    "time2 = d\n",
    "#time2"
   ]
  },
  {
   "cell_type": "code",
   "execution_count": 10,
   "id": "f0f91a84-4af3-4774-9268-447ada106828",
   "metadata": {},
   "outputs": [
    {
     "name": "stdout",
     "output_type": "stream",
     "text": [
      "154851\n"
     ]
    }
   ],
   "source": [
    "#expnum\n",
    "pointing = pd.read_csv('DES pointing/DES_Y6A1_exposures.csv')\n",
    "expnum = pointing['EXPNUM'].values.tolist()\n",
    "print(expnum[0])"
   ]
  },
  {
   "cell_type": "code",
   "execution_count": 11,
   "id": "5db2ad48-224f-48dc-b2a8-bd8073444ba8",
   "metadata": {},
   "outputs": [],
   "source": [
    "#all three\n",
    "desinfo = pd.DataFrame()\n",
    "desinfo['telpos'] = point\n",
    "desinfo['expnum'] = expnum\n",
    "desinfo['date'] = time2"
   ]
  },
  {
   "cell_type": "code",
   "execution_count": 12,
   "id": "8076c7c7-e59f-4d35-ab9f-89f7843a8bc5",
   "metadata": {},
   "outputs": [
    {
     "data": {
      "text/plain": [
       "<SkyCoord (ICRS): (ra, dec) in deg\n",
       "    (52.645996, -28.09011)>"
      ]
     },
     "execution_count": 12,
     "metadata": {},
     "output_type": "execute_result"
    }
   ],
   "source": [
    "point[0]"
   ]
  },
  {
   "cell_type": "code",
   "execution_count": 13,
   "id": "b6d37b37-adc5-4cc3-ad15-96ad734d8ff8",
   "metadata": {},
   "outputs": [
    {
     "data": {
      "text/plain": [
       "<SkyCoord (ICRS): (ra, dec) in deg\n",
       "    (34.473871, -4.860222)>"
      ]
     },
     "execution_count": 13,
     "metadata": {},
     "output_type": "execute_result"
    }
   ],
   "source": [
    "point[196]"
   ]
  },
  {
   "cell_type": "code",
   "execution_count": 14,
   "id": "068d5a64-330b-42e5-b7ba-f0cd17770d71",
   "metadata": {},
   "outputs": [
    {
     "data": {
      "text/plain": [
       "-17.584110052569617"
      ]
     },
     "execution_count": 14,
     "metadata": {},
     "output_type": "execute_result"
    }
   ],
   "source": [
    "point[196].geocentrictrueecliptic.lat.deg"
   ]
  },
  {
   "cell_type": "code",
   "execution_count": 15,
   "id": "57d7c278-6cef-4cb5-8c50-559157afa2a8",
   "metadata": {},
   "outputs": [
    {
     "name": "stdout",
     "output_type": "stream",
     "text": [
      "2012-11-24 00:41:36.463105\n"
     ]
    }
   ],
   "source": [
    "desinfolp = desinfo[['telpos','expnum','date']].values.tolist()\n",
    "print(desinfolp[0][2]) "
   ]
  },
  {
   "cell_type": "code",
   "execution_count": 16,
   "id": "5aa2cf16-ecbc-4e4d-803a-5cb4bc7719ed",
   "metadata": {},
   "outputs": [
    {
     "data": {
      "text/plain": [
       "<SkyCoord (ICRS): (ra, dec) in deg\n",
       "    (52.645996, -28.09011)>"
      ]
     },
     "execution_count": 16,
     "metadata": {},
     "output_type": "execute_result"
    }
   ],
   "source": [
    "desinfolp[0][0]"
   ]
  },
  {
   "cell_type": "code",
   "execution_count": 17,
   "id": "1329cc7b-3324-4402-b447-cfde94692948",
   "metadata": {},
   "outputs": [
    {
     "name": "stdout",
     "output_type": "stream",
     "text": [
      "         expnum Principal_desig         ra       dec  ccd\n",
      "249994   157460      2001 XO128  34.570048 -5.635341   58\n",
      "1028546  157460       2020 HS92  34.224163 -5.320325   47\n",
      "249994   157461      2001 XO128  34.569808 -5.635227   58\n",
      "1028546  157461       2020 HS92  34.223969 -5.320304   47\n",
      "249994   157462      2001 XO128  34.569596 -5.635126   58\n",
      "1028546  157462       2020 HS92  34.223797 -5.320285   47\n",
      "249994   157463      2001 XO128  34.569326 -5.634997   58\n",
      "1028546  157463       2020 HS92  34.223578 -5.320262   47\n",
      "249994   157464      2001 XO128  34.569056 -5.634868   58\n",
      "1028546  157464       2020 HS92  34.223359 -5.320238   47\n"
     ]
    }
   ],
   "source": [
    "#Try first few\n",
    "dd = pd.DataFrame()\n",
    "for i in desinfolp[0:203]:\n",
    "    dateten = i[2]\n",
    "    expnumten = i[1]\n",
    "    poten = i[0]\n",
    "    eclipticlat = poten.geocentrictrueecliptic.lat.deg\n",
    "    df2 = pd.DataFrame()\n",
    "    if eclipticlat < 30 and eclipticlat > -30:\n",
    "        df2 = give_ccd(date = dateten,expnum = expnumten,pointings= poten) # field and nite is not necessary.\n",
    "        DESJTten = df2[['expnum','Principal_desig','ra', 'dec','ccd']]\n",
    "        dd = pd.concat([dd,DESJTten])\n",
    "    else: \n",
    "        pass\n",
    "    \n",
    "\n",
    "print(dd)"
   ]
  },
  {
   "cell_type": "code",
   "execution_count": 18,
   "id": "f45d1b46-3056-49b1-98c0-e07152494eda",
   "metadata": {},
   "outputs": [],
   "source": [
    "dd.to_csv('DES_100:203_mpc.csv', index=None)"
   ]
  },
  {
   "cell_type": "code",
   "execution_count": 19,
   "id": "82299faf-6328-4d9d-8c8c-99c74f922df2",
   "metadata": {},
   "outputs": [
    {
     "name": "stdout",
     "output_type": "stream",
     "text": [
      "        expnum Principal_desig          ra       dec  ccd\n",
      "649572  158342       2008 KU28   32.042714  0.260558   45\n",
      "649572  158343       2008 KU28   32.042610  0.260578   45\n",
      "649572  158344       2008 KU28   32.042505  0.260598   49\n",
      "649572  158345       2008 KU28   32.042303  0.260636   49\n",
      "649572  158348       2008 KU28   32.041981  0.260698   58\n",
      "...        ...             ...         ...       ...  ...\n",
      "435646  176853      2008 SB232  149.325565  2.335161   26\n",
      "754707  176853      2013 CK135  150.253491  2.594265   16\n",
      "754984  176853      2013 CX167  149.969061  1.997820   41\n",
      "755463  176853      2013 CK222  149.751302  2.597635   15\n",
      "755470  176853      2013 CH223  150.319826  2.223168   36\n",
      "\n",
      "[311 rows x 5 columns]\n"
     ]
    }
   ],
   "source": [
    "# in total 107631 / 24 = 4484\n",
    "dd = pd.DataFrame()\n",
    "for i in desinfolp[203:4484]:\n",
    "    dateten = i[2]\n",
    "    expnumten = i[1]\n",
    "    poten = i[0]\n",
    "    eclipticlat = poten.geocentrictrueecliptic.lat.deg\n",
    "    df2 = pd.DataFrame()\n",
    "    if eclipticlat < 30 and eclipticlat > -30:\n",
    "        df2 = give_ccd(date = dateten,expnum = expnumten,pointings= poten) # field and nite is not necessary.\n",
    "        DESJTten = df2[['expnum','Principal_desig','ra', 'dec','ccd']]\n",
    "        dd = pd.concat([dd,DESJTten])\n",
    "    else: \n",
    "        pass\n",
    "print(dd)"
   ]
  },
  {
   "cell_type": "code",
   "execution_count": 20,
   "id": "4231fc7f-1fa1-4b5e-aac0-1650abbc168b",
   "metadata": {},
   "outputs": [],
   "source": [
    "dd.to_csv('DES1_203:4484_mpc.csv', index=None)"
   ]
  },
  {
   "cell_type": "code",
   "execution_count": 21,
   "id": "d253112d-3cff-424f-ad81-f73cbdcf9bd5",
   "metadata": {},
   "outputs": [
    {
     "name": "stdout",
     "output_type": "stream",
     "text": [
      "         expnum Principal_desig         ra       dec  ccd\n",
      "249994   157460      2001 XO128  34.570048 -5.635341   58\n",
      "1028546  157460       2020 HS92  34.224163 -5.320325   47\n",
      "249994   157461      2001 XO128  34.569808 -5.635227   58\n",
      "1028546  157461       2020 HS92  34.223969 -5.320304   47\n",
      "249994   157462      2001 XO128  34.569596 -5.635126   58\n",
      "1028546  157462       2020 HS92  34.223797 -5.320285   47\n",
      "249994   157463      2001 XO128  34.569326 -5.634997   58\n",
      "1028546  157463       2020 HS92  34.223578 -5.320262   47\n",
      "249994   157464      2001 XO128  34.569056 -5.634868   58\n",
      "1028546  157464       2020 HS92  34.223359 -5.320238   47\n"
     ]
    }
   ],
   "source": [
    "#Try first few\n",
    "dd = pd.DataFrame()\n",
    "for i in desinfolp[0:203]:\n",
    "    dateten = i[2]\n",
    "    expnumten = i[1]\n",
    "    poten = i[0]\n",
    "    eclipticlat = poten.geocentrictrueecliptic.lat.deg\n",
    "    df2 = pd.DataFrame()\n",
    "    if eclipticlat < 30 and eclipticlat > -30:\n",
    "        df2 = give_ccd(date = dateten,expnum = expnumten,pointings= poten) # field and nite is not necessary.\n",
    "        DESJTten = df2[['expnum','Principal_desig','ra', 'dec','ccd']]\n",
    "        dd = pd.concat([dd,DESJTten])\n",
    "    else: \n",
    "        pass\n",
    "    \n",
    "\n",
    "print(dd)"
   ]
  },
  {
   "cell_type": "code",
   "execution_count": 22,
   "id": "7e21c729-2692-4e15-bdd5-f93b44795339",
   "metadata": {},
   "outputs": [],
   "source": [
    "dd.to_csv('DES_100:203_mpc.csv', index=None)"
   ]
  },
  {
   "cell_type": "markdown",
   "id": "08820640-94a1-43f4-b5fd-a8ab83ec288c",
   "metadata": {},
   "source": [
    "Now store all DES known JTs in the field"
   ]
  },
  {
   "cell_type": "code",
   "execution_count": 34,
   "id": "cc834d7c-3a5b-4c8e-8554-51b72dbd6676",
   "metadata": {},
   "outputs": [
    {
     "data": {
      "text/html": [
       "<div>\n",
       "<style scoped>\n",
       "    .dataframe tbody tr th:only-of-type {\n",
       "        vertical-align: middle;\n",
       "    }\n",
       "\n",
       "    .dataframe tbody tr th {\n",
       "        vertical-align: top;\n",
       "    }\n",
       "\n",
       "    .dataframe thead th {\n",
       "        text-align: right;\n",
       "    }\n",
       "</style>\n",
       "<table border=\"1\" class=\"dataframe\">\n",
       "  <thead>\n",
       "    <tr style=\"text-align: right;\">\n",
       "      <th></th>\n",
       "      <th>expnum</th>\n",
       "      <th>Principal_desig</th>\n",
       "      <th>ra</th>\n",
       "      <th>dec</th>\n",
       "      <th>ccd</th>\n",
       "    </tr>\n",
       "  </thead>\n",
       "  <tbody>\n",
       "    <tr>\n",
       "      <th>0</th>\n",
       "      <td>157460</td>\n",
       "      <td>2001 XO128</td>\n",
       "      <td>34.570048</td>\n",
       "      <td>-5.635341</td>\n",
       "      <td>58</td>\n",
       "    </tr>\n",
       "    <tr>\n",
       "      <th>1</th>\n",
       "      <td>157460</td>\n",
       "      <td>2020 HS92</td>\n",
       "      <td>34.224163</td>\n",
       "      <td>-5.320325</td>\n",
       "      <td>47</td>\n",
       "    </tr>\n",
       "    <tr>\n",
       "      <th>2</th>\n",
       "      <td>157461</td>\n",
       "      <td>2001 XO128</td>\n",
       "      <td>34.569808</td>\n",
       "      <td>-5.635227</td>\n",
       "      <td>58</td>\n",
       "    </tr>\n",
       "    <tr>\n",
       "      <th>3</th>\n",
       "      <td>157461</td>\n",
       "      <td>2020 HS92</td>\n",
       "      <td>34.223969</td>\n",
       "      <td>-5.320304</td>\n",
       "      <td>47</td>\n",
       "    </tr>\n",
       "    <tr>\n",
       "      <th>4</th>\n",
       "      <td>157462</td>\n",
       "      <td>2001 XO128</td>\n",
       "      <td>34.569596</td>\n",
       "      <td>-5.635126</td>\n",
       "      <td>58</td>\n",
       "    </tr>\n",
       "    <tr>\n",
       "      <th>...</th>\n",
       "      <td>...</td>\n",
       "      <td>...</td>\n",
       "      <td>...</td>\n",
       "      <td>...</td>\n",
       "      <td>...</td>\n",
       "    </tr>\n",
       "    <tr>\n",
       "      <th>225</th>\n",
       "      <td>397707</td>\n",
       "      <td>2006 AN97</td>\n",
       "      <td>35.770972</td>\n",
       "      <td>-4.227069</td>\n",
       "      <td>13</td>\n",
       "    </tr>\n",
       "    <tr>\n",
       "      <th>226</th>\n",
       "      <td>397707</td>\n",
       "      <td>2006 BH185</td>\n",
       "      <td>36.941394</td>\n",
       "      <td>-4.456668</td>\n",
       "      <td>30</td>\n",
       "    </tr>\n",
       "    <tr>\n",
       "      <th>227</th>\n",
       "      <td>397708</td>\n",
       "      <td>2006 AN97</td>\n",
       "      <td>35.771034</td>\n",
       "      <td>-4.226834</td>\n",
       "      <td>13</td>\n",
       "    </tr>\n",
       "    <tr>\n",
       "      <th>228</th>\n",
       "      <td>397708</td>\n",
       "      <td>2006 BH185</td>\n",
       "      <td>36.941465</td>\n",
       "      <td>-4.456469</td>\n",
       "      <td>30</td>\n",
       "    </tr>\n",
       "    <tr>\n",
       "      <th>229</th>\n",
       "      <td>397715</td>\n",
       "      <td>2020 HG116</td>\n",
       "      <td>31.041859</td>\n",
       "      <td>-0.847491</td>\n",
       "      <td>11</td>\n",
       "    </tr>\n",
       "  </tbody>\n",
       "</table>\n",
       "<p>13775 rows × 5 columns</p>\n",
       "</div>"
      ],
      "text/plain": [
       "     expnum Principal_desig         ra       dec ccd\n",
       "0    157460      2001 XO128  34.570048 -5.635341  58\n",
       "1    157460       2020 HS92  34.224163 -5.320325  47\n",
       "2    157461      2001 XO128  34.569808 -5.635227  58\n",
       "3    157461       2020 HS92  34.223969 -5.320304  47\n",
       "4    157462      2001 XO128  34.569596 -5.635126  58\n",
       "..      ...             ...        ...       ...  ..\n",
       "225  397707       2006 AN97  35.770972 -4.227069  13\n",
       "226  397707      2006 BH185  36.941394 -4.456668  30\n",
       "227  397708       2006 AN97  35.771034 -4.226834  13\n",
       "228  397708      2006 BH185  36.941465 -4.456469  30\n",
       "229  397715      2020 HG116  31.041859 -0.847491  11\n",
       "\n",
       "[13775 rows x 5 columns]"
      ]
     },
     "execution_count": 34,
     "metadata": {},
     "output_type": "execute_result"
    }
   ],
   "source": [
    "df = pd.concat([pd.read_csv(f) for f in ['DES_100:203_mpc.csv','DES1_203:4484_mpc.csv','DES10_40357:44840_mpc.csv'\n",
    "                                        ,'DES11_44841:49324_mpc.csv','DES12_49325:53808_mpc.csv','DES13_53809:58292_mpc.csv'\n",
    "                                        ,'DES14_58293:62776_mpc.csv','DES15_62777:67260_mpc.csv','DES16_67261:71744_mpc.csv'\n",
    "                                        ,'DES17_71745:76228_mpc.csv','DES18_76228:80172_mpc.csv','DES19_80173:85196_mpc.csv'\n",
    "                                        ,'DES2_4485:8968_mpc.csv','DES20_85197:89680_mpc.csv'\n",
    "                                        ,'DES24_103133:107630_mpc.csv','DES22_94165:98648_mpc.csv','DES23_98649:103132_mpc.csv'\n",
    "                                        ,'DES3_8969:13452_mpc.csv','DES21_89681:94164_mpc.csv','DES4_13453:17936_mpc.csv'\n",
    "                                        ,'DES5_17937:22420_mpc.csv','DES6_22421:26904_mpc.csv','DES7_26905:31388_mpc.csv'\n",
    "                                        ,'DES8_31389:35872_mpc.csv','DES9_35873:40356_mpc.csv']])\n",
    "df.to_csv('DES_Trojans_mpc.csv', index=None)\n",
    "df[['expnum','Principal_desig','ra', 'dec','ccd']]"
   ]
  },
  {
   "cell_type": "code",
   "execution_count": 35,
   "id": "8f43322b-fb38-45e7-a492-4da660f39e9c",
   "metadata": {},
   "outputs": [
    {
     "data": {
      "text/html": [
       "<div>\n",
       "<style scoped>\n",
       "    .dataframe tbody tr th:only-of-type {\n",
       "        vertical-align: middle;\n",
       "    }\n",
       "\n",
       "    .dataframe tbody tr th {\n",
       "        vertical-align: top;\n",
       "    }\n",
       "\n",
       "    .dataframe thead th {\n",
       "        text-align: right;\n",
       "    }\n",
       "</style>\n",
       "<table border=\"1\" class=\"dataframe\">\n",
       "  <thead>\n",
       "    <tr style=\"text-align: right;\">\n",
       "      <th></th>\n",
       "      <th>expnum</th>\n",
       "      <th>Principal_desig</th>\n",
       "      <th>ra</th>\n",
       "      <th>dec</th>\n",
       "      <th>ccd</th>\n",
       "    </tr>\n",
       "  </thead>\n",
       "  <tbody>\n",
       "    <tr>\n",
       "      <th>594</th>\n",
       "      <td>356196</td>\n",
       "      <td>2014 UQ194</td>\n",
       "      <td>36.203598</td>\n",
       "      <td>4.422264</td>\n",
       "      <td>9</td>\n",
       "    </tr>\n",
       "    <tr>\n",
       "      <th>55</th>\n",
       "      <td>365139</td>\n",
       "      <td>2014 UQ194</td>\n",
       "      <td>33.739174</td>\n",
       "      <td>4.262750</td>\n",
       "      <td>17</td>\n",
       "    </tr>\n",
       "    <tr>\n",
       "      <th>57</th>\n",
       "      <td>365140</td>\n",
       "      <td>2014 UQ194</td>\n",
       "      <td>33.738984</td>\n",
       "      <td>4.262735</td>\n",
       "      <td>25</td>\n",
       "    </tr>\n",
       "    <tr>\n",
       "      <th>90</th>\n",
       "      <td>369883</td>\n",
       "      <td>2014 UQ194</td>\n",
       "      <td>30.952699</td>\n",
       "      <td>4.099204</td>\n",
       "      <td>33</td>\n",
       "    </tr>\n",
       "    <tr>\n",
       "      <th>92</th>\n",
       "      <td>369885</td>\n",
       "      <td>2014 UQ194</td>\n",
       "      <td>30.952228</td>\n",
       "      <td>4.099187</td>\n",
       "      <td>24</td>\n",
       "    </tr>\n",
       "    <tr>\n",
       "      <th>124</th>\n",
       "      <td>370678</td>\n",
       "      <td>2014 UQ194</td>\n",
       "      <td>30.616299</td>\n",
       "      <td>4.088340</td>\n",
       "      <td>53</td>\n",
       "    </tr>\n",
       "    <tr>\n",
       "      <th>127</th>\n",
       "      <td>370680</td>\n",
       "      <td>2014 UQ194</td>\n",
       "      <td>30.615826</td>\n",
       "      <td>4.088327</td>\n",
       "      <td>32</td>\n",
       "    </tr>\n",
       "    <tr>\n",
       "      <th>159</th>\n",
       "      <td>372580</td>\n",
       "      <td>2014 UQ194</td>\n",
       "      <td>29.601512</td>\n",
       "      <td>4.071860</td>\n",
       "      <td>17</td>\n",
       "    </tr>\n",
       "    <tr>\n",
       "      <th>160</th>\n",
       "      <td>372581</td>\n",
       "      <td>2014 UQ194</td>\n",
       "      <td>29.601266</td>\n",
       "      <td>4.071859</td>\n",
       "      <td>20</td>\n",
       "    </tr>\n",
       "    <tr>\n",
       "      <th>35</th>\n",
       "      <td>374533</td>\n",
       "      <td>2014 UQ194</td>\n",
       "      <td>28.762295</td>\n",
       "      <td>4.080566</td>\n",
       "      <td>58</td>\n",
       "    </tr>\n",
       "    <tr>\n",
       "      <th>139</th>\n",
       "      <td>379944</td>\n",
       "      <td>2014 UQ194</td>\n",
       "      <td>26.074349</td>\n",
       "      <td>4.331396</td>\n",
       "      <td>55</td>\n",
       "    </tr>\n",
       "    <tr>\n",
       "      <th>179</th>\n",
       "      <td>381820</td>\n",
       "      <td>2014 UQ194</td>\n",
       "      <td>25.363845</td>\n",
       "      <td>4.504831</td>\n",
       "      <td>47</td>\n",
       "    </tr>\n",
       "  </tbody>\n",
       "</table>\n",
       "</div>"
      ],
      "text/plain": [
       "     expnum Principal_desig         ra       dec ccd\n",
       "594  356196      2014 UQ194  36.203598  4.422264   9\n",
       "55   365139      2014 UQ194  33.739174  4.262750  17\n",
       "57   365140      2014 UQ194  33.738984  4.262735  25\n",
       "90   369883      2014 UQ194  30.952699  4.099204  33\n",
       "92   369885      2014 UQ194  30.952228  4.099187  24\n",
       "124  370678      2014 UQ194  30.616299  4.088340  53\n",
       "127  370680      2014 UQ194  30.615826  4.088327  32\n",
       "159  372580      2014 UQ194  29.601512  4.071860  17\n",
       "160  372581      2014 UQ194  29.601266  4.071859  20\n",
       "35   374533      2014 UQ194  28.762295  4.080566  58\n",
       "139  379944      2014 UQ194  26.074349  4.331396  55\n",
       "179  381820      2014 UQ194  25.363845  4.504831  47"
      ]
     },
     "execution_count": 35,
     "metadata": {},
     "output_type": "execute_result"
    }
   ],
   "source": [
    "df.loc[df.Principal_desig=='2014 UQ194']"
   ]
  },
  {
   "cell_type": "code",
   "execution_count": 23,
   "id": "642797b1-310c-4eda-b407-7e9ebd11e854",
   "metadata": {},
   "outputs": [
    {
     "data": {
      "text/html": [
       "<div>\n",
       "<style scoped>\n",
       "    .dataframe tbody tr th:only-of-type {\n",
       "        vertical-align: middle;\n",
       "    }\n",
       "\n",
       "    .dataframe tbody tr th {\n",
       "        vertical-align: top;\n",
       "    }\n",
       "\n",
       "    .dataframe thead th {\n",
       "        text-align: right;\n",
       "    }\n",
       "</style>\n",
       "<table border=\"1\" class=\"dataframe\">\n",
       "  <thead>\n",
       "    <tr style=\"text-align: right;\">\n",
       "      <th></th>\n",
       "      <th>expnum</th>\n",
       "      <th>Principal_desig</th>\n",
       "      <th>ra</th>\n",
       "      <th>dec</th>\n",
       "      <th>ccd</th>\n",
       "    </tr>\n",
       "  </thead>\n",
       "  <tbody>\n",
       "    <tr>\n",
       "      <th>81</th>\n",
       "      <td>176802</td>\n",
       "      <td>2002 CH326</td>\n",
       "      <td>150.841408</td>\n",
       "      <td>2.723550</td>\n",
       "      <td>12</td>\n",
       "    </tr>\n",
       "    <tr>\n",
       "      <th>92</th>\n",
       "      <td>176803</td>\n",
       "      <td>2002 CH326</td>\n",
       "      <td>150.840533</td>\n",
       "      <td>2.724124</td>\n",
       "      <td>12</td>\n",
       "    </tr>\n",
       "    <tr>\n",
       "      <th>104</th>\n",
       "      <td>176804</td>\n",
       "      <td>2002 CH326</td>\n",
       "      <td>150.839657</td>\n",
       "      <td>2.724698</td>\n",
       "      <td>12</td>\n",
       "    </tr>\n",
       "    <tr>\n",
       "      <th>115</th>\n",
       "      <td>176805</td>\n",
       "      <td>2002 CH326</td>\n",
       "      <td>150.838779</td>\n",
       "      <td>2.725273</td>\n",
       "      <td>12</td>\n",
       "    </tr>\n",
       "    <tr>\n",
       "      <th>126</th>\n",
       "      <td>176806</td>\n",
       "      <td>2002 CH326</td>\n",
       "      <td>150.837901</td>\n",
       "      <td>2.725848</td>\n",
       "      <td>12</td>\n",
       "    </tr>\n",
       "    <tr>\n",
       "      <th>...</th>\n",
       "      <td>...</td>\n",
       "      <td>...</td>\n",
       "      <td>...</td>\n",
       "      <td>...</td>\n",
       "      <td>...</td>\n",
       "    </tr>\n",
       "    <tr>\n",
       "      <th>923</th>\n",
       "      <td>177751</td>\n",
       "      <td>2002 CH326</td>\n",
       "      <td>150.458013</td>\n",
       "      <td>2.981893</td>\n",
       "      <td>6</td>\n",
       "    </tr>\n",
       "    <tr>\n",
       "      <th>935</th>\n",
       "      <td>177752</td>\n",
       "      <td>2002 CH326</td>\n",
       "      <td>150.457122</td>\n",
       "      <td>2.982488</td>\n",
       "      <td>7</td>\n",
       "    </tr>\n",
       "    <tr>\n",
       "      <th>944</th>\n",
       "      <td>177753</td>\n",
       "      <td>2002 CH326</td>\n",
       "      <td>150.456234</td>\n",
       "      <td>2.983081</td>\n",
       "      <td>7</td>\n",
       "    </tr>\n",
       "    <tr>\n",
       "      <th>955</th>\n",
       "      <td>177754</td>\n",
       "      <td>2002 CH326</td>\n",
       "      <td>150.455348</td>\n",
       "      <td>2.983674</td>\n",
       "      <td>3</td>\n",
       "    </tr>\n",
       "    <tr>\n",
       "      <th>973</th>\n",
       "      <td>177756</td>\n",
       "      <td>2002 CH326</td>\n",
       "      <td>150.453577</td>\n",
       "      <td>2.984859</td>\n",
       "      <td>7</td>\n",
       "    </tr>\n",
       "  </tbody>\n",
       "</table>\n",
       "<p>101 rows × 5 columns</p>\n",
       "</div>"
      ],
      "text/plain": [
       "     expnum Principal_desig          ra       dec ccd\n",
       "81   176802      2002 CH326  150.841408  2.723550  12\n",
       "92   176803      2002 CH326  150.840533  2.724124  12\n",
       "104  176804      2002 CH326  150.839657  2.724698  12\n",
       "115  176805      2002 CH326  150.838779  2.725273  12\n",
       "126  176806      2002 CH326  150.837901  2.725848  12\n",
       "..      ...             ...         ...       ...  ..\n",
       "923  177751      2002 CH326  150.458013  2.981893   6\n",
       "935  177752      2002 CH326  150.457122  2.982488   7\n",
       "944  177753      2002 CH326  150.456234  2.983081   7\n",
       "955  177754      2002 CH326  150.455348  2.983674   3\n",
       "973  177756      2002 CH326  150.453577  2.984859   7\n",
       "\n",
       "[101 rows x 5 columns]"
      ]
     },
     "execution_count": 23,
     "metadata": {},
     "output_type": "execute_result"
    }
   ],
   "source": [
    "df.loc[df.Principal_desig=='2002 CH326']"
   ]
  },
  {
   "cell_type": "code",
   "execution_count": 7,
   "id": "c440c816-7558-430f-9563-0a5373c1d414",
   "metadata": {},
   "outputs": [],
   "source": [
    "desname = df['Principal_desig'].unique()"
   ]
  },
  {
   "cell_type": "code",
   "execution_count": 8,
   "id": "00397dfc-a807-4740-b17f-939ada59ebff",
   "metadata": {},
   "outputs": [
    {
     "data": {
      "text/html": [
       "<div>\n",
       "<style scoped>\n",
       "    .dataframe tbody tr th:only-of-type {\n",
       "        vertical-align: middle;\n",
       "    }\n",
       "\n",
       "    .dataframe tbody tr th {\n",
       "        vertical-align: top;\n",
       "    }\n",
       "\n",
       "    .dataframe thead th {\n",
       "        text-align: right;\n",
       "    }\n",
       "</style>\n",
       "<table border=\"1\" class=\"dataframe\">\n",
       "  <thead>\n",
       "    <tr style=\"text-align: right;\">\n",
       "      <th></th>\n",
       "      <th>Principal_desig</th>\n",
       "      <th>ra</th>\n",
       "      <th>dec</th>\n",
       "      <th>field</th>\n",
       "      <th>nite</th>\n",
       "      <th>ccd</th>\n",
       "    </tr>\n",
       "  </thead>\n",
       "  <tbody>\n",
       "    <tr>\n",
       "      <th>0</th>\n",
       "      <td>1977 TJ3</td>\n",
       "      <td>216.584884</td>\n",
       "      <td>-12.977057</td>\n",
       "      <td>A0b</td>\n",
       "      <td>20190402</td>\n",
       "      <td>12</td>\n",
       "    </tr>\n",
       "    <tr>\n",
       "      <th>1</th>\n",
       "      <td>2007 GZ30</td>\n",
       "      <td>216.336556</td>\n",
       "      <td>-12.977531</td>\n",
       "      <td>A0b</td>\n",
       "      <td>20190402</td>\n",
       "      <td>11</td>\n",
       "    </tr>\n",
       "    <tr>\n",
       "      <th>2</th>\n",
       "      <td>2012 VR40</td>\n",
       "      <td>214.928725</td>\n",
       "      <td>-13.702164</td>\n",
       "      <td>A0b</td>\n",
       "      <td>20190402</td>\n",
       "      <td>32</td>\n",
       "    </tr>\n",
       "    <tr>\n",
       "      <th>3</th>\n",
       "      <td>2008 GU141</td>\n",
       "      <td>216.620938</td>\n",
       "      <td>-12.229834</td>\n",
       "      <td>A0c</td>\n",
       "      <td>20190403</td>\n",
       "      <td>42</td>\n",
       "    </tr>\n",
       "    <tr>\n",
       "      <th>4</th>\n",
       "      <td>2007 GZ30</td>\n",
       "      <td>216.240192</td>\n",
       "      <td>-12.914733</td>\n",
       "      <td>A0c</td>\n",
       "      <td>20190403</td>\n",
       "      <td>60</td>\n",
       "    </tr>\n",
       "    <tr>\n",
       "      <th>...</th>\n",
       "      <td>...</td>\n",
       "      <td>...</td>\n",
       "      <td>...</td>\n",
       "      <td>...</td>\n",
       "      <td>...</td>\n",
       "      <td>...</td>\n",
       "    </tr>\n",
       "    <tr>\n",
       "      <th>101</th>\n",
       "      <td>2019 NC10</td>\n",
       "      <td>355.178049</td>\n",
       "      <td>-6.122086</td>\n",
       "      <td>B1d</td>\n",
       "      <td>20201021</td>\n",
       "      <td>43</td>\n",
       "    </tr>\n",
       "    <tr>\n",
       "      <th>102</th>\n",
       "      <td>2019 NO64</td>\n",
       "      <td>353.830981</td>\n",
       "      <td>-5.409925</td>\n",
       "      <td>B1d</td>\n",
       "      <td>20201021</td>\n",
       "      <td>13</td>\n",
       "    </tr>\n",
       "    <tr>\n",
       "      <th>103</th>\n",
       "      <td>2020 RE68</td>\n",
       "      <td>354.653372</td>\n",
       "      <td>-6.118310</td>\n",
       "      <td>B1d</td>\n",
       "      <td>20201021</td>\n",
       "      <td>42</td>\n",
       "    </tr>\n",
       "    <tr>\n",
       "      <th>104</th>\n",
       "      <td>2020 RF93</td>\n",
       "      <td>355.103278</td>\n",
       "      <td>-6.383075</td>\n",
       "      <td>B1d</td>\n",
       "      <td>20201021</td>\n",
       "      <td>55</td>\n",
       "    </tr>\n",
       "    <tr>\n",
       "      <th>105</th>\n",
       "      <td>2020 RA111</td>\n",
       "      <td>355.119848</td>\n",
       "      <td>-5.483254</td>\n",
       "      <td>B1d</td>\n",
       "      <td>20201021</td>\n",
       "      <td>17</td>\n",
       "    </tr>\n",
       "  </tbody>\n",
       "</table>\n",
       "<p>171 rows × 6 columns</p>\n",
       "</div>"
      ],
      "text/plain": [
       "    Principal_desig          ra        dec field      nite  ccd\n",
       "0          1977 TJ3  216.584884 -12.977057   A0b  20190402   12\n",
       "1         2007 GZ30  216.336556 -12.977531   A0b  20190402   11\n",
       "2         2012 VR40  214.928725 -13.702164   A0b  20190402   32\n",
       "3        2008 GU141  216.620938 -12.229834   A0c  20190403   42\n",
       "4         2007 GZ30  216.240192 -12.914733   A0c  20190403   60\n",
       "..              ...         ...        ...   ...       ...  ...\n",
       "101       2019 NC10  355.178049  -6.122086   B1d  20201021   43\n",
       "102       2019 NO64  353.830981  -5.409925   B1d  20201021   13\n",
       "103       2020 RE68  354.653372  -6.118310   B1d  20201021   42\n",
       "104       2020 RF93  355.103278  -6.383075   B1d  20201021   55\n",
       "105      2020 RA111  355.119848  -5.483254   B1d  20201021   17\n",
       "\n",
       "[171 rows x 6 columns]"
      ]
     },
     "execution_count": 8,
     "metadata": {},
     "output_type": "execute_result"
    }
   ],
   "source": [
    "#Also put all DEEP 2019 2020 trojans together\n",
    "df = pd.concat([pd.read_csv(f) for f in ['A0_Trojans_201904_mpc.csv','A0_Trojans_201905_mpc.csv','A1_Trojans_201906_mpc.csv'\n",
    "                                        ,'B0_Trojans_201907_mpc.csv','B1_Trojans_201908_mpc.csv','B1_Trojans_201909_mpc.csv'\n",
    "                                        ,'B1_Trojans_202010_mpc.csv']])\n",
    "df.to_csv('DEEP_Trojans1920_mpc.csv', index=None)\n",
    "df[['Principal_desig',\n",
    "       'ra', 'dec','field','nite', 'ccd']]"
   ]
  },
  {
   "cell_type": "code",
   "execution_count": 9,
   "id": "72551b67-a901-42b7-992c-ac353194b5a1",
   "metadata": {},
   "outputs": [],
   "source": [
    "deepname = df['Principal_desig'].unique()"
   ]
  },
  {
   "cell_type": "code",
   "execution_count": 14,
   "id": "013a7cad-5d17-48c5-aceb-f5dedd6ff0f3",
   "metadata": {},
   "outputs": [
    {
     "data": {
      "text/plain": [
       "array(['1977 TJ3', '2007 GZ30', '2012 VR40', '2008 GU141', '2012 VU7',\n",
       "       '2013 NS24', '2012 TM15', '2011 SA295', '2013 UF9', '2014 UQ194',\n",
       "       '2012 TP365', '2008 KZ37', '2011 QO111', '2000 SS316', '2016 AA16',\n",
       "       '2012 TP64', '2016 AK20', '2000 SA315', '2006 BC142', '1998 VM6',\n",
       "       '2002 CZ256', '2019 NR47', '2010 UG31', '2011 YK49', '2002 CQ323',\n",
       "       '2001 DY76', '1995 SE31', '2007 TQ274', '2010 CH242', '2002 CH326',\n",
       "       '2013 CA248', '2014 GN10', '2019 PG58', '2007 QK5', '2008 SO42',\n",
       "       '2008 RP109', '2008 TL57', '2007 RS101', '2013 CD137',\n",
       "       '2002 EU158', '2009 WW58', '2014 DJ181', '2007 RE166', '2019 RR67',\n",
       "       '2002 EN68', '2002 FB17', '2007 RK35', '2008 TK82', '2007 RW351',\n",
       "       '2013 EB175', '2014 EK248', '1973 SL', '2002 EP135', '2007 RR154',\n",
       "       '2013 DU5', '2010 WC27', '2009 SO19', '2009 SY208', '2013 AX54',\n",
       "       '2002 GP163', '2008 SA348', '2009 SA415', '2013 AY199',\n",
       "       '2014 ED244', '2014 ER254', '2015 FA355', '2020 PP39',\n",
       "       '2002 CQ130', '2002 EF42', '2008 SX41', '2009 RU8', '2009 SX70',\n",
       "       '2008 RO124', '2009 RY31', '2008 RZ113', '2009 UF179',\n",
       "       '2015 FP169', '2019 ME17', '2019 NJ38', '2020 RB36', '2020 RK57',\n",
       "       '1989 AN2', '2002 CU143', '2008 SU279', '2010 VP109', '2013 AZ107',\n",
       "       '2008 SZ276', '2008 SA346', '2020 QM30', '2020 QL42', '2020 RZ110',\n",
       "       '1996 RS28', '2002 AD13', '2009 WC185', '2009 RQ64', '2010 VC181',\n",
       "       '2009 SQ121', '2008 RV113', '2009 SU151', '2009 SS409',\n",
       "       '2010 VS157', '2014 DV143', '2002 CW207', '2002 EL160',\n",
       "       '2005 LT17', '1998 WJ24', '2009 SC211', '2010 XX7', '2009 SP295',\n",
       "       '1999 YN30', '2002 EA171', '2002 GP31', '2003 FY139', '2009 SO392',\n",
       "       '2014 DE130', '2019 NC10', '2020 RE68', '2020 RF93', '2020 RA111',\n",
       "       '1973 SX', '1997 TM2', '2009 RY34', '2009 SQ199', '2013 CW206',\n",
       "       '2009 TZ28', '2010 VE115', '2014 EV54', '2015 DC283', '2018 LB25',\n",
       "       '2019 OD31', '2020 RN109', '9507 P-L', '2009 UJ91', '2010 WT35',\n",
       "       '2008 RY62', '2010 VT170', '2011 WT157', '2019 NO64'], dtype=object)"
      ]
     },
     "execution_count": 14,
     "metadata": {},
     "output_type": "execute_result"
    }
   ],
   "source": [
    "deepname #number 138"
   ]
  },
  {
   "cell_type": "code",
   "execution_count": 15,
   "id": "ae4feb86-1843-40f7-b8df-603eb7bba782",
   "metadata": {},
   "outputs": [
    {
     "data": {
      "text/plain": [
       "array(['2001 XO128', '2020 HS92', '2008 KU28', ..., '2001 SF317',\n",
       "       '2020 FF9', '2011 OJ63'], dtype=object)"
      ]
     },
     "execution_count": 15,
     "metadata": {},
     "output_type": "execute_result"
    }
   ],
   "source": [
    "desname #1088"
   ]
  },
  {
   "cell_type": "code",
   "execution_count": 26,
   "id": "e097ae30-ff6c-4146-8ce5-2ca7ad6f0c36",
   "metadata": {},
   "outputs": [
    {
     "data": {
      "text/plain": [
       "['2014 UQ194', '2002 CH326']"
      ]
     },
     "execution_count": 26,
     "metadata": {},
     "output_type": "execute_result"
    }
   ],
   "source": [
    "commonname = []\n",
    "for i in deepname:\n",
    "    for a in desname:\n",
    "        if i==a:\n",
    "             commonname.append(a)\n",
    "commonname\n",
    "            "
   ]
  },
  {
   "cell_type": "code",
   "execution_count": 18,
   "id": "f60b7201-b55f-487a-a570-4bd6acb3a6c7",
   "metadata": {},
   "outputs": [
    {
     "data": {
      "text/plain": [
       "2"
      ]
     },
     "execution_count": 18,
     "metadata": {},
     "output_type": "execute_result"
    }
   ],
   "source": [
    "len(commonname) #only two overlapping"
   ]
  },
  {
   "cell_type": "markdown",
   "id": "b348be3e-10ba-42a5-9aed-264d1da14c31",
   "metadata": {},
   "source": [
    "Only two overlapping JTs between DES and DEEP. \\\n",
    "2002 CH326 is in 2019 Aug B1a\\\n",
    "2014 UQ194 is in A0c 20190505"
   ]
  },
  {
   "cell_type": "markdown",
   "id": "5d1a58f6-6457-4b17-b208-476959224716",
   "metadata": {},
   "source": [
    "### Get reliable JTs from DES"
   ]
  },
  {
   "cell_type": "code",
   "execution_count": 45,
   "id": "366e17ae-de89-4f93-a1bb-4a3e71dd954c",
   "metadata": {},
   "outputs": [],
   "source": [
    "desjt = pd.read_csv('DES_Trojans_mpc.csv')\n",
    "despo = pd.read_csv('DES pointing/DES_Y6A1_exposures.csv')"
   ]
  },
  {
   "cell_type": "code",
   "execution_count": 46,
   "id": "17d368bd-5dca-4798-bb67-8e846ad7aacf",
   "metadata": {},
   "outputs": [
    {
     "data": {
      "text/plain": [
       "144"
      ]
     },
     "execution_count": 46,
     "metadata": {},
     "output_type": "execute_result"
    },
    {
     "data": {
      "image/png": "[encoded data removed]",
      "text/plain": [
       "<Figure size 432x288 with 1 Axes>"
      ]
     },
     "metadata": {
      "needs_background": "light"
     },
     "output_type": "display_data"
    }
   ],
   "source": [
    "import matplotlib.pyplot as plt\n",
    "import seaborn as sns\n",
    "#This is nubmer of exposures for each objects\n",
    "nume = desjt.groupby('Principal_desig').size()\n",
    "#plot histogram for that.\n",
    "plt.hist(nume, color = 'blue', edgecolor = 'black',bins = 200)\n",
    "plt.title('Histogram of exposures')\n",
    "plt.xlabel('Number of exposures')\n",
    "plt.ylabel('Number')\n",
    "plt.xticks(np.arange(0, max(nume), 10.0))\n",
    "plt.grid()\n",
    "#np.average(nume[nume<20])\n",
    "len(nume[nume>20])\n",
    "#Looks to have many JTs with 6 exposures.\n",
    "#Many JTs with > 20 exposures "
   ]
  },
  {
   "cell_type": "code",
   "execution_count": 21,
   "id": "5dd688a9-cdee-4cb6-b2ae-1ffca552f4e2",
   "metadata": {},
   "outputs": [
    {
     "data": {
      "text/plain": [
       "151"
      ]
     },
     "execution_count": 21,
     "metadata": {},
     "output_type": "execute_result"
    }
   ],
   "source": [
    "len(nume[nume==1])"
   ]
  },
  {
   "cell_type": "code",
   "execution_count": 22,
   "id": "529d62a1-9c0e-46f9-b775-019838289b0b",
   "metadata": {},
   "outputs": [
    {
     "data": {
      "text/plain": [
       "144"
      ]
     },
     "execution_count": 22,
     "metadata": {},
     "output_type": "execute_result"
    }
   ],
   "source": [
    "len(nume[nume>20])"
   ]
  },
  {
   "cell_type": "code",
   "execution_count": 140,
   "id": "4ebccae6-c3f2-4faf-a410-9ae9639c60b0",
   "metadata": {},
   "outputs": [
    {
     "data": {
      "text/plain": [
       "Principal_desig\n",
       "1971 FF     20\n",
       "1973 UF5     2\n",
       "1975 QD     35\n",
       "1983 PV      3\n",
       "1985 VO      2\n",
       "            ..\n",
       "2021 KL4     8\n",
       "2021 LR4     1\n",
       "3365 T-3     2\n",
       "4101 T-3    11\n",
       "5191 T-3     5\n",
       "Length: 1088, dtype: int64"
      ]
     },
     "execution_count": 140,
     "metadata": {},
     "output_type": "execute_result"
    }
   ],
   "source": [
    "nume"
   ]
  },
  {
   "cell_type": "code",
   "execution_count": 141,
   "id": "64e68d47-d865-42d3-bccc-4981ade4eac5",
   "metadata": {},
   "outputs": [],
   "source": [
    "aa = nume[nume<2]"
   ]
  },
  {
   "cell_type": "code",
   "execution_count": null,
   "id": "b8c483e1-0096-41b8-a4a4-6280e3205ec2",
   "metadata": {},
   "outputs": [],
   "source": [
    "# now add bands and time to the table of Jrojans.\n",
    "a = despo[['EXPNUM','DATE_OBS','BAND']].values.tolist()\n",
    "for i in a:\n",
    "    expnum = i[0]\n",
    "    desjt.loc[desjt['expnum'] == expnum, 'BAND'] = i[2]\n",
    "    desjt.loc[desjt['expnum'] == expnum, 'DATE_OBS'] = i[1]"
   ]
  },
  {
   "cell_type": "code",
   "execution_count": null,
   "id": "31c73777-cb59-4d45-8caf-deb97b11a2db",
   "metadata": {},
   "outputs": [],
   "source": [
    "#desjt.to_csv('DES_Trojans_mpc.csv', index=None)\n",
    "desjt"
   ]
  },
  {
   "cell_type": "markdown",
   "id": "497481de-9523-4992-8c42-1299b3d11bcb",
   "metadata": {},
   "source": [
    "### Plot band per objects"
   ]
  },
  {
   "cell_type": "code",
   "execution_count": 23,
   "id": "4d149ab1-5e02-44e4-b74b-2ee284ba7056",
   "metadata": {},
   "outputs": [
    {
     "data": {
      "text/plain": [
       "86"
      ]
     },
     "execution_count": 23,
     "metadata": {},
     "output_type": "execute_result"
    },
    {
     "data": {
      "image/png": "[encoded data removed]",
      "text/plain": [
       "<Figure size 432x288 with 1 Axes>"
      ]
     },
     "metadata": {
      "needs_background": "light"
     },
     "output_type": "display_data"
    },
    {
     "data": {
      "image/png": "[encoded data removed]",
      "text/plain": [
       "<Figure size 1555.2x777.6 with 6 Axes>"
      ]
     },
     "metadata": {
      "needs_background": "light"
     },
     "output_type": "display_data"
    }
   ],
   "source": [
    "desjt = pd.read_csv('DES_Trojans_mpc.csv')\n",
    "bande = desjt.groupby('BAND').size()\n",
    "#plot histogram for that.\n",
    "plt.figure(figsize=(6,4),frameon=False)\n",
    "plt.hist(desjt['BAND'], color = 'blue', edgecolor = 'black',bins = 100)\n",
    "plt.title('Histogram of exposures per band')\n",
    "plt.xlabel('Band')\n",
    "plt.ylabel('Number')\n",
    "plt.grid()\n",
    "\n",
    "plt.figure(figsize=(18*1.2,9*1.2),frameon=False)\n",
    "ax2=plt.subplot(231)\n",
    "gband = desjt.loc[desjt['BAND']==\"b'g'\"]\n",
    "nume = gband.groupby('Principal_desig').size()\n",
    "plt.hist(nume, color = 'blue', edgecolor = 'black',bins = 50)\n",
    "plt.title('Histogram of exposures per object in g band')\n",
    "plt.xlabel('Number of exposures')\n",
    "plt.ylabel('Number')\n",
    "plt.xticks(np.arange(0, max(nume), 2.0))\n",
    "plt.grid()\n",
    "\n",
    "ax2=plt.subplot(232)\n",
    "rband = desjt.loc[desjt['BAND']==\"b'r'\"]\n",
    "nume = rband.groupby('Principal_desig').size()\n",
    "plt.hist(nume, color = 'blue', edgecolor = 'black',bins = 50)\n",
    "plt.title('Histogram of exposures per object in r band')\n",
    "plt.xlabel('Number of exposures')\n",
    "plt.ylabel('Number')\n",
    "plt.xticks(np.arange(0, max(nume), 2.0))\n",
    "plt.grid()\n",
    "\n",
    "ax2=plt.subplot(233)\n",
    "iband = desjt.loc[desjt['BAND']==\"b'i'\"]\n",
    "nume = iband.groupby('Principal_desig').size()\n",
    "plt.hist(nume, color = 'blue', edgecolor = 'black',bins = 50)\n",
    "plt.title('Histogram of exposures per object in i band')\n",
    "plt.xlabel('Number of exposures')\n",
    "plt.ylabel('Number')\n",
    "plt.xticks(np.arange(0, max(nume), 2.0))\n",
    "plt.grid()\n",
    "\n",
    "ax2=plt.subplot(234)\n",
    "uband = desjt.loc[desjt['BAND']==\"b'u'\"]\n",
    "nume = uband.groupby('Principal_desig').size()\n",
    "plt.hist(nume, color = 'blue', edgecolor = 'black',bins = 50)\n",
    "plt.title('Histogram of exposures per object in u band')\n",
    "plt.xlabel('Number of exposures')\n",
    "plt.ylabel('Number')\n",
    "plt.xticks(np.arange(0, max(nume), 2.0))\n",
    "plt.grid()\n",
    "\n",
    "ax2=plt.subplot(235)\n",
    "Yband = desjt.loc[desjt['BAND']==\"b'z'\"]\n",
    "nume = Yband.groupby('Principal_desig').size()\n",
    "plt.hist(nume, color = 'blue', edgecolor = 'black',bins = 50)\n",
    "plt.title('Histogram of exposures per object in z band')\n",
    "plt.xlabel('Number of exposures')\n",
    "plt.ylabel('Number')\n",
    "plt.xticks(np.arange(0, max(nume), 5.0))\n",
    "plt.grid()\n",
    "plt.tight_layout()\n",
    "\n",
    "ax2=plt.subplot(236)\n",
    "Yband = desjt.loc[desjt['BAND']==\"b'Y'\"]\n",
    "nume = Yband.groupby('Principal_desig').size()\n",
    "plt.hist(nume, color = 'blue', edgecolor = 'black',bins = 50)\n",
    "plt.title('Histogram of exposures per object in Y band')\n",
    "plt.xlabel('Number of exposures')\n",
    "plt.ylabel('Number')\n",
    "plt.xticks(np.arange(0, max(nume), 2.0))\n",
    "plt.grid()\n",
    "plt.tight_layout()\n",
    "\n",
    "Yband = desjt.loc[desjt['BAND']==\"b'z'\"]\n",
    "nume = Yband.groupby('Principal_desig').size()\n",
    "max(nume)"
   ]
  },
  {
   "cell_type": "markdown",
   "id": "ce44b492-ae23-47d5-842f-780cdaec25c6",
   "metadata": {},
   "source": [
    "Now find objects that can be plotted as g - r, r - i or z - i"
   ]
  },
  {
   "cell_type": "code",
   "execution_count": 24,
   "id": "a197082d-19fe-42f4-a0e9-1c58338b4d35",
   "metadata": {},
   "outputs": [
    {
     "name": "stdout",
     "output_type": "stream",
     "text": [
      "654\n",
      "509\n",
      "606\n",
      "659\n",
      "82\n"
     ]
    }
   ],
   "source": [
    "goodg = desjt.loc[(desjt['RA_3sigma']<2)&(desjt['DEC_3sigma']<2)&(desjt['BAND']==\"b'g'\")]['Principal_desig'].unique()\n",
    "goodr = desjt.loc[(desjt['RA_3sigma']<2)&(desjt['DEC_3sigma']<2)&(desjt['BAND']==\"b'r'\")]['Principal_desig'].unique()\n",
    "goodi = desjt.loc[(desjt['RA_3sigma']<2)&(desjt['DEC_3sigma']<2)&(desjt['BAND']==\"b'i'\")]['Principal_desig'].unique()\n",
    "goodz = desjt.loc[(desjt['RA_3sigma']<2)&(desjt['DEC_3sigma']<2)&(desjt['BAND']==\"b'z'\")]['Principal_desig'].unique()\n",
    "goodu = desjt.loc[(desjt['RA_3sigma']<2)&(desjt['DEC_3sigma']<2)&(desjt['BAND']==\"b'u'\")]['Principal_desig'].unique()\n",
    "print(len(goodg))\n",
    "print(len(goodr))\n",
    "print(len(goodi))\n",
    "print(len(goodz))\n",
    "print(len(goodu))"
   ]
  },
  {
   "cell_type": "code",
   "execution_count": 5,
   "id": "4c6e956a-7943-4cd0-b0db-2476969eb949",
   "metadata": {},
   "outputs": [
    {
     "name": "stdout",
     "output_type": "stream",
     "text": [
      "g-r 464\n",
      "r-i 458\n",
      "z-i 525\n",
      "u-g 19\n",
      "z-r 417\n",
      "z-g 490\n",
      "g-r&r-i 423\n",
      "g-r&z-i 366\n",
      "r-i&z-i 396\n",
      "g-r&z-g 382\n",
      "g-r&z-r 382\n"
     ]
    },
    {
     "data": {
      "image/png": "[encoded data removed]",
      "text/plain": [
       "<Figure size 1152x360 with 3 Axes>"
      ]
     },
     "metadata": {
      "needs_background": "light"
     },
     "output_type": "display_data"
    }
   ],
   "source": [
    "grgood = []\n",
    "for i in goodg:\n",
    "    for a in goodr:\n",
    "        if i == a: \n",
    "            grgood.append(i)\n",
    "print('g-r',len(grgood))\n",
    "\n",
    "rigood = []\n",
    "for i in goodi:\n",
    "    for a in goodr:\n",
    "        if i == a: \n",
    "            rigood.append(i)\n",
    "print('r-i',len(rigood))\n",
    "\n",
    "zigood = []\n",
    "for i in goodz:\n",
    "    for a in goodi:\n",
    "        if i == a: \n",
    "            zigood.append(i)\n",
    "print('z-i',len(zigood))\n",
    "\n",
    "uggood = []\n",
    "for i in goodu:\n",
    "    for a in goodg:\n",
    "        if i == a: \n",
    "            uggood.append(i)\n",
    "print('u-g',len(uggood))\n",
    "\n",
    "zrgood = []\n",
    "for i in goodz:\n",
    "    for a in goodr:\n",
    "        if i == a: \n",
    "            zrgood.append(i)\n",
    "print('z-r',len(zrgood))\n",
    "\n",
    "zggood = []\n",
    "for i in goodz:\n",
    "    for a in goodg:\n",
    "        if i == a: \n",
    "            zggood.append(i)\n",
    "print('z-g',len(zggood))\n",
    "\n",
    "grrigood = []\n",
    "for i in grgood:\n",
    "    for a in rigood:\n",
    "        if i == a: \n",
    "            grrigood.append(i)\n",
    "LL = []\n",
    "for b in grrigood:\n",
    "    l = desjt.loc[desjt['Principal_desig'] == b]['Ln'].unique()\n",
    "    l = l[0]\n",
    "    LL.append(l)\n",
    "#print(LL)\n",
    "print('g-r&r-i',len(grrigood))\n",
    "plt.figure(figsize=(16,5),frameon=False)\n",
    "ax2=plt.subplot(131)\n",
    "plt.hist(LL, color = 'blue', edgecolor = 'black',bins = 100)\n",
    "plt.title('Histogram of Ln in g-r & r -i')\n",
    "plt.xlabel('Ln')\n",
    "plt.ylabel('Number in exposures')\n",
    "plt.grid()\n",
    "\n",
    "grzigood = []\n",
    "for i in grgood:\n",
    "    for a in zigood:\n",
    "        if i == a: \n",
    "            grzigood.append(i)\n",
    "print('g-r&z-i',len(grzigood))\n",
    "LL = []\n",
    "for b in grzigood:\n",
    "    l = desjt.loc[desjt['Principal_desig'] == b]['Ln'].unique()\n",
    "    l = l[0]\n",
    "    LL.append(l)\n",
    "ax2=plt.subplot(132)\n",
    "plt.hist(LL, color = 'blue', edgecolor = 'black',bins = 100)\n",
    "plt.title('Histogram of Ln in g-r&z-i')\n",
    "plt.xlabel('Ln')\n",
    "plt.ylabel('Number in exposures')\n",
    "plt.grid()\n",
    "\n",
    "rizigood = []\n",
    "for i in rigood:\n",
    "    for a in zigood:\n",
    "        if i == a: \n",
    "            rizigood.append(i)\n",
    "print('r-i&z-i',len(rizigood))\n",
    "LL = []\n",
    "for b in rizigood:\n",
    "    l = desjt.loc[desjt['Principal_desig'] == b]['Ln'].unique()\n",
    "    l = l[0]\n",
    "    LL.append(l)\n",
    "ax2=plt.subplot(133)\n",
    "plt.hist(LL, color = 'blue', edgecolor = 'black',bins = 100)\n",
    "plt.title('Histogram of Ln in r-i&z-i')\n",
    "plt.xlabel('Ln')\n",
    "plt.ylabel('Number in exposures')\n",
    "plt.grid()\n",
    "\n",
    "grzggood = []\n",
    "for i in grgood:\n",
    "    for a in zggood:\n",
    "        if i == a: \n",
    "            grzggood.append(i)\n",
    "print('g-r&z-g',len(grzggood))\n",
    "\n",
    "grzrgood = []\n",
    "for i in grgood:\n",
    "    for a in zrgood:\n",
    "        if i == a: \n",
    "            grzrgood.append(i)\n",
    "print('g-r&z-r',len(grzrgood))"
   ]
  },
  {
   "cell_type": "code",
   "execution_count": 33,
   "id": "3c4a3ed4-8488-4b9c-baf0-5c63fbccea5d",
   "metadata": {},
   "outputs": [
    {
     "name": "stdout",
     "output_type": "stream",
     "text": [
      "expnum\n",
      "Principal_desig\n",
      "ra\n",
      "dec\n",
      "ccd\n",
      "BAND\n",
      "DATE_OBS\n",
      "U\n",
      "RA_3sigma\n",
      "DEC_3sigma\n",
      "Ln\n"
     ]
    }
   ],
   "source": [
    "#grzigood\n",
    "for i in desjt:\n",
    "    print(i)"
   ]
  },
  {
   "cell_type": "code",
   "execution_count": 29,
   "id": "c885860b-b5e5-4039-b55e-a30c311993f0",
   "metadata": {},
   "outputs": [],
   "source": [
    "# Store some good JTs\n",
    "goodjt = pd.DataFrame()\n",
    "goo = []\n",
    "desjj = desjt.values.tolist()\n",
    "for i in desjj:\n",
    "    najt = i[1]\n",
    "    for j in grzigood:\n",
    "\n",
    "        if najt == j:\n",
    "            goo.append(i)\n",
    "#print(goodjt)\n",
    "#goodjt[['']]\n",
    "#print(goo)"
   ]
  },
  {
   "cell_type": "code",
   "execution_count": 41,
   "id": "00e66416-1b3d-4d9e-aa19-a59df99acae7",
   "metadata": {},
   "outputs": [],
   "source": [
    "goodjt = pd.DataFrame()\n",
    "exp = []\n",
    "na =[]\n",
    "ra=[]\n",
    "dec=[]\n",
    "ccd=[]\n",
    "Band = []\n",
    "date = []\n",
    "U = []\n",
    "delra = []\n",
    "deldec = []\n",
    "L = []\n",
    "for i in goo:\n",
    "    exp.append(i[0])\n",
    "    na.append(i[1])\n",
    "    ra.append(i[2])\n",
    "    dec.append(i[3])\n",
    "    ccd.append(i[4])\n",
    "    Band.append(i[5])\n",
    "    date.append(i[6])\n",
    "    U.append(i[7])\n",
    "    delra.append(i[8])\n",
    "    deldec.append(i[9])\n",
    "    L.append(i[10])"
   ]
  },
  {
   "cell_type": "code",
   "execution_count": 35,
   "id": "194e1e3f-804e-42b0-ae50-5042336450db",
   "metadata": {},
   "outputs": [
    {
     "name": "stdout",
     "output_type": "stream",
     "text": [
      "8632\n"
     ]
    },
    {
     "ename": "TypeError",
     "evalue": "list indices must be integers or slices, not tuple",
     "output_type": "error",
     "traceback": [
      "\u001b[0;31m---------------------------------------------------------------------------\u001b[0m",
      "\u001b[0;31mTypeError\u001b[0m                                 Traceback (most recent call last)",
      "\u001b[0;32m<ipython-input-35-dde9d5a81634>\u001b[0m in \u001b[0;36m<module>\u001b[0;34m\u001b[0m\n\u001b[1;32m      1\u001b[0m \u001b[0mprint\u001b[0m\u001b[0;34m(\u001b[0m\u001b[0mlen\u001b[0m\u001b[0;34m(\u001b[0m\u001b[0mgoo\u001b[0m\u001b[0;34m)\u001b[0m\u001b[0;34m)\u001b[0m\u001b[0;34m\u001b[0m\u001b[0;34m\u001b[0m\u001b[0m\n\u001b[0;32m----> 2\u001b[0;31m goodjt['expnum','Principal_desig','ra','dec'\n\u001b[0m\u001b[1;32m      3\u001b[0m \u001b[0;34m,\u001b[0m\u001b[0;34m'ccd'\u001b[0m\u001b[0;34m\u001b[0m\u001b[0;34m\u001b[0m\u001b[0m\n\u001b[1;32m      4\u001b[0m \u001b[0;34m,\u001b[0m\u001b[0;34m'BAND'\u001b[0m\u001b[0;34m\u001b[0m\u001b[0;34m\u001b[0m\u001b[0m\n\u001b[1;32m      5\u001b[0m \u001b[0;34m,\u001b[0m\u001b[0;34m'DATE_OBS'\u001b[0m\u001b[0;34m\u001b[0m\u001b[0;34m\u001b[0m\u001b[0m\n",
      "\u001b[0;31mTypeError\u001b[0m: list indices must be integers or slices, not tuple"
     ]
    }
   ],
   "source": [
    "#print(len(goo))\n",
    "goodjt['expnum','Principal_desig','ra','dec','ccd','BAND','DATE_OBS','U'\n",
    ",'RA_3sigma'\n",
    ",'DEC_3sigma'\n",
    ",'Ln'] = goo\n",
    "goodjt"
   ]
  },
  {
   "cell_type": "code",
   "execution_count": 43,
   "id": "b30aa088-ff28-49b5-9eb8-67637d36035e",
   "metadata": {},
   "outputs": [
    {
     "data": {
      "text/plain": [
       "366"
      ]
     },
     "execution_count": 43,
     "metadata": {},
     "output_type": "execute_result"
    }
   ],
   "source": [
    "goodjt['expnum'] = exp\n",
    "goodjt['Principal_desig'] =na\n",
    "goodjt['ra'] = ra\n",
    "goodjt['dec']=dec\n",
    "goodjt['ccd']=ccd\n",
    "goodjt['BAND']=Band\n",
    "goodjt['DATE_OBS']=date\n",
    "goodjt['U']=U\n",
    "goodjt['RA_3sigma']=delra\n",
    "goodjt['DEC_3sigma']=deldec\n",
    "goodjt['Ln']=L\n",
    "\n",
    "goodjt\n",
    "len(goodjt['Principal_desig'].unique())"
   ]
  },
  {
   "cell_type": "code",
   "execution_count": 44,
   "id": "d149d160-d845-49a3-8d71-3963ad973fce",
   "metadata": {},
   "outputs": [],
   "source": [
    "goodjt.to_csv('DES_GoodTrojans_mpc.csv', index=None)"
   ]
  },
  {
   "cell_type": "markdown",
   "id": "1dfe2eec-26d5-42cf-b47f-87c33680f88d",
   "metadata": {},
   "source": [
    "### check the two JTs overlapping with DEEP: 2002 CH326 and 2014 UQ194\n",
    "Both are captued in all band of g, r, i, and z. 2002 CH326 also has u band."
   ]
  },
  {
   "cell_type": "code",
   "execution_count": 6,
   "id": "0d9227e6-d16e-44c5-b754-e83ffc898e81",
   "metadata": {},
   "outputs": [
    {
     "name": "stdout",
     "output_type": "stream",
     "text": [
      "True\n",
      "True\n",
      "True\n",
      "True\n",
      "True\n",
      "True\n",
      "True\n",
      "True\n",
      "True\n",
      "True\n",
      "No\n",
      "True\n",
      "['2008 SY169', '2008 SB232', '2010 HU58', '1999 RQ116', '1988 RY11', '2008 SA164', '2002 ET8', '2003 HN24', '2009 SS246', '2010 BH62', '2002 CH326', '2013 CK135', '2013 CX167', '2013 CK222', '2013 CH223', '2013 CC222', '2009 SN122', '2008 EK137', '2007 ET239']\n"
     ]
    }
   ],
   "source": [
    "if '2014 UQ194' in str(zigood):\n",
    "    print('True')\n",
    "else:\n",
    "        print('No') \n",
    "\n",
    "if '2002 CH326' in str(zigood):\n",
    "    print('True')\n",
    "else:\n",
    "        print('No')\n",
    "if '2014 UQ194' in str(grgood):\n",
    "    print('True')\n",
    "else:\n",
    "        print('No')    \n",
    "if '2002 CH326' in str(grgood):\n",
    "    print('True')\n",
    "else:\n",
    "        print('No')\n",
    "\n",
    "if '2014 UQ194' in str(rigood):\n",
    "    print('True')\n",
    "else:\n",
    "        print('No')    \n",
    "if '2002 CH326' in str(rigood):\n",
    "    print('True')\n",
    "else:\n",
    "        print('No')\n",
    "        \n",
    "if '2014 UQ194' in str(zrgood):\n",
    "    print('True')\n",
    "else:\n",
    "        print('No')    \n",
    "if '2002 CH326' in str(zrgood):\n",
    "    print('True')\n",
    "else:\n",
    "        print('No')\n",
    "\n",
    "    \n",
    "if '2014 UQ194' in str(zggood):\n",
    "    print('True')\n",
    "else:\n",
    "        print('No')    \n",
    "if '2002 CH326' in str(zggood):\n",
    "    print('True')\n",
    "else:\n",
    "        print('No')\n",
    "        \n",
    "if '2014 UQ194' in str(uggood):\n",
    "    print('True')\n",
    "else:\n",
    "        print('No')    \n",
    "if '2002 CH326' in str(uggood):\n",
    "    print('True')\n",
    "else:\n",
    "        print('No')\n",
    "print(uggood)"
   ]
  },
  {
   "cell_type": "code",
   "execution_count": null,
   "id": "1cfe1b33-8282-4a77-a83d-09ead898af20",
   "metadata": {},
   "outputs": [],
   "source": []
  },
  {
   "cell_type": "markdown",
   "id": "ef3cd314-d582-47ba-b232-7feebb85da4c",
   "metadata": {},
   "source": [
    "### Now plot u uncertainty from MPC"
   ]
  },
  {
   "cell_type": "code",
   "execution_count": 116,
   "id": "cfadfe96-09f1-4c3b-a7c2-fc51fc424cfe",
   "metadata": {},
   "outputs": [],
   "source": [
    "dfo = pd.read_csv('mpcorb_extended.csv')"
   ]
  },
  {
   "cell_type": "code",
   "execution_count": 127,
   "id": "15dff4f9-2007-4600-af80-28f8d6ae9b2a",
   "metadata": {},
   "outputs": [
    {
     "name": "stdout",
     "output_type": "stream",
     "text": [
      "H\n",
      "G\n",
      "Num_obs\n",
      "rms\n",
      "U\n",
      "Arc_years\n",
      "Perturbers\n",
      "Perturbers_2\n",
      "Number\n",
      "Name\n",
      "Principal_desig\n",
      "Other_desigs\n",
      "Epoch\n",
      "M\n",
      "Peri\n",
      "Node\n",
      "i\n",
      "e\n",
      "n\n",
      "a\n",
      "Ref\n",
      "Num_opps\n",
      "Computer\n",
      "Hex_flags\n",
      "Last_obs\n",
      "Tp\n",
      "Orbital_period\n",
      "Perihelion_dist\n",
      "Aphelion_dist\n",
      "Semilatus_rectum\n",
      "Synodic_period\n",
      "Orbit_type\n",
      "NEO_flag\n",
      "One_km_NEO_flag\n",
      "PHA_flag\n",
      "Critical_list_numbered_object_flag\n",
      "One_opposition_object_flag\n",
      "Arc_length\n"
     ]
    }
   ],
   "source": [
    "# u value does not change with time.\n",
    "df = dfo.loc[dfo.Orbit_type==\"Jupiter Trojan\"]\n",
    "b = df.values.tolist()\n",
    "#for i in df:\n",
    "#    print(i)"
   ]
  },
  {
   "cell_type": "code",
   "execution_count": 128,
   "id": "ae0bbe0b-e618-4288-922c-22b3cb5c29c3",
   "metadata": {},
   "outputs": [
    {
     "data": {
      "text/plain": [
       "'A906 DN'"
      ]
     },
     "execution_count": 128,
     "metadata": {},
     "output_type": "execute_result"
    }
   ],
   "source": [
    "b[0][10]"
   ]
  },
  {
   "cell_type": "code",
   "execution_count": 129,
   "id": "1e466292-34bd-4033-a902-6c6141b3e442",
   "metadata": {},
   "outputs": [
    {
     "data": {
      "text/html": [
       "<div>\n",
       "<style scoped>\n",
       "    .dataframe tbody tr th:only-of-type {\n",
       "        vertical-align: middle;\n",
       "    }\n",
       "\n",
       "    .dataframe tbody tr th {\n",
       "        vertical-align: top;\n",
       "    }\n",
       "\n",
       "    .dataframe thead th {\n",
       "        text-align: right;\n",
       "    }\n",
       "</style>\n",
       "<table border=\"1\" class=\"dataframe\">\n",
       "  <thead>\n",
       "    <tr style=\"text-align: right;\">\n",
       "      <th></th>\n",
       "      <th>expnum</th>\n",
       "      <th>Principal_desig</th>\n",
       "      <th>ra</th>\n",
       "      <th>dec</th>\n",
       "      <th>ccd</th>\n",
       "      <th>BAND</th>\n",
       "      <th>DATE_OBS</th>\n",
       "      <th>U</th>\n",
       "    </tr>\n",
       "  </thead>\n",
       "  <tbody>\n",
       "    <tr>\n",
       "      <th>0</th>\n",
       "      <td>157460</td>\n",
       "      <td>2001 XO128</td>\n",
       "      <td>34.570048</td>\n",
       "      <td>-5.635341</td>\n",
       "      <td>58</td>\n",
       "      <td>b'g'</td>\n",
       "      <td>b'2012-12-03T01:54:00.378837'</td>\n",
       "      <td>0</td>\n",
       "    </tr>\n",
       "    <tr>\n",
       "      <th>1</th>\n",
       "      <td>157460</td>\n",
       "      <td>2020 HS92</td>\n",
       "      <td>34.224163</td>\n",
       "      <td>-5.320325</td>\n",
       "      <td>47</td>\n",
       "      <td>b'g'</td>\n",
       "      <td>b'2012-12-03T01:54:00.378837'</td>\n",
       "      <td>5</td>\n",
       "    </tr>\n",
       "    <tr>\n",
       "      <th>2</th>\n",
       "      <td>157461</td>\n",
       "      <td>2001 XO128</td>\n",
       "      <td>34.569808</td>\n",
       "      <td>-5.635227</td>\n",
       "      <td>58</td>\n",
       "      <td>b'r'</td>\n",
       "      <td>b'2012-12-03T01:57:23.095488'</td>\n",
       "      <td>0</td>\n",
       "    </tr>\n",
       "    <tr>\n",
       "      <th>3</th>\n",
       "      <td>157461</td>\n",
       "      <td>2020 HS92</td>\n",
       "      <td>34.223969</td>\n",
       "      <td>-5.320304</td>\n",
       "      <td>47</td>\n",
       "      <td>b'r'</td>\n",
       "      <td>b'2012-12-03T01:57:23.095488'</td>\n",
       "      <td>5</td>\n",
       "    </tr>\n",
       "    <tr>\n",
       "      <th>4</th>\n",
       "      <td>157462</td>\n",
       "      <td>2001 XO128</td>\n",
       "      <td>34.569596</td>\n",
       "      <td>-5.635126</td>\n",
       "      <td>58</td>\n",
       "      <td>b'i'</td>\n",
       "      <td>b'2012-12-03T02:00:22.145094'</td>\n",
       "      <td>0</td>\n",
       "    </tr>\n",
       "    <tr>\n",
       "      <th>...</th>\n",
       "      <td>...</td>\n",
       "      <td>...</td>\n",
       "      <td>...</td>\n",
       "      <td>...</td>\n",
       "      <td>...</td>\n",
       "      <td>...</td>\n",
       "      <td>...</td>\n",
       "      <td>...</td>\n",
       "    </tr>\n",
       "    <tr>\n",
       "      <th>13770</th>\n",
       "      <td>397707</td>\n",
       "      <td>2006 AN97</td>\n",
       "      <td>35.770972</td>\n",
       "      <td>-4.227069</td>\n",
       "      <td>13</td>\n",
       "      <td>b'g'</td>\n",
       "      <td>b'2015-01-14T01:03:29.030379'</td>\n",
       "      <td>0</td>\n",
       "    </tr>\n",
       "    <tr>\n",
       "      <th>13771</th>\n",
       "      <td>397707</td>\n",
       "      <td>2006 BH185</td>\n",
       "      <td>36.941394</td>\n",
       "      <td>-4.456668</td>\n",
       "      <td>30</td>\n",
       "      <td>b'g'</td>\n",
       "      <td>b'2015-01-14T01:03:29.030379'</td>\n",
       "      <td>0</td>\n",
       "    </tr>\n",
       "    <tr>\n",
       "      <th>13772</th>\n",
       "      <td>397708</td>\n",
       "      <td>2006 AN97</td>\n",
       "      <td>35.771034</td>\n",
       "      <td>-4.226834</td>\n",
       "      <td>13</td>\n",
       "      <td>b'g'</td>\n",
       "      <td>b'2015-01-14T01:07:16.506021'</td>\n",
       "      <td>0</td>\n",
       "    </tr>\n",
       "    <tr>\n",
       "      <th>13773</th>\n",
       "      <td>397708</td>\n",
       "      <td>2006 BH185</td>\n",
       "      <td>36.941465</td>\n",
       "      <td>-4.456469</td>\n",
       "      <td>30</td>\n",
       "      <td>b'g'</td>\n",
       "      <td>b'2015-01-14T01:07:16.506021'</td>\n",
       "      <td>0</td>\n",
       "    </tr>\n",
       "    <tr>\n",
       "      <th>13774</th>\n",
       "      <td>397715</td>\n",
       "      <td>2020 HG116</td>\n",
       "      <td>31.041859</td>\n",
       "      <td>-0.847491</td>\n",
       "      <td>11</td>\n",
       "      <td>b'r'</td>\n",
       "      <td>b'2015-01-14T01:31:09.767010'</td>\n",
       "      <td>1</td>\n",
       "    </tr>\n",
       "  </tbody>\n",
       "</table>\n",
       "<p>13775 rows × 8 columns</p>\n",
       "</div>"
      ],
      "text/plain": [
       "       expnum Principal_desig         ra       dec  ccd  BAND  \\\n",
       "0      157460      2001 XO128  34.570048 -5.635341   58  b'g'   \n",
       "1      157460       2020 HS92  34.224163 -5.320325   47  b'g'   \n",
       "2      157461      2001 XO128  34.569808 -5.635227   58  b'r'   \n",
       "3      157461       2020 HS92  34.223969 -5.320304   47  b'r'   \n",
       "4      157462      2001 XO128  34.569596 -5.635126   58  b'i'   \n",
       "...       ...             ...        ...       ...  ...   ...   \n",
       "13770  397707       2006 AN97  35.770972 -4.227069   13  b'g'   \n",
       "13771  397707      2006 BH185  36.941394 -4.456668   30  b'g'   \n",
       "13772  397708       2006 AN97  35.771034 -4.226834   13  b'g'   \n",
       "13773  397708      2006 BH185  36.941465 -4.456469   30  b'g'   \n",
       "13774  397715      2020 HG116  31.041859 -0.847491   11  b'r'   \n",
       "\n",
       "                            DATE_OBS  U  \n",
       "0      b'2012-12-03T01:54:00.378837'  0  \n",
       "1      b'2012-12-03T01:54:00.378837'  5  \n",
       "2      b'2012-12-03T01:57:23.095488'  0  \n",
       "3      b'2012-12-03T01:57:23.095488'  5  \n",
       "4      b'2012-12-03T02:00:22.145094'  0  \n",
       "...                              ... ..  \n",
       "13770  b'2015-01-14T01:03:29.030379'  0  \n",
       "13771  b'2015-01-14T01:03:29.030379'  0  \n",
       "13772  b'2015-01-14T01:07:16.506021'  0  \n",
       "13773  b'2015-01-14T01:07:16.506021'  0  \n",
       "13774  b'2015-01-14T01:31:09.767010'  1  \n",
       "\n",
       "[13775 rows x 8 columns]"
      ]
     },
     "execution_count": 129,
     "metadata": {},
     "output_type": "execute_result"
    }
   ],
   "source": [
    "desjt = pd.read_csv('DES_Trojans_mpc.csv')\n",
    "for i in b:\n",
    "    U = i[4]\n",
    "    sig = i[10]\n",
    "    desjt.loc[desjt['Principal_desig'] == sig, 'U'] = U\n",
    "desjt\n",
    "desjt.to_csv('DES_Trojans_mpc.csv', index=None)"
   ]
  },
  {
   "cell_type": "code",
   "execution_count": 149,
   "id": "90b80b4a-b3b7-4156-b093-c5e3963edf83",
   "metadata": {},
   "outputs": [
    {
     "data": {
      "image/png": "[encoded data removed]",
      "text/plain": [
       "<Figure size 432x288 with 1 Axes>"
      ]
     },
     "metadata": {
      "needs_background": "light"
     },
     "output_type": "display_data"
    }
   ],
   "source": [
    "desjt = pd.read_csv('DES_Trojans_mpc.csv')\n",
    "u = desjt['U'].values.tolist()\n",
    "plt.hist(u, color = 'blue', edgecolor = 'black',bins = 100)\n",
    "plt.title('Histogram of uncertainty')\n",
    "plt.xlabel('Uncertainty values')\n",
    "plt.ylabel('Number')\n",
    "plt.yticks(np.arange(0, 10000, 1000.0))\n",
    "plt.grid()\n",
    "#len(u[u<2])\n",
    "#About > 11000 smaller than 2 u uncertainty. Good."
   ]
  },
  {
   "cell_type": "code",
   "execution_count": 144,
   "id": "2d2db588-3f99-42b8-861a-b15f02e93eeb",
   "metadata": {},
   "outputs": [
    {
     "data": {
      "text/html": [
       "<div>\n",
       "<style scoped>\n",
       "    .dataframe tbody tr th:only-of-type {\n",
       "        vertical-align: middle;\n",
       "    }\n",
       "\n",
       "    .dataframe tbody tr th {\n",
       "        vertical-align: top;\n",
       "    }\n",
       "\n",
       "    .dataframe thead th {\n",
       "        text-align: right;\n",
       "    }\n",
       "</style>\n",
       "<table border=\"1\" class=\"dataframe\">\n",
       "  <thead>\n",
       "    <tr style=\"text-align: right;\">\n",
       "      <th></th>\n",
       "      <th>expnum</th>\n",
       "      <th>Principal_desig</th>\n",
       "      <th>ra</th>\n",
       "      <th>dec</th>\n",
       "      <th>ccd</th>\n",
       "      <th>BAND</th>\n",
       "      <th>DATE_OBS</th>\n",
       "      <th>U</th>\n",
       "    </tr>\n",
       "  </thead>\n",
       "  <tbody>\n",
       "    <tr>\n",
       "      <th>0</th>\n",
       "      <td>157460</td>\n",
       "      <td>2001 XO128</td>\n",
       "      <td>34.570048</td>\n",
       "      <td>-5.635341</td>\n",
       "      <td>58</td>\n",
       "      <td>b'g'</td>\n",
       "      <td>b'2012-12-03T01:54:00.378837'</td>\n",
       "      <td>0</td>\n",
       "    </tr>\n",
       "    <tr>\n",
       "      <th>1</th>\n",
       "      <td>157460</td>\n",
       "      <td>2020 HS92</td>\n",
       "      <td>34.224163</td>\n",
       "      <td>-5.320325</td>\n",
       "      <td>47</td>\n",
       "      <td>b'g'</td>\n",
       "      <td>b'2012-12-03T01:54:00.378837'</td>\n",
       "      <td>5</td>\n",
       "    </tr>\n",
       "    <tr>\n",
       "      <th>2</th>\n",
       "      <td>157461</td>\n",
       "      <td>2001 XO128</td>\n",
       "      <td>34.569808</td>\n",
       "      <td>-5.635227</td>\n",
       "      <td>58</td>\n",
       "      <td>b'r'</td>\n",
       "      <td>b'2012-12-03T01:57:23.095488'</td>\n",
       "      <td>0</td>\n",
       "    </tr>\n",
       "    <tr>\n",
       "      <th>3</th>\n",
       "      <td>157461</td>\n",
       "      <td>2020 HS92</td>\n",
       "      <td>34.223969</td>\n",
       "      <td>-5.320304</td>\n",
       "      <td>47</td>\n",
       "      <td>b'r'</td>\n",
       "      <td>b'2012-12-03T01:57:23.095488'</td>\n",
       "      <td>5</td>\n",
       "    </tr>\n",
       "    <tr>\n",
       "      <th>4</th>\n",
       "      <td>157462</td>\n",
       "      <td>2001 XO128</td>\n",
       "      <td>34.569596</td>\n",
       "      <td>-5.635126</td>\n",
       "      <td>58</td>\n",
       "      <td>b'i'</td>\n",
       "      <td>b'2012-12-03T02:00:22.145094'</td>\n",
       "      <td>0</td>\n",
       "    </tr>\n",
       "    <tr>\n",
       "      <th>...</th>\n",
       "      <td>...</td>\n",
       "      <td>...</td>\n",
       "      <td>...</td>\n",
       "      <td>...</td>\n",
       "      <td>...</td>\n",
       "      <td>...</td>\n",
       "      <td>...</td>\n",
       "      <td>...</td>\n",
       "    </tr>\n",
       "    <tr>\n",
       "      <th>13770</th>\n",
       "      <td>397707</td>\n",
       "      <td>2006 AN97</td>\n",
       "      <td>35.770972</td>\n",
       "      <td>-4.227069</td>\n",
       "      <td>13</td>\n",
       "      <td>b'g'</td>\n",
       "      <td>b'2015-01-14T01:03:29.030379'</td>\n",
       "      <td>0</td>\n",
       "    </tr>\n",
       "    <tr>\n",
       "      <th>13771</th>\n",
       "      <td>397707</td>\n",
       "      <td>2006 BH185</td>\n",
       "      <td>36.941394</td>\n",
       "      <td>-4.456668</td>\n",
       "      <td>30</td>\n",
       "      <td>b'g'</td>\n",
       "      <td>b'2015-01-14T01:03:29.030379'</td>\n",
       "      <td>0</td>\n",
       "    </tr>\n",
       "    <tr>\n",
       "      <th>13772</th>\n",
       "      <td>397708</td>\n",
       "      <td>2006 AN97</td>\n",
       "      <td>35.771034</td>\n",
       "      <td>-4.226834</td>\n",
       "      <td>13</td>\n",
       "      <td>b'g'</td>\n",
       "      <td>b'2015-01-14T01:07:16.506021'</td>\n",
       "      <td>0</td>\n",
       "    </tr>\n",
       "    <tr>\n",
       "      <th>13773</th>\n",
       "      <td>397708</td>\n",
       "      <td>2006 BH185</td>\n",
       "      <td>36.941465</td>\n",
       "      <td>-4.456469</td>\n",
       "      <td>30</td>\n",
       "      <td>b'g'</td>\n",
       "      <td>b'2015-01-14T01:07:16.506021'</td>\n",
       "      <td>0</td>\n",
       "    </tr>\n",
       "    <tr>\n",
       "      <th>13774</th>\n",
       "      <td>397715</td>\n",
       "      <td>2020 HG116</td>\n",
       "      <td>31.041859</td>\n",
       "      <td>-0.847491</td>\n",
       "      <td>11</td>\n",
       "      <td>b'r'</td>\n",
       "      <td>b'2015-01-14T01:31:09.767010'</td>\n",
       "      <td>1</td>\n",
       "    </tr>\n",
       "  </tbody>\n",
       "</table>\n",
       "<p>13775 rows × 8 columns</p>\n",
       "</div>"
      ],
      "text/plain": [
       "       expnum Principal_desig         ra       dec  ccd  BAND  \\\n",
       "0      157460      2001 XO128  34.570048 -5.635341   58  b'g'   \n",
       "1      157460       2020 HS92  34.224163 -5.320325   47  b'g'   \n",
       "2      157461      2001 XO128  34.569808 -5.635227   58  b'r'   \n",
       "3      157461       2020 HS92  34.223969 -5.320304   47  b'r'   \n",
       "4      157462      2001 XO128  34.569596 -5.635126   58  b'i'   \n",
       "...       ...             ...        ...       ...  ...   ...   \n",
       "13770  397707       2006 AN97  35.770972 -4.227069   13  b'g'   \n",
       "13771  397707      2006 BH185  36.941394 -4.456668   30  b'g'   \n",
       "13772  397708       2006 AN97  35.771034 -4.226834   13  b'g'   \n",
       "13773  397708      2006 BH185  36.941465 -4.456469   30  b'g'   \n",
       "13774  397715      2020 HG116  31.041859 -0.847491   11  b'r'   \n",
       "\n",
       "                            DATE_OBS  U  \n",
       "0      b'2012-12-03T01:54:00.378837'  0  \n",
       "1      b'2012-12-03T01:54:00.378837'  5  \n",
       "2      b'2012-12-03T01:57:23.095488'  0  \n",
       "3      b'2012-12-03T01:57:23.095488'  5  \n",
       "4      b'2012-12-03T02:00:22.145094'  0  \n",
       "...                              ... ..  \n",
       "13770  b'2015-01-14T01:03:29.030379'  0  \n",
       "13771  b'2015-01-14T01:03:29.030379'  0  \n",
       "13772  b'2015-01-14T01:07:16.506021'  0  \n",
       "13773  b'2015-01-14T01:07:16.506021'  0  \n",
       "13774  b'2015-01-14T01:31:09.767010'  1  \n",
       "\n",
       "[13775 rows x 8 columns]"
      ]
     },
     "execution_count": 144,
     "metadata": {},
     "output_type": "execute_result"
    }
   ],
   "source": [
    "desjt"
   ]
  },
  {
   "cell_type": "markdown",
   "id": "aa2e5d47-e790-465a-a138-8a1c5c0a6e08",
   "metadata": {},
   "source": [
    "### Now use JPL Horizon to calcualte real uncertainty\n",
    "Will do it on Jupyterbook (not on moriarty)"
   ]
  },
  {
   "cell_type": "code",
   "execution_count": 1,
   "id": "a1325361-d934-47c1-9c8e-52f244bc3aea",
   "metadata": {},
   "outputs": [
    {
     "name": "stdout",
     "output_type": "stream",
     "text": [
      "Collecting astroquery\n",
      "\u001b[33m  WARNING: Retrying (Retry(total=4, connect=None, read=None, redirect=None, status=None)) after connection broken by 'NewConnectionError('<pip._vendor.urllib3.connection.HTTPSConnection object at 0x7fcd0f3c7340>: Failed to establish a new connection: [Errno -2] Name or service not known')': /packages/3e/de/3591b576540914cfd2ae0c3e99e6da4c545852698feffb7af05552c9fb33/astroquery-0.4.2-py3-none-any.whl\u001b[0m\n",
      "  Downloading astroquery-0.4.2-py3-none-any.whl (3.9 MB)\n",
      "\u001b[K     |████████████████████████████████| 3.9 MB 13.8 MB/s eta 0:00:01\n",
      "\u001b[?25hRequirement already satisfied: requests>=2.4.3 in /usr/local/anaconda/lib/python3.8/site-packages (from astroquery) (2.25.1)\n",
      "Collecting pyvo>=1.1\n",
      "  Downloading pyvo-1.1-py3-none-any.whl (802 kB)\n",
      "\u001b[K     |████████████████████████████████| 802 kB 164.6 MB/s eta 0:00:01\n",
      "\u001b[?25hRequirement already satisfied: keyring>=4.0 in /usr/local/anaconda/lib/python3.8/site-packages (from astroquery) (21.4.0)\n",
      "Requirement already satisfied: astropy>=3.1.2 in /usr/local/anaconda/lib/python3.8/site-packages (from astroquery) (4.2)\n",
      "Requirement already satisfied: beautifulsoup4>=4.3.2 in /usr/local/anaconda/lib/python3.8/site-packages (from astroquery) (4.9.3)\n",
      "Requirement already satisfied: html5lib>=0.999 in /usr/local/anaconda/lib/python3.8/site-packages (from astroquery) (1.1)\n",
      "Requirement already satisfied: numpy>=1.15.0 in /usr/local/anaconda/lib/python3.8/site-packages (from astroquery) (1.19.2)\n",
      "Requirement already satisfied: six in /usr/local/anaconda/lib/python3.8/site-packages (from astroquery) (1.15.0)\n",
      "Requirement already satisfied: pyerfa in /usr/local/anaconda/lib/python3.8/site-packages (from astropy>=3.1.2->astroquery) (1.7.1.1)\n",
      "Requirement already satisfied: soupsieve>1.2 in /usr/local/anaconda/lib/python3.8/site-packages (from beautifulsoup4>=4.3.2->astroquery) (2.1)\n",
      "Requirement already satisfied: webencodings in /usr/local/anaconda/lib/python3.8/site-packages (from html5lib>=0.999->astroquery) (0.5.1)\n",
      "Requirement already satisfied: SecretStorage>=3 in /usr/local/anaconda/lib/python3.8/site-packages (from keyring>=4.0->astroquery) (3.3.0)\n",
      "Requirement already satisfied: jeepney>=0.4.2 in /usr/local/anaconda/lib/python3.8/site-packages (from keyring>=4.0->astroquery) (0.6.0)\n",
      "Collecting mimeparse\n",
      "  Downloading mimeparse-0.1.3.tar.gz (4.4 kB)\n",
      "Requirement already satisfied: urllib3<1.27,>=1.21.1 in /usr/local/anaconda/lib/python3.8/site-packages (from requests>=2.4.3->astroquery) (1.26.2)\n",
      "Requirement already satisfied: certifi>=2017.4.17 in /usr/local/anaconda/lib/python3.8/site-packages (from requests>=2.4.3->astroquery) (2020.6.20)\n",
      "Requirement already satisfied: chardet<5,>=3.0.2 in /usr/local/anaconda/lib/python3.8/site-packages (from requests>=2.4.3->astroquery) (4.0.0)\n",
      "Requirement already satisfied: idna<3,>=2.5 in /usr/local/anaconda/lib/python3.8/site-packages (from requests>=2.4.3->astroquery) (2.10)\n",
      "Requirement already satisfied: cryptography>=2.0 in /usr/local/anaconda/lib/python3.8/site-packages (from SecretStorage>=3->keyring>=4.0->astroquery) (3.3.1)\n",
      "Requirement already satisfied: cffi>=1.12 in /usr/local/anaconda/lib/python3.8/site-packages (from cryptography>=2.0->SecretStorage>=3->keyring>=4.0->astroquery) (1.14.4)\n",
      "Requirement already satisfied: pycparser in /usr/local/anaconda/lib/python3.8/site-packages (from cffi>=1.12->cryptography>=2.0->SecretStorage>=3->keyring>=4.0->astroquery) (2.20)\n",
      "Building wheels for collected packages: mimeparse\n",
      "  Building wheel for mimeparse (setup.py) ... \u001b[?25ldone\n",
      "\u001b[?25h  Created wheel for mimeparse: filename=mimeparse-0.1.3-py3-none-any.whl size=3863 sha256=39932e31aa0b5cb35a80d06a77e6c8cee7172c539765da811a7f1e943acb8011\n",
      "  Stored in directory: /home/jiamingp/.cache/pip/wheels/10/4a/42/2f6bad162811fe51b5e3f250cb31c88e0d362b23e873380815\n",
      "Successfully built mimeparse\n",
      "Installing collected packages: mimeparse, pyvo, astroquery\n",
      "Successfully installed astroquery-0.4.2 mimeparse-0.1.3 pyvo-1.1\n",
      "Note: you may need to restart the kernel to use updated packages.\n"
     ]
    }
   ],
   "source": [
    "#pip install astroquery"
   ]
  },
  {
   "cell_type": "code",
   "execution_count": 16,
   "id": "e1729a8a-8cdc-4075-89ee-66e8f28c7417",
   "metadata": {},
   "outputs": [],
   "source": [
    "from astroquery.jplhorizons import Horizons\n",
    "from astropy.time import Time\n",
    "starttime = Time('2012-12-03 01:54:00.37', format='iso', scale='utc')\n",
    "stoptime = starttime + 1*u.minute\n",
    "obj = Horizons(id='2001 XO128', location='W84',\n",
    "                epochs={'start':'2012-12-03 01:54:00.37', 'stop':'2012-12-03 01:56:00.37',\n",
    "                        'step':'1m'})"
   ]
  },
  {
   "cell_type": "markdown",
   "id": "d0be0a90-c02a-49f7-b276-23b5a09a7042",
   "metadata": {},
   "source": [
    "### Separate JTs with L4 and L5"
   ]
  },
  {
   "cell_type": "code",
   "execution_count": 34,
   "id": "272322f9-6ca3-450b-a5bf-b54bf5b15bd2",
   "metadata": {},
   "outputs": [],
   "source": [
    "JT = pd.read_csv('DES JTs/List of Jupiter Trojans.csv')\n",
    "desjt = pd.read_csv('DES JTs/DES_Trojans_mpc.csv')"
   ]
  },
  {
   "cell_type": "code",
   "execution_count": 20,
   "id": "0e010f04-2609-409d-b9e9-14b8754a4125",
   "metadata": {},
   "outputs": [
    {
     "data": {
      "text/html": [
       "<div>\n",
       "<style scoped>\n",
       "    .dataframe tbody tr th:only-of-type {\n",
       "        vertical-align: middle;\n",
       "    }\n",
       "\n",
       "    .dataframe tbody tr th {\n",
       "        vertical-align: top;\n",
       "    }\n",
       "\n",
       "    .dataframe thead th {\n",
       "        text-align: right;\n",
       "    }\n",
       "</style>\n",
       "<table border=\"1\" class=\"dataframe\">\n",
       "  <thead>\n",
       "    <tr style=\"text-align: right;\">\n",
       "      <th></th>\n",
       "      <th>expnum</th>\n",
       "      <th>Principal_desig</th>\n",
       "      <th>ra</th>\n",
       "      <th>dec</th>\n",
       "      <th>ccd</th>\n",
       "      <th>BAND</th>\n",
       "      <th>DATE_OBS</th>\n",
       "      <th>U</th>\n",
       "      <th>RA_3sigma</th>\n",
       "      <th>DEC_3sigma</th>\n",
       "    </tr>\n",
       "  </thead>\n",
       "  <tbody>\n",
       "    <tr>\n",
       "      <th>0</th>\n",
       "      <td>157460</td>\n",
       "      <td>2001 XO128</td>\n",
       "      <td>34.570048</td>\n",
       "      <td>-5.635341</td>\n",
       "      <td>58</td>\n",
       "      <td>b'g'</td>\n",
       "      <td>b'2012-12-03T01:54:00.378837'</td>\n",
       "      <td>0.0</td>\n",
       "      <td>RA_3sigma\\n  arcsec \\n---------\\n    0.102</td>\n",
       "      <td>DEC_3sigma\\n  arcsec  \\n----------\\n      0.09</td>\n",
       "    </tr>\n",
       "    <tr>\n",
       "      <th>1</th>\n",
       "      <td>157460</td>\n",
       "      <td>2020 HS92</td>\n",
       "      <td>34.224163</td>\n",
       "      <td>-5.320325</td>\n",
       "      <td>47</td>\n",
       "      <td>b'g'</td>\n",
       "      <td>b'2012-12-03T01:54:00.378837'</td>\n",
       "      <td>5.0</td>\n",
       "      <td>RA_3sigma\\n  arcsec \\n---------\\n   24.284</td>\n",
       "      <td>DEC_3sigma\\n  arcsec  \\n----------\\n     6.103</td>\n",
       "    </tr>\n",
       "    <tr>\n",
       "      <th>2</th>\n",
       "      <td>157461</td>\n",
       "      <td>2001 XO128</td>\n",
       "      <td>34.569808</td>\n",
       "      <td>-5.635227</td>\n",
       "      <td>58</td>\n",
       "      <td>b'r'</td>\n",
       "      <td>b'2012-12-03T01:57:23.095488'</td>\n",
       "      <td>0.0</td>\n",
       "      <td>RA_3sigma\\n  arcsec \\n---------\\n    0.102</td>\n",
       "      <td>DEC_3sigma\\n  arcsec  \\n----------\\n      0.09</td>\n",
       "    </tr>\n",
       "    <tr>\n",
       "      <th>3</th>\n",
       "      <td>157461</td>\n",
       "      <td>2020 HS92</td>\n",
       "      <td>34.223969</td>\n",
       "      <td>-5.320304</td>\n",
       "      <td>47</td>\n",
       "      <td>b'r'</td>\n",
       "      <td>b'2012-12-03T01:57:23.095488'</td>\n",
       "      <td>5.0</td>\n",
       "      <td>RA_3sigma\\n  arcsec \\n---------\\n   24.284</td>\n",
       "      <td>DEC_3sigma\\n  arcsec  \\n----------\\n     6.103</td>\n",
       "    </tr>\n",
       "    <tr>\n",
       "      <th>4</th>\n",
       "      <td>157462</td>\n",
       "      <td>2001 XO128</td>\n",
       "      <td>34.569596</td>\n",
       "      <td>-5.635126</td>\n",
       "      <td>58</td>\n",
       "      <td>b'i'</td>\n",
       "      <td>b'2012-12-03T02:00:22.145094'</td>\n",
       "      <td>0.0</td>\n",
       "      <td>RA_3sigma\\n  arcsec \\n---------\\n    0.102</td>\n",
       "      <td>DEC_3sigma\\n  arcsec  \\n----------\\n      0.09</td>\n",
       "    </tr>\n",
       "    <tr>\n",
       "      <th>...</th>\n",
       "      <td>...</td>\n",
       "      <td>...</td>\n",
       "      <td>...</td>\n",
       "      <td>...</td>\n",
       "      <td>...</td>\n",
       "      <td>...</td>\n",
       "      <td>...</td>\n",
       "      <td>...</td>\n",
       "      <td>...</td>\n",
       "      <td>...</td>\n",
       "    </tr>\n",
       "    <tr>\n",
       "      <th>13770</th>\n",
       "      <td>397707</td>\n",
       "      <td>2006 AN97</td>\n",
       "      <td>35.770972</td>\n",
       "      <td>-4.227069</td>\n",
       "      <td>13</td>\n",
       "      <td>b'g'</td>\n",
       "      <td>b'2015-01-14T01:03:29.030379'</td>\n",
       "      <td>0.0</td>\n",
       "      <td>RA_3sigma\\n  arcsec \\n---------\\n    0.172</td>\n",
       "      <td>DEC_3sigma\\n  arcsec  \\n----------\\n     0.096</td>\n",
       "    </tr>\n",
       "    <tr>\n",
       "      <th>13771</th>\n",
       "      <td>397707</td>\n",
       "      <td>2006 BH185</td>\n",
       "      <td>36.941394</td>\n",
       "      <td>-4.456668</td>\n",
       "      <td>30</td>\n",
       "      <td>b'g'</td>\n",
       "      <td>b'2015-01-14T01:03:29.030379'</td>\n",
       "      <td>0.0</td>\n",
       "      <td>RA_3sigma\\n  arcsec \\n---------\\n    0.195</td>\n",
       "      <td>DEC_3sigma\\n  arcsec  \\n----------\\n     0.104</td>\n",
       "    </tr>\n",
       "    <tr>\n",
       "      <th>13772</th>\n",
       "      <td>397708</td>\n",
       "      <td>2006 AN97</td>\n",
       "      <td>35.771034</td>\n",
       "      <td>-4.226834</td>\n",
       "      <td>13</td>\n",
       "      <td>b'g'</td>\n",
       "      <td>b'2015-01-14T01:07:16.506021'</td>\n",
       "      <td>0.0</td>\n",
       "      <td>RA_3sigma\\n  arcsec \\n---------\\n    0.172</td>\n",
       "      <td>DEC_3sigma\\n  arcsec  \\n----------\\n     0.096</td>\n",
       "    </tr>\n",
       "    <tr>\n",
       "      <th>13773</th>\n",
       "      <td>397708</td>\n",
       "      <td>2006 BH185</td>\n",
       "      <td>36.941465</td>\n",
       "      <td>-4.456469</td>\n",
       "      <td>30</td>\n",
       "      <td>b'g'</td>\n",
       "      <td>b'2015-01-14T01:07:16.506021'</td>\n",
       "      <td>0.0</td>\n",
       "      <td>RA_3sigma\\n  arcsec \\n---------\\n    0.195</td>\n",
       "      <td>DEC_3sigma\\n  arcsec  \\n----------\\n     0.104</td>\n",
       "    </tr>\n",
       "    <tr>\n",
       "      <th>13774</th>\n",
       "      <td>397715</td>\n",
       "      <td>2020 HG116</td>\n",
       "      <td>31.041859</td>\n",
       "      <td>-0.847491</td>\n",
       "      <td>11</td>\n",
       "      <td>b'r'</td>\n",
       "      <td>b'2015-01-14T01:31:09.767010'</td>\n",
       "      <td>1.0</td>\n",
       "      <td>RA_3sigma\\n  arcsec \\n---------\\n   23.213</td>\n",
       "      <td>DEC_3sigma\\n  arcsec  \\n----------\\n     1.185</td>\n",
       "    </tr>\n",
       "  </tbody>\n",
       "</table>\n",
       "<p>13775 rows × 10 columns</p>\n",
       "</div>"
      ],
      "text/plain": [
       "       expnum Principal_desig         ra       dec  ccd  BAND  \\\n",
       "0      157460      2001 XO128  34.570048 -5.635341   58  b'g'   \n",
       "1      157460       2020 HS92  34.224163 -5.320325   47  b'g'   \n",
       "2      157461      2001 XO128  34.569808 -5.635227   58  b'r'   \n",
       "3      157461       2020 HS92  34.223969 -5.320304   47  b'r'   \n",
       "4      157462      2001 XO128  34.569596 -5.635126   58  b'i'   \n",
       "...       ...             ...        ...       ...  ...   ...   \n",
       "13770  397707       2006 AN97  35.770972 -4.227069   13  b'g'   \n",
       "13771  397707      2006 BH185  36.941394 -4.456668   30  b'g'   \n",
       "13772  397708       2006 AN97  35.771034 -4.226834   13  b'g'   \n",
       "13773  397708      2006 BH185  36.941465 -4.456469   30  b'g'   \n",
       "13774  397715      2020 HG116  31.041859 -0.847491   11  b'r'   \n",
       "\n",
       "                            DATE_OBS    U  \\\n",
       "0      b'2012-12-03T01:54:00.378837'  0.0   \n",
       "1      b'2012-12-03T01:54:00.378837'  5.0   \n",
       "2      b'2012-12-03T01:57:23.095488'  0.0   \n",
       "3      b'2012-12-03T01:57:23.095488'  5.0   \n",
       "4      b'2012-12-03T02:00:22.145094'  0.0   \n",
       "...                              ...  ...   \n",
       "13770  b'2015-01-14T01:03:29.030379'  0.0   \n",
       "13771  b'2015-01-14T01:03:29.030379'  0.0   \n",
       "13772  b'2015-01-14T01:07:16.506021'  0.0   \n",
       "13773  b'2015-01-14T01:07:16.506021'  0.0   \n",
       "13774  b'2015-01-14T01:31:09.767010'  1.0   \n",
       "\n",
       "                                        RA_3sigma  \\\n",
       "0      RA_3sigma\\n  arcsec \\n---------\\n    0.102   \n",
       "1      RA_3sigma\\n  arcsec \\n---------\\n   24.284   \n",
       "2      RA_3sigma\\n  arcsec \\n---------\\n    0.102   \n",
       "3      RA_3sigma\\n  arcsec \\n---------\\n   24.284   \n",
       "4      RA_3sigma\\n  arcsec \\n---------\\n    0.102   \n",
       "...                                           ...   \n",
       "13770  RA_3sigma\\n  arcsec \\n---------\\n    0.172   \n",
       "13771  RA_3sigma\\n  arcsec \\n---------\\n    0.195   \n",
       "13772  RA_3sigma\\n  arcsec \\n---------\\n    0.172   \n",
       "13773  RA_3sigma\\n  arcsec \\n---------\\n    0.195   \n",
       "13774  RA_3sigma\\n  arcsec \\n---------\\n   23.213   \n",
       "\n",
       "                                           DEC_3sigma  \n",
       "0      DEC_3sigma\\n  arcsec  \\n----------\\n      0.09  \n",
       "1      DEC_3sigma\\n  arcsec  \\n----------\\n     6.103  \n",
       "2      DEC_3sigma\\n  arcsec  \\n----------\\n      0.09  \n",
       "3      DEC_3sigma\\n  arcsec  \\n----------\\n     6.103  \n",
       "4      DEC_3sigma\\n  arcsec  \\n----------\\n      0.09  \n",
       "...                                               ...  \n",
       "13770  DEC_3sigma\\n  arcsec  \\n----------\\n     0.096  \n",
       "13771  DEC_3sigma\\n  arcsec  \\n----------\\n     0.104  \n",
       "13772  DEC_3sigma\\n  arcsec  \\n----------\\n     0.096  \n",
       "13773  DEC_3sigma\\n  arcsec  \\n----------\\n     0.104  \n",
       "13774  DEC_3sigma\\n  arcsec  \\n----------\\n     1.185  \n",
       "\n",
       "[13775 rows x 10 columns]"
      ]
     },
     "execution_count": 20,
     "metadata": {},
     "output_type": "execute_result"
    }
   ],
   "source": [
    "desjt"
   ]
  },
  {
   "cell_type": "code",
   "execution_count": 34,
   "id": "d6579a80-34fc-4514-beae-95b38015b62a",
   "metadata": {},
   "outputs": [],
   "source": [
    "a = JT.values.tolist()\n",
    "\n",
    "for i in a:\n",
    "    name = i[4]\n",
    "    Ln = i[5]\n",
    "    desjt.loc[desjt['Principal_desig'] == name, 'Ln'] = Ln"
   ]
  },
  {
   "cell_type": "code",
   "execution_count": 25,
   "id": "4e47b294-35d4-474f-a3c1-ca6bea2c54e8",
   "metadata": {},
   "outputs": [
    {
     "data": {
      "text/plain": [
       "11113"
      ]
     },
     "execution_count": 25,
     "metadata": {},
     "output_type": "execute_result"
    }
   ],
   "source": [
    "len(desjt.loc[desjt['Ln']=='L5'])"
   ]
  },
  {
   "cell_type": "code",
   "execution_count": 62,
   "id": "0e54b1aa-5c82-4515-b8b0-8b265d04e3b0",
   "metadata": {},
   "outputs": [
    {
     "data": {
      "text/plain": [
       "2277"
      ]
     },
     "execution_count": 62,
     "metadata": {},
     "output_type": "execute_result"
    }
   ],
   "source": [
    "len(desjt.loc[desjt['Ln']=='L4'])"
   ]
  },
  {
   "cell_type": "code",
   "execution_count": 27,
   "id": "0cbda4d4-6909-45b9-a199-680ecd4f2ef4",
   "metadata": {},
   "outputs": [
    {
     "data": {
      "text/plain": [
       "13775"
      ]
     },
     "execution_count": 27,
     "metadata": {},
     "output_type": "execute_result"
    }
   ],
   "source": [
    "len(desjt)"
   ]
  },
  {
   "cell_type": "code",
   "execution_count": 35,
   "id": "456f235e-e1d4-4f96-9d93-c24e4903c9fb",
   "metadata": {},
   "outputs": [
    {
     "data": {
      "text/html": [
       "<div>\n",
       "<style scoped>\n",
       "    .dataframe tbody tr th:only-of-type {\n",
       "        vertical-align: middle;\n",
       "    }\n",
       "\n",
       "    .dataframe tbody tr th {\n",
       "        vertical-align: top;\n",
       "    }\n",
       "\n",
       "    .dataframe thead th {\n",
       "        text-align: right;\n",
       "    }\n",
       "</style>\n",
       "<table border=\"1\" class=\"dataframe\">\n",
       "  <thead>\n",
       "    <tr style=\"text-align: right;\">\n",
       "      <th></th>\n",
       "      <th>expnum</th>\n",
       "      <th>Principal_desig</th>\n",
       "      <th>ra</th>\n",
       "      <th>dec</th>\n",
       "      <th>ccd</th>\n",
       "      <th>BAND</th>\n",
       "      <th>DATE_OBS</th>\n",
       "      <th>U</th>\n",
       "      <th>RA_3sigma</th>\n",
       "      <th>DEC_3sigma</th>\n",
       "      <th>Ln</th>\n",
       "    </tr>\n",
       "  </thead>\n",
       "  <tbody>\n",
       "    <tr>\n",
       "      <th>0</th>\n",
       "      <td>157460</td>\n",
       "      <td>2001 XO128</td>\n",
       "      <td>34.570048</td>\n",
       "      <td>-5.635341</td>\n",
       "      <td>58</td>\n",
       "      <td>b'g'</td>\n",
       "      <td>b'2012-12-03T01:54:00.378837'</td>\n",
       "      <td>0.0</td>\n",
       "      <td>RA_3sigma\\n  arcsec \\n---------\\n    0.102</td>\n",
       "      <td>DEC_3sigma\\n  arcsec  \\n----------\\n      0.09</td>\n",
       "      <td>L5</td>\n",
       "    </tr>\n",
       "    <tr>\n",
       "      <th>1</th>\n",
       "      <td>157460</td>\n",
       "      <td>2020 HS92</td>\n",
       "      <td>34.224163</td>\n",
       "      <td>-5.320325</td>\n",
       "      <td>47</td>\n",
       "      <td>b'g'</td>\n",
       "      <td>b'2012-12-03T01:54:00.378837'</td>\n",
       "      <td>5.0</td>\n",
       "      <td>RA_3sigma\\n  arcsec \\n---------\\n   24.284</td>\n",
       "      <td>DEC_3sigma\\n  arcsec  \\n----------\\n     6.103</td>\n",
       "      <td>L5</td>\n",
       "    </tr>\n",
       "    <tr>\n",
       "      <th>2</th>\n",
       "      <td>157461</td>\n",
       "      <td>2001 XO128</td>\n",
       "      <td>34.569808</td>\n",
       "      <td>-5.635227</td>\n",
       "      <td>58</td>\n",
       "      <td>b'r'</td>\n",
       "      <td>b'2012-12-03T01:57:23.095488'</td>\n",
       "      <td>0.0</td>\n",
       "      <td>RA_3sigma\\n  arcsec \\n---------\\n    0.102</td>\n",
       "      <td>DEC_3sigma\\n  arcsec  \\n----------\\n      0.09</td>\n",
       "      <td>L5</td>\n",
       "    </tr>\n",
       "    <tr>\n",
       "      <th>3</th>\n",
       "      <td>157461</td>\n",
       "      <td>2020 HS92</td>\n",
       "      <td>34.223969</td>\n",
       "      <td>-5.320304</td>\n",
       "      <td>47</td>\n",
       "      <td>b'r'</td>\n",
       "      <td>b'2012-12-03T01:57:23.095488'</td>\n",
       "      <td>5.0</td>\n",
       "      <td>RA_3sigma\\n  arcsec \\n---------\\n   24.284</td>\n",
       "      <td>DEC_3sigma\\n  arcsec  \\n----------\\n     6.103</td>\n",
       "      <td>L5</td>\n",
       "    </tr>\n",
       "    <tr>\n",
       "      <th>4</th>\n",
       "      <td>157462</td>\n",
       "      <td>2001 XO128</td>\n",
       "      <td>34.569596</td>\n",
       "      <td>-5.635126</td>\n",
       "      <td>58</td>\n",
       "      <td>b'i'</td>\n",
       "      <td>b'2012-12-03T02:00:22.145094'</td>\n",
       "      <td>0.0</td>\n",
       "      <td>RA_3sigma\\n  arcsec \\n---------\\n    0.102</td>\n",
       "      <td>DEC_3sigma\\n  arcsec  \\n----------\\n      0.09</td>\n",
       "      <td>L5</td>\n",
       "    </tr>\n",
       "    <tr>\n",
       "      <th>...</th>\n",
       "      <td>...</td>\n",
       "      <td>...</td>\n",
       "      <td>...</td>\n",
       "      <td>...</td>\n",
       "      <td>...</td>\n",
       "      <td>...</td>\n",
       "      <td>...</td>\n",
       "      <td>...</td>\n",
       "      <td>...</td>\n",
       "      <td>...</td>\n",
       "      <td>...</td>\n",
       "    </tr>\n",
       "    <tr>\n",
       "      <th>13770</th>\n",
       "      <td>397707</td>\n",
       "      <td>2006 AN97</td>\n",
       "      <td>35.770972</td>\n",
       "      <td>-4.227069</td>\n",
       "      <td>13</td>\n",
       "      <td>b'g'</td>\n",
       "      <td>b'2015-01-14T01:03:29.030379'</td>\n",
       "      <td>0.0</td>\n",
       "      <td>RA_3sigma\\n  arcsec \\n---------\\n    0.172</td>\n",
       "      <td>DEC_3sigma\\n  arcsec  \\n----------\\n     0.096</td>\n",
       "      <td>L5</td>\n",
       "    </tr>\n",
       "    <tr>\n",
       "      <th>13771</th>\n",
       "      <td>397707</td>\n",
       "      <td>2006 BH185</td>\n",
       "      <td>36.941394</td>\n",
       "      <td>-4.456668</td>\n",
       "      <td>30</td>\n",
       "      <td>b'g'</td>\n",
       "      <td>b'2015-01-14T01:03:29.030379'</td>\n",
       "      <td>0.0</td>\n",
       "      <td>RA_3sigma\\n  arcsec \\n---------\\n    0.195</td>\n",
       "      <td>DEC_3sigma\\n  arcsec  \\n----------\\n     0.104</td>\n",
       "      <td>L5</td>\n",
       "    </tr>\n",
       "    <tr>\n",
       "      <th>13772</th>\n",
       "      <td>397708</td>\n",
       "      <td>2006 AN97</td>\n",
       "      <td>35.771034</td>\n",
       "      <td>-4.226834</td>\n",
       "      <td>13</td>\n",
       "      <td>b'g'</td>\n",
       "      <td>b'2015-01-14T01:07:16.506021'</td>\n",
       "      <td>0.0</td>\n",
       "      <td>RA_3sigma\\n  arcsec \\n---------\\n    0.172</td>\n",
       "      <td>DEC_3sigma\\n  arcsec  \\n----------\\n     0.096</td>\n",
       "      <td>L5</td>\n",
       "    </tr>\n",
       "    <tr>\n",
       "      <th>13773</th>\n",
       "      <td>397708</td>\n",
       "      <td>2006 BH185</td>\n",
       "      <td>36.941465</td>\n",
       "      <td>-4.456469</td>\n",
       "      <td>30</td>\n",
       "      <td>b'g'</td>\n",
       "      <td>b'2015-01-14T01:07:16.506021'</td>\n",
       "      <td>0.0</td>\n",
       "      <td>RA_3sigma\\n  arcsec \\n---------\\n    0.195</td>\n",
       "      <td>DEC_3sigma\\n  arcsec  \\n----------\\n     0.104</td>\n",
       "      <td>L5</td>\n",
       "    </tr>\n",
       "    <tr>\n",
       "      <th>13774</th>\n",
       "      <td>397715</td>\n",
       "      <td>2020 HG116</td>\n",
       "      <td>31.041859</td>\n",
       "      <td>-0.847491</td>\n",
       "      <td>11</td>\n",
       "      <td>b'r'</td>\n",
       "      <td>b'2015-01-14T01:31:09.767010'</td>\n",
       "      <td>1.0</td>\n",
       "      <td>RA_3sigma\\n  arcsec \\n---------\\n   23.213</td>\n",
       "      <td>DEC_3sigma\\n  arcsec  \\n----------\\n     1.185</td>\n",
       "      <td>NaN</td>\n",
       "    </tr>\n",
       "  </tbody>\n",
       "</table>\n",
       "<p>13775 rows × 11 columns</p>\n",
       "</div>"
      ],
      "text/plain": [
       "       expnum Principal_desig         ra       dec  ccd  BAND  \\\n",
       "0      157460      2001 XO128  34.570048 -5.635341   58  b'g'   \n",
       "1      157460       2020 HS92  34.224163 -5.320325   47  b'g'   \n",
       "2      157461      2001 XO128  34.569808 -5.635227   58  b'r'   \n",
       "3      157461       2020 HS92  34.223969 -5.320304   47  b'r'   \n",
       "4      157462      2001 XO128  34.569596 -5.635126   58  b'i'   \n",
       "...       ...             ...        ...       ...  ...   ...   \n",
       "13770  397707       2006 AN97  35.770972 -4.227069   13  b'g'   \n",
       "13771  397707      2006 BH185  36.941394 -4.456668   30  b'g'   \n",
       "13772  397708       2006 AN97  35.771034 -4.226834   13  b'g'   \n",
       "13773  397708      2006 BH185  36.941465 -4.456469   30  b'g'   \n",
       "13774  397715      2020 HG116  31.041859 -0.847491   11  b'r'   \n",
       "\n",
       "                            DATE_OBS    U  \\\n",
       "0      b'2012-12-03T01:54:00.378837'  0.0   \n",
       "1      b'2012-12-03T01:54:00.378837'  5.0   \n",
       "2      b'2012-12-03T01:57:23.095488'  0.0   \n",
       "3      b'2012-12-03T01:57:23.095488'  5.0   \n",
       "4      b'2012-12-03T02:00:22.145094'  0.0   \n",
       "...                              ...  ...   \n",
       "13770  b'2015-01-14T01:03:29.030379'  0.0   \n",
       "13771  b'2015-01-14T01:03:29.030379'  0.0   \n",
       "13772  b'2015-01-14T01:07:16.506021'  0.0   \n",
       "13773  b'2015-01-14T01:07:16.506021'  0.0   \n",
       "13774  b'2015-01-14T01:31:09.767010'  1.0   \n",
       "\n",
       "                                        RA_3sigma  \\\n",
       "0      RA_3sigma\\n  arcsec \\n---------\\n    0.102   \n",
       "1      RA_3sigma\\n  arcsec \\n---------\\n   24.284   \n",
       "2      RA_3sigma\\n  arcsec \\n---------\\n    0.102   \n",
       "3      RA_3sigma\\n  arcsec \\n---------\\n   24.284   \n",
       "4      RA_3sigma\\n  arcsec \\n---------\\n    0.102   \n",
       "...                                           ...   \n",
       "13770  RA_3sigma\\n  arcsec \\n---------\\n    0.172   \n",
       "13771  RA_3sigma\\n  arcsec \\n---------\\n    0.195   \n",
       "13772  RA_3sigma\\n  arcsec \\n---------\\n    0.172   \n",
       "13773  RA_3sigma\\n  arcsec \\n---------\\n    0.195   \n",
       "13774  RA_3sigma\\n  arcsec \\n---------\\n   23.213   \n",
       "\n",
       "                                           DEC_3sigma   Ln  \n",
       "0      DEC_3sigma\\n  arcsec  \\n----------\\n      0.09   L5  \n",
       "1      DEC_3sigma\\n  arcsec  \\n----------\\n     6.103   L5  \n",
       "2      DEC_3sigma\\n  arcsec  \\n----------\\n      0.09   L5  \n",
       "3      DEC_3sigma\\n  arcsec  \\n----------\\n     6.103   L5  \n",
       "4      DEC_3sigma\\n  arcsec  \\n----------\\n      0.09   L5  \n",
       "...                                               ...  ...  \n",
       "13770  DEC_3sigma\\n  arcsec  \\n----------\\n     0.096   L5  \n",
       "13771  DEC_3sigma\\n  arcsec  \\n----------\\n     0.104   L5  \n",
       "13772  DEC_3sigma\\n  arcsec  \\n----------\\n     0.096   L5  \n",
       "13773  DEC_3sigma\\n  arcsec  \\n----------\\n     0.104   L5  \n",
       "13774  DEC_3sigma\\n  arcsec  \\n----------\\n     1.185  NaN  \n",
       "\n",
       "[13775 rows x 11 columns]"
      ]
     },
     "execution_count": 35,
     "metadata": {},
     "output_type": "execute_result"
    }
   ],
   "source": [
    "desjt"
   ]
  },
  {
   "cell_type": "code",
   "execution_count": null,
   "id": "1a90284f-2682-4099-be09-a4b1c8fcf85b",
   "metadata": {},
   "outputs": [],
   "source": [
    "desjt.to_csv('DES_Trojans_mpc.csv', index=None)"
   ]
  },
  {
   "cell_type": "code",
   "execution_count": 42,
   "id": "2af05d17-dc9a-472a-8244-4e14bfab269e",
   "metadata": {},
   "outputs": [
    {
     "data": {
      "text/plain": [
       "Principal_desig\n",
       "1973 UF5        2\n",
       "1983 PV         3\n",
       "1985 VO         2\n",
       "1989 CK1       20\n",
       "1996 RT29       1\n",
       "             ... \n",
       "2020 QG72     131\n",
       "2020 RQ107      1\n",
       "2020 SS69       3\n",
       "2020 ST70       1\n",
       "2020 SX64       8\n",
       "Length: 126, dtype: int64"
      ]
     },
     "execution_count": 42,
     "metadata": {},
     "output_type": "execute_result"
    }
   ],
   "source": [
    "#desjt[['Principal_desig','Ln']]\n",
    "L4 = desjt.loc[desjt['Ln']==\"L4\"]\n",
    "nume = L4.groupby('Principal_desig').size()\n"
   ]
  },
  {
   "cell_type": "code",
   "execution_count": 55,
   "id": "e330cc49-d2cb-4179-8590-bb213c9adaf6",
   "metadata": {},
   "outputs": [
    {
     "data": {
      "image/png": "[encoded data removed]",
      "text/plain": [
       "<Figure size 432x288 with 1 Axes>"
      ]
     },
     "metadata": {
      "needs_background": "light"
     },
     "output_type": "display_data"
    }
   ],
   "source": [
    "l = desjt['Ln'].values.tolist()\n",
    "plt.hist(l, color = 'blue', edgecolor = 'black',bins = 100)\n",
    "plt.title('Histogram of Ln')\n",
    "plt.xlabel('Ln')\n",
    "plt.ylabel('Number in exposures')\n",
    "plt.grid()\n",
    "# L5 11113\n",
    "# L4 2277\n",
    "# 385 nan"
   ]
  },
  {
   "cell_type": "code",
   "execution_count": 67,
   "id": "c8cc12fe-596a-44a5-96ca-c1f46d919f3c",
   "metadata": {},
   "outputs": [
    {
     "data": {
      "text/plain": [
       "1088"
      ]
     },
     "execution_count": 67,
     "metadata": {},
     "output_type": "execute_result"
    }
   ],
   "source": [
    "num = desjt['Principal_desig'].unique()\n",
    "len(num)"
   ]
  },
  {
   "cell_type": "code",
   "execution_count": 33,
   "id": "3a03ccd4-eb38-4f13-ae11-ac6ea047e600",
   "metadata": {},
   "outputs": [
    {
     "ename": "NameError",
     "evalue": "name 'JT' is not defined",
     "output_type": "error",
     "traceback": [
      "\u001b[0;31m---------------------------------------------------------------------------\u001b[0m",
      "\u001b[0;31mNameError\u001b[0m                                 Traceback (most recent call last)",
      "\u001b[0;32m<ipython-input-33-3b0e24fa3686>\u001b[0m in \u001b[0;36m<module>\u001b[0;34m\u001b[0m\n\u001b[1;32m      1\u001b[0m \u001b[0;31m# Now for each object\u001b[0m\u001b[0;34m\u001b[0m\u001b[0;34m\u001b[0m\u001b[0;34m\u001b[0m\u001b[0m\n\u001b[0;32m----> 2\u001b[0;31m \u001b[0ma\u001b[0m \u001b[0;34m=\u001b[0m \u001b[0mJT\u001b[0m\u001b[0;34m.\u001b[0m\u001b[0mvalues\u001b[0m\u001b[0;34m.\u001b[0m\u001b[0mtolist\u001b[0m\u001b[0;34m(\u001b[0m\u001b[0;34m)\u001b[0m\u001b[0;34m\u001b[0m\u001b[0;34m\u001b[0m\u001b[0m\n\u001b[0m\u001b[1;32m      3\u001b[0m \u001b[0mlobj\u001b[0m \u001b[0;34m=\u001b[0m \u001b[0;34m[\u001b[0m\u001b[0;34m]\u001b[0m\u001b[0;34m\u001b[0m\u001b[0;34m\u001b[0m\u001b[0m\n\u001b[1;32m      4\u001b[0m \u001b[0;32mdef\u001b[0m \u001b[0mgive_Ln\u001b[0m\u001b[0;34m(\u001b[0m\u001b[0mname\u001b[0m\u001b[0;34m)\u001b[0m\u001b[0;34m:\u001b[0m\u001b[0;34m\u001b[0m\u001b[0;34m\u001b[0m\u001b[0m\n\u001b[1;32m      5\u001b[0m     \u001b[0;32mfor\u001b[0m \u001b[0mn\u001b[0m \u001b[0;32min\u001b[0m \u001b[0ma\u001b[0m\u001b[0;34m:\u001b[0m\u001b[0;34m\u001b[0m\u001b[0;34m\u001b[0m\u001b[0m\n",
      "\u001b[0;31mNameError\u001b[0m: name 'JT' is not defined"
     ]
    }
   ],
   "source": [
    "# Now for each object\n",
    "a = JT.values.tolist()\n",
    "lobj = []\n",
    "def give_Ln(name):\n",
    "    for n in a:\n",
    "        na = n[4]\n",
    "        Ln = n[5]\n",
    "        if na == name:\n",
    "            return Ln\n",
    "            \n",
    "for i in num:\n",
    "    Ln = give_Ln(i)\n",
    "    if isinstance(Ln, basestring) == True:\n",
    "        lobj.append(Ln)"
   ]
  },
  {
   "cell_type": "code",
   "execution_count": 86,
   "id": "2a652bcc-3c9a-45b6-a4fe-99ca9ce0884c",
   "metadata": {},
   "outputs": [
    {
     "data": {
      "image/png": "[encoded data removed]",
      "text/plain": [
       "<Figure size 432x288 with 1 Axes>"
      ]
     },
     "metadata": {
      "needs_background": "light"
     },
     "output_type": "display_data"
    }
   ],
   "source": [
    "plt.hist(lobj, color = 'blue', edgecolor = 'black',bins = 100)\n",
    "plt.title('Histogram of Ln')\n",
    "plt.xlabel('Ln')\n",
    "plt.ylabel('Number in exposures')\n",
    "plt.grid()"
   ]
  },
  {
   "cell_type": "code",
   "execution_count": 87,
   "id": "d56037cf-f789-41d4-af19-623df38d98c7",
   "metadata": {},
   "outputs": [
    {
     "data": {
      "text/plain": [
       "1048"
      ]
     },
     "execution_count": 87,
     "metadata": {},
     "output_type": "execute_result"
    }
   ],
   "source": [
    "len(lobj)"
   ]
  },
  {
   "cell_type": "code",
   "execution_count": 90,
   "id": "d061c740-5e2c-4f12-8845-53712804d637",
   "metadata": {},
   "outputs": [
    {
     "data": {
      "text/plain": [
       "2"
      ]
     },
     "execution_count": 90,
     "metadata": {},
     "output_type": "execute_result"
    }
   ],
   "source": [
    "len(lobj[lobj=='L5'])"
   ]
  },
  {
   "cell_type": "code",
   "execution_count": 128,
   "id": "957cae47-7d30-4dab-a947-25fc66db7bf8",
   "metadata": {},
   "outputs": [],
   "source": [
    "desjt = pd.read_csv('DES JTs/DES_Trojans_mpc (3).csv')"
   ]
  },
  {
   "cell_type": "code",
   "execution_count": 129,
   "id": "ce399a2f-4bf2-48e9-b57a-3e258dc709de",
   "metadata": {},
   "outputs": [
    {
     "data": {
      "text/html": [
       "<div>\n",
       "<style scoped>\n",
       "    .dataframe tbody tr th:only-of-type {\n",
       "        vertical-align: middle;\n",
       "    }\n",
       "\n",
       "    .dataframe tbody tr th {\n",
       "        vertical-align: top;\n",
       "    }\n",
       "\n",
       "    .dataframe thead th {\n",
       "        text-align: right;\n",
       "    }\n",
       "</style>\n",
       "<table border=\"1\" class=\"dataframe\">\n",
       "  <thead>\n",
       "    <tr style=\"text-align: right;\">\n",
       "      <th></th>\n",
       "      <th>expnum</th>\n",
       "      <th>Principal_desig</th>\n",
       "      <th>ra</th>\n",
       "      <th>dec</th>\n",
       "      <th>ccd</th>\n",
       "      <th>BAND</th>\n",
       "      <th>DATE_OBS</th>\n",
       "      <th>U</th>\n",
       "      <th>RA_3sigma</th>\n",
       "      <th>DEC_3sigma</th>\n",
       "      <th>Ln</th>\n",
       "    </tr>\n",
       "  </thead>\n",
       "  <tbody>\n",
       "    <tr>\n",
       "      <th>0</th>\n",
       "      <td>157460</td>\n",
       "      <td>2001 XO128</td>\n",
       "      <td>34.570048</td>\n",
       "      <td>-5.635341</td>\n",
       "      <td>58</td>\n",
       "      <td>b'g'</td>\n",
       "      <td>b'2012-12-03T01:54:00.378837'</td>\n",
       "      <td>0.0</td>\n",
       "      <td>0.102</td>\n",
       "      <td>0.090</td>\n",
       "      <td>L5</td>\n",
       "    </tr>\n",
       "    <tr>\n",
       "      <th>1</th>\n",
       "      <td>157460</td>\n",
       "      <td>2020 HS92</td>\n",
       "      <td>34.224163</td>\n",
       "      <td>-5.320325</td>\n",
       "      <td>47</td>\n",
       "      <td>b'g'</td>\n",
       "      <td>b'2012-12-03T01:54:00.378837'</td>\n",
       "      <td>5.0</td>\n",
       "      <td>24.284</td>\n",
       "      <td>6.103</td>\n",
       "      <td>L5</td>\n",
       "    </tr>\n",
       "    <tr>\n",
       "      <th>2</th>\n",
       "      <td>157461</td>\n",
       "      <td>2001 XO128</td>\n",
       "      <td>34.569808</td>\n",
       "      <td>-5.635227</td>\n",
       "      <td>58</td>\n",
       "      <td>b'r'</td>\n",
       "      <td>b'2012-12-03T01:57:23.095488'</td>\n",
       "      <td>0.0</td>\n",
       "      <td>0.102</td>\n",
       "      <td>0.090</td>\n",
       "      <td>L5</td>\n",
       "    </tr>\n",
       "    <tr>\n",
       "      <th>3</th>\n",
       "      <td>157461</td>\n",
       "      <td>2020 HS92</td>\n",
       "      <td>34.223969</td>\n",
       "      <td>-5.320304</td>\n",
       "      <td>47</td>\n",
       "      <td>b'r'</td>\n",
       "      <td>b'2012-12-03T01:57:23.095488'</td>\n",
       "      <td>5.0</td>\n",
       "      <td>24.284</td>\n",
       "      <td>6.103</td>\n",
       "      <td>L5</td>\n",
       "    </tr>\n",
       "    <tr>\n",
       "      <th>4</th>\n",
       "      <td>157462</td>\n",
       "      <td>2001 XO128</td>\n",
       "      <td>34.569596</td>\n",
       "      <td>-5.635126</td>\n",
       "      <td>58</td>\n",
       "      <td>b'i'</td>\n",
       "      <td>b'2012-12-03T02:00:22.145094'</td>\n",
       "      <td>0.0</td>\n",
       "      <td>0.102</td>\n",
       "      <td>0.090</td>\n",
       "      <td>L5</td>\n",
       "    </tr>\n",
       "    <tr>\n",
       "      <th>...</th>\n",
       "      <td>...</td>\n",
       "      <td>...</td>\n",
       "      <td>...</td>\n",
       "      <td>...</td>\n",
       "      <td>...</td>\n",
       "      <td>...</td>\n",
       "      <td>...</td>\n",
       "      <td>...</td>\n",
       "      <td>...</td>\n",
       "      <td>...</td>\n",
       "      <td>...</td>\n",
       "    </tr>\n",
       "    <tr>\n",
       "      <th>13770</th>\n",
       "      <td>397707</td>\n",
       "      <td>2006 AN97</td>\n",
       "      <td>35.770972</td>\n",
       "      <td>-4.227069</td>\n",
       "      <td>13</td>\n",
       "      <td>b'g'</td>\n",
       "      <td>b'2015-01-14T01:03:29.030379'</td>\n",
       "      <td>0.0</td>\n",
       "      <td>0.172</td>\n",
       "      <td>0.096</td>\n",
       "      <td>L5</td>\n",
       "    </tr>\n",
       "    <tr>\n",
       "      <th>13771</th>\n",
       "      <td>397707</td>\n",
       "      <td>2006 BH185</td>\n",
       "      <td>36.941394</td>\n",
       "      <td>-4.456668</td>\n",
       "      <td>30</td>\n",
       "      <td>b'g'</td>\n",
       "      <td>b'2015-01-14T01:03:29.030379'</td>\n",
       "      <td>0.0</td>\n",
       "      <td>0.195</td>\n",
       "      <td>0.104</td>\n",
       "      <td>L5</td>\n",
       "    </tr>\n",
       "    <tr>\n",
       "      <th>13772</th>\n",
       "      <td>397708</td>\n",
       "      <td>2006 AN97</td>\n",
       "      <td>35.771034</td>\n",
       "      <td>-4.226834</td>\n",
       "      <td>13</td>\n",
       "      <td>b'g'</td>\n",
       "      <td>b'2015-01-14T01:07:16.506021'</td>\n",
       "      <td>0.0</td>\n",
       "      <td>0.172</td>\n",
       "      <td>0.096</td>\n",
       "      <td>L5</td>\n",
       "    </tr>\n",
       "    <tr>\n",
       "      <th>13773</th>\n",
       "      <td>397708</td>\n",
       "      <td>2006 BH185</td>\n",
       "      <td>36.941465</td>\n",
       "      <td>-4.456469</td>\n",
       "      <td>30</td>\n",
       "      <td>b'g'</td>\n",
       "      <td>b'2015-01-14T01:07:16.506021'</td>\n",
       "      <td>0.0</td>\n",
       "      <td>0.195</td>\n",
       "      <td>0.104</td>\n",
       "      <td>L5</td>\n",
       "    </tr>\n",
       "    <tr>\n",
       "      <th>13774</th>\n",
       "      <td>397715</td>\n",
       "      <td>2020 HG116</td>\n",
       "      <td>31.041859</td>\n",
       "      <td>-0.847491</td>\n",
       "      <td>11</td>\n",
       "      <td>b'r'</td>\n",
       "      <td>b'2015-01-14T01:31:09.767010'</td>\n",
       "      <td>1.0</td>\n",
       "      <td>23.213</td>\n",
       "      <td>1.185</td>\n",
       "      <td>NaN</td>\n",
       "    </tr>\n",
       "  </tbody>\n",
       "</table>\n",
       "<p>13775 rows × 11 columns</p>\n",
       "</div>"
      ],
      "text/plain": [
       "       expnum Principal_desig         ra       dec  ccd  BAND  \\\n",
       "0      157460      2001 XO128  34.570048 -5.635341   58  b'g'   \n",
       "1      157460       2020 HS92  34.224163 -5.320325   47  b'g'   \n",
       "2      157461      2001 XO128  34.569808 -5.635227   58  b'r'   \n",
       "3      157461       2020 HS92  34.223969 -5.320304   47  b'r'   \n",
       "4      157462      2001 XO128  34.569596 -5.635126   58  b'i'   \n",
       "...       ...             ...        ...       ...  ...   ...   \n",
       "13770  397707       2006 AN97  35.770972 -4.227069   13  b'g'   \n",
       "13771  397707      2006 BH185  36.941394 -4.456668   30  b'g'   \n",
       "13772  397708       2006 AN97  35.771034 -4.226834   13  b'g'   \n",
       "13773  397708      2006 BH185  36.941465 -4.456469   30  b'g'   \n",
       "13774  397715      2020 HG116  31.041859 -0.847491   11  b'r'   \n",
       "\n",
       "                            DATE_OBS    U  RA_3sigma  DEC_3sigma   Ln  \n",
       "0      b'2012-12-03T01:54:00.378837'  0.0      0.102       0.090   L5  \n",
       "1      b'2012-12-03T01:54:00.378837'  5.0     24.284       6.103   L5  \n",
       "2      b'2012-12-03T01:57:23.095488'  0.0      0.102       0.090   L5  \n",
       "3      b'2012-12-03T01:57:23.095488'  5.0     24.284       6.103   L5  \n",
       "4      b'2012-12-03T02:00:22.145094'  0.0      0.102       0.090   L5  \n",
       "...                              ...  ...        ...         ...  ...  \n",
       "13770  b'2015-01-14T01:03:29.030379'  0.0      0.172       0.096   L5  \n",
       "13771  b'2015-01-14T01:03:29.030379'  0.0      0.195       0.104   L5  \n",
       "13772  b'2015-01-14T01:07:16.506021'  0.0      0.172       0.096   L5  \n",
       "13773  b'2015-01-14T01:07:16.506021'  0.0      0.195       0.104   L5  \n",
       "13774  b'2015-01-14T01:31:09.767010'  1.0     23.213       1.185  NaN  \n",
       "\n",
       "[13775 rows x 11 columns]"
      ]
     },
     "execution_count": 129,
     "metadata": {},
     "output_type": "execute_result"
    }
   ],
   "source": [
    "desjt"
   ]
  },
  {
   "cell_type": "code",
   "execution_count": 10,
   "id": "b4ef4724-b09d-4f44-bac6-59c15320bc86",
   "metadata": {},
   "outputs": [
    {
     "data": {
      "text/plain": [
       "964"
      ]
     },
     "execution_count": 10,
     "metadata": {},
     "output_type": "execute_result"
    }
   ],
   "source": [
    "goodna = desjt.loc[(desjt['RA_3sigma']<2)&(desjt['DEC_3sigma']<2)]['Principal_desig'].unique()\n",
    "len(goodna)"
   ]
  },
  {
   "cell_type": "code",
   "execution_count": 31,
   "id": "6b5e8adb-60cf-4c80-b230-214adf3c595d",
   "metadata": {},
   "outputs": [
    {
     "data": {
      "image/png": "[encoded data removed]",
      "text/plain": [
       "<Figure size 432x288 with 1 Axes>"
      ]
     },
     "metadata": {
      "needs_background": "light"
     },
     "output_type": "display_data"
    }
   ],
   "source": [
    "l = desjt['Ln'].values.tolist()\n",
    "plt.hist(l, color = 'blue', edgecolor = 'black',bins = 100)\n",
    "plt.title('Histogram of Ln')\n",
    "plt.xlabel('Ln')\n",
    "plt.ylabel('Number in exposures')\n",
    "plt.grid()"
   ]
  },
  {
   "cell_type": "code",
   "execution_count": 36,
   "id": "d15a12d9-a4d8-405d-8650-ead1b2911ac2",
   "metadata": {},
   "outputs": [],
   "source": [
    "lobj = []\n",
    "a = JT.values.tolist()\n",
    "def give_Ln(name):\n",
    "    for n in a:\n",
    "        na = n[4]\n",
    "        Ln = n[5]\n",
    "        if na == name:\n",
    "            return Ln\n",
    "            \n",
    "for i in goodna:\n",
    "    Ln = give_Ln(i)\n",
    "    if isinstance(Ln, basestring) == True:\n",
    "        lobj.append(Ln)"
   ]
  },
  {
   "cell_type": "code",
   "execution_count": 101,
   "id": "93345d6b-1ea1-4b80-80f1-e74c70e05466",
   "metadata": {},
   "outputs": [
    {
     "data": {
      "text/plain": [
       "946"
      ]
     },
     "execution_count": 101,
     "metadata": {},
     "output_type": "execute_result"
    },
    {
     "data": {
      "image/png": "[encoded data removed]",
      "text/plain": [
       "<Figure size 432x288 with 1 Axes>"
      ]
     },
     "metadata": {
      "needs_background": "light"
     },
     "output_type": "display_data"
    }
   ],
   "source": [
    "plt.hist(lobj, color = 'blue', edgecolor = 'black',bins = 100)\n",
    "plt.title('Histogram of Ln')\n",
    "plt.xlabel('Ln')\n",
    "plt.ylabel('Number in exposures')\n",
    "plt.grid()\n",
    "len(lobj) #18 nan "
   ]
  },
  {
   "cell_type": "code",
   "execution_count": 39,
   "id": "6c99b120-211c-4b96-b7cf-6c67c9bfafa1",
   "metadata": {},
   "outputs": [
    {
     "data": {
      "text/plain": [
       "Principal_desig\n",
       "1988 RE12     1\n",
       "1988 RL13     1\n",
       "1995 CV       1\n",
       "1996 RT29     1\n",
       "1996 TY68     1\n",
       "             ..\n",
       "2020 HJ99     1\n",
       "2020 RQ107    1\n",
       "2020 ST70     1\n",
       "2021 GN101    1\n",
       "2021 GZ63     1\n",
       "Length: 119, dtype: int64"
      ]
     },
     "execution_count": 39,
     "metadata": {},
     "output_type": "execute_result"
    }
   ],
   "source": [
    "aa"
   ]
  },
  {
   "cell_type": "code",
   "execution_count": 104,
   "id": "4f20e096-d644-4fd5-9d03-195982e7bba7",
   "metadata": {},
   "outputs": [
    {
     "name": "stdout",
     "output_type": "stream",
     "text": [
      "838\n",
      "108\n"
     ]
    }
   ],
   "source": [
    "print(lobj.count('L5'))\n",
    "print(lobj.count('L4'))"
   ]
  },
  {
   "cell_type": "code",
   "execution_count": 45,
   "id": "2f7fa6d8-9d50-4195-bb81-1c1faccd7a14",
   "metadata": {},
   "outputs": [
    {
     "data": {
      "text/plain": [
       "[]"
      ]
     },
     "execution_count": 45,
     "metadata": {},
     "output_type": "execute_result"
    }
   ],
   "source": [
    "bb = []\n",
    "for i in goodna:\n",
    "    if i == '2020 ST70':\n",
    "        bb.append(i)\n",
    "bb\n",
    "    "
   ]
  },
  {
   "cell_type": "code",
   "execution_count": 6,
   "id": "e59f44dd-f196-432b-963a-88d7d95c4460",
   "metadata": {},
   "outputs": [
    {
     "data": {
      "text/plain": [
       "Principal_desig\n",
       "1971 FF     False\n",
       "1973 UF5    False\n",
       "1975 QD     False\n",
       "1983 PV     False\n",
       "1985 VO     False\n",
       "            ...  \n",
       "2021 KL4    False\n",
       "2021 LR4     True\n",
       "3365 T-3    False\n",
       "4101 T-3    False\n",
       "5191 T-3    False\n",
       "Name: Principal_desig, Length: 1088, dtype: bool"
      ]
     },
     "execution_count": 6,
     "metadata": {},
     "output_type": "execute_result"
    }
   ],
   "source": [
    "desjt.groupby('Principal_desig').Principal_desig.count() <2"
   ]
  },
  {
   "cell_type": "code",
   "execution_count": 7,
   "id": "5fc9d8d6-9634-40f9-ab99-43da2af42742",
   "metadata": {},
   "outputs": [
    {
     "data": {
      "text/plain": [
       "8"
      ]
     },
     "execution_count": 7,
     "metadata": {},
     "output_type": "execute_result"
    }
   ],
   "source": [
    "a = desjt.loc[desjt['Principal_desig']=='1995 CV']['ra'].count()\n",
    "a"
   ]
  },
  {
   "cell_type": "code",
   "execution_count": 8,
   "id": "8460228e-d1d6-4fab-918d-6a6a093441dc",
   "metadata": {},
   "outputs": [],
   "source": [
    "a = desjt.values.tolist()\n",
    "badnum = []\n",
    "for i in a:\n",
    "    na = i[1]\n",
    "  #  print(na)\n",
    "    if desjt.loc[desjt['Principal_desig']==na]['expnum'].count() == 1:\n",
    "        badnum.append(na)\n",
    "#badnum"
   ]
  },
  {
   "cell_type": "code",
   "execution_count": 9,
   "id": "28d10a33-77c2-4eac-9aba-f36a0a8dc604",
   "metadata": {},
   "outputs": [
    {
     "data": {
      "text/plain": [
       "151"
      ]
     },
     "execution_count": 9,
     "metadata": {},
     "output_type": "execute_result"
    }
   ],
   "source": [
    "len(badnum)"
   ]
  },
  {
   "cell_type": "code",
   "execution_count": 136,
   "id": "1aaec5a5-8eb4-4584-87cc-907becb761a9",
   "metadata": {},
   "outputs": [],
   "source": [
    "desjt = pd.read_csv('DES JTs/DES_Trojans_mpc (3).csv')\n",
    "nume = desjt.groupby('Principal_desig').size()\n",
    "len(nume[nume==1])\n",
    "nume[nume==1]\n",
    "desjt.to_csv('DES_Trojans_mpc.csv', index=None)"
   ]
  },
  {
   "cell_type": "code",
   "execution_count": 135,
   "id": "060ef94d-3958-49f3-8d07-f828611c6de5",
   "metadata": {},
   "outputs": [
    {
     "data": {
      "text/plain": [
       "Principal_desig\n",
       "1988 RE12     1\n",
       "1988 RL13     1\n",
       "1995 CV       1\n",
       "1996 RT29     1\n",
       "1996 TY68     1\n",
       "             ..\n",
       "2020 HJ99     1\n",
       "2020 RQ107    1\n",
       "2020 ST70     1\n",
       "2021 GN101    1\n",
       "2021 GZ63     1\n",
       "Length: 119, dtype: int64"
      ]
     },
     "execution_count": 135,
     "metadata": {},
     "output_type": "execute_result"
    }
   ],
   "source": [
    "desjt = pd.read_csv('DES_Trojans_mpc.csv')\n",
    "nume = desjt.groupby('Principal_desig').size()\n",
    "len(nume[nume==1])\n",
    "nume[nume==1]"
   ]
  },
  {
   "cell_type": "code",
   "execution_count": 11,
   "id": "a94ea823-9442-4274-8f23-c6506be9fa4e",
   "metadata": {},
   "outputs": [
    {
     "data": {
      "text/plain": [
       "['2010 BM90',\n",
       " '2010 XF85',\n",
       " '2013 CF115',\n",
       " '1988 RE12',\n",
       " '2008 KH35',\n",
       " '2012 TJ25',\n",
       " '2008 KV8',\n",
       " '2010 VS',\n",
       " '2013 TH32',\n",
       " '2012 TP52',\n",
       " '2012 TS256',\n",
       " '2000 SJ49',\n",
       " '2000 SL47',\n",
       " '2011 LA20',\n",
       " '2000 SA97',\n",
       " '2005 XS92',\n",
       " '2011 QW53',\n",
       " '2006 DB20',\n",
       " '2012 PK44',\n",
       " '2018 AV40',\n",
       " '2011 OT5',\n",
       " '2006 BG203',\n",
       " '2015 XR446',\n",
       " '2000 SB132',\n",
       " '2006 EP74',\n",
       " '2015 AY259',\n",
       " '2008 HL75',\n",
       " '2016 CU31',\n",
       " '2017 DG116',\n",
       " '2011 QB108',\n",
       " '2001 WB53',\n",
       " '2008 KY36',\n",
       " '2012 TY122',\n",
       " '2017 DD21',\n",
       " '2000 SA89',\n",
       " '2016 AW60',\n",
       " '2001 VK85',\n",
       " '2011 QV76',\n",
       " '2005 EQ272',\n",
       " '2011 KT21',\n",
       " '2014 WB18',\n",
       " '2011 KG17',\n",
       " '2014 VF8',\n",
       " '2002 CB94',\n",
       " '1996 TY68',\n",
       " '1999 WB2',\n",
       " '2013 CJ194',\n",
       " '2009 UE72',\n",
       " '2000 XN9',\n",
       " '2003 JG8',\n",
       " '2003 HQ35',\n",
       " '2008 SE276',\n",
       " '2009 UX143',\n",
       " '2013 AF',\n",
       " '2008 RQ175',\n",
       " '2009 VG58',\n",
       " '1999 YC13',\n",
       " '2013 FM1',\n",
       " '2001 CN33',\n",
       " '2009 WU112',\n",
       " '1996 RT29',\n",
       " '2006 BZ55',\n",
       " '2008 FQ132',\n",
       " '2000 SK47',\n",
       " '2000 QN116',\n",
       " '2007 EO34',\n",
       " '2014 WB546',\n",
       " '2009 FB63',\n",
       " '2004 YD23',\n",
       " '2016 AD303',\n",
       " '2001 RH142',\n",
       " '2006 BJ289',\n",
       " '2007 ES166',\n",
       " '2015 AU48',\n",
       " '2020 HK76',\n",
       " '2021 LR4',\n",
       " '2008 HX3',\n",
       " '2014 SD351',\n",
       " '2009 LN3',\n",
       " '2008 GS143',\n",
       " '2012 SQ49',\n",
       " '2015 BY202',\n",
       " '2016 YD20',\n",
       " '2011 QD3',\n",
       " '2014 WA120',\n",
       " '2020 HC100',\n",
       " '2005 EL140',\n",
       " '2011 OZ71',\n",
       " '2006 DC50',\n",
       " '2003 YR109',\n",
       " '2009 HW108',\n",
       " '2008 KM10',\n",
       " '2014 WD387',\n",
       " '2020 HK37',\n",
       " '2006 BH169',\n",
       " '2019 FX16',\n",
       " '2019 KS4',\n",
       " '2001 QM73',\n",
       " '2020 HD38',\n",
       " '2014 WO578',\n",
       " '1999 PY3',\n",
       " '2006 JV25',\n",
       " '2014 WT119',\n",
       " '2019 GA2',\n",
       " '2011 OC60',\n",
       " '2005 CM83',\n",
       " '2003 YL133',\n",
       " '1994 CX13',\n",
       " '2020 HB112',\n",
       " '2006 FC2',\n",
       " '2006 BY41',\n",
       " '2017 AF35',\n",
       " '2019 NW',\n",
       " '2014 WD573',\n",
       " '2006 BE167',\n",
       " '2019 GK6',\n",
       " '2010 JC1',\n",
       " '2001 SJ364',\n",
       " '2014 XJ7',\n",
       " '2017 CK',\n",
       " '2007 DW94',\n",
       " '2019 DG',\n",
       " '2006 BF8',\n",
       " '2001 SF317',\n",
       " '2011 OJ63']"
      ]
     },
     "execution_count": 11,
     "metadata": {},
     "output_type": "execute_result"
    }
   ],
   "source": [
    "bb = []\n",
    "\n",
    "for i in goodna:\n",
    "    for b in badnum:\n",
    "        if i == b:\n",
    "            bb.append(i)\n",
    "bb"
   ]
  },
  {
   "cell_type": "code",
   "execution_count": 12,
   "id": "d17b01eb-bf32-4abe-a860-26c7fa97646e",
   "metadata": {},
   "outputs": [
    {
     "data": {
      "text/plain": [
       "125"
      ]
     },
     "execution_count": 12,
     "metadata": {},
     "output_type": "execute_result"
    }
   ],
   "source": [
    "len(bb)"
   ]
  },
  {
   "cell_type": "code",
   "execution_count": 16,
   "id": "992cf49d-40a1-40c8-8992-9634cbbc5c68",
   "metadata": {},
   "outputs": [
    {
     "data": {
      "text/plain": [
       "array(['2011 OJ63'], dtype=object)"
      ]
     },
     "execution_count": 16,
     "metadata": {},
     "output_type": "execute_result"
    }
   ],
   "source": [
    "goodna[goodna=='2011 OJ63']\n",
    "#So there are many one exposures in the very accuarte measured JTs. Would make the good nubmer go down by 125\n",
    "#964 - 125 = 839\n",
    "# Probably eventually have 700 or so good enough JTs...."
   ]
  },
  {
   "cell_type": "markdown",
   "id": "031aa5a6-c27a-4a10-9119-16d13ef63a17",
   "metadata": {},
   "source": [
    "### Distinguish all L4 and L5 JTs"
   ]
  },
  {
   "cell_type": "code",
   "execution_count": 30,
   "id": "73e29cdc-6078-44b3-aac0-7ce5192a2d39",
   "metadata": {},
   "outputs": [
    {
     "name": "stdout",
     "output_type": "stream",
     "text": [
      "378\n",
      "40\n"
     ]
    }
   ],
   "source": [
    "desjt = pd.read_csv('DES_Trojans_mpc.csv')\n",
    "len(desjt.loc[(desjt['Ln']!='L5')&(desjt['Ln']!='L4')]['DATE_OBS'].unique())\n",
    "nandate = desjt.loc[(desjt['Ln']!='L5')&(desjt['Ln']!='L4')]['DATE_OBS'].unique()\n",
    "nanna = desjt.loc[(desjt['Ln']!='L5')&(desjt['Ln']!='L4')]['Principal_desig'].unique()\n",
    "print(len(nandate))\n",
    "print(len(nanna))\n",
    "#print(nandate)"
   ]
  },
  {
   "cell_type": "code",
   "execution_count": 33,
   "id": "b911d15d-8e83-4999-a0ce-3fe4063d2167",
   "metadata": {},
   "outputs": [
    {
     "name": "stdout",
     "output_type": "stream",
     "text": [
      "       expnum Principal_desig          ra       dec  ccd  BAND  \\\n",
      "325    398230         1971 FF   33.360533  4.091682   51  b'z'   \n",
      "327    398232         1971 FF   33.360668  4.091818   21  b'z'   \n",
      "2542   229724         1971 FF    8.352986 -3.065867   47  b'g'   \n",
      "2812   231945         1971 FF    7.702020 -3.504681    5  b'g'   \n",
      "3151   233119         1971 FF    7.399927 -3.696635   37  b'Y'   \n",
      "...       ...             ...         ...       ...  ...   ...   \n",
      "6052   243514       2019 GH23    1.635546  0.945336   46  b'i'   \n",
      "8934   257225       2019 GH23  358.915776 -0.080070   30  b'g'   \n",
      "8988   257259       2019 GH23  358.915045 -0.080159   30  b'z'   \n",
      "9116   257466       2019 GH23  358.905774 -0.081153   33  b'r'   \n",
      "10442  262940       2019 GH23  359.317899  0.152033   51  b'Y'   \n",
      "\n",
      "                            DATE_OBS    U    RA_3sigma   DEC_3sigma  Ln  \n",
      "325    b'2015-01-15T01:12:19.639544'  0.0        0.085        0.052  L5  \n",
      "327    b'2015-01-15T01:17:01.220886'  0.0        0.085        0.052  L5  \n",
      "2542   b'2013-09-02T08:22:25.719124'  0.0        0.085        0.052  L5  \n",
      "2812   b'2013-09-09T05:22:28.403233'  0.0        0.085        0.052  L5  \n",
      "3151   b'2013-09-12T03:49:10.587528'  0.0        0.085        0.052  L5  \n",
      "...                              ...  ...          ...          ...  ..  \n",
      "6052   b'2013-10-13T02:46:38.912962'  NaN  5225180.900  2171127.900  L5  \n",
      "8934   b'2013-11-22T01:35:45.448902'  NaN  5225180.900  2171127.900  L5  \n",
      "8988   b'2013-11-22T02:51:12.559943'  NaN  5225180.900  2171127.900  L5  \n",
      "9116   b'2013-11-23T02:06:45.168531'  NaN  5225180.900  2171127.900  L5  \n",
      "10442  b'2013-12-12T01:10:22.063477'  NaN  5225180.900  2171127.900  L5  \n",
      "\n",
      "[13732 rows x 11 columns]\n"
     ]
    }
   ],
   "source": [
    "# First only leave jupiter trojans in the list.\n",
    "dfjt = pd.read_csv('mpcorb_JT.csv')\n",
    "jtname = dfjt['Principal_desig']\n",
    "jtname = jtname.values.tolist()\n",
    "#Now select the list of trojans with the name in this list.\n",
    "cc = pd.DataFrame()\n",
    "for i in jtname:\n",
    "    jtn = desjt.loc[desjt['Principal_desig']==i]\n",
    "    cc = pd.concat([cc,jtn])\n",
    "print(cc)"
   ]
  },
  {
   "cell_type": "code",
   "execution_count": 35,
   "id": "c681032a-9c77-467a-aade-d36372218eda",
   "metadata": {},
   "outputs": [],
   "source": [
    "cc['Principal_desig'].unique()\n",
    "len(cc['Principal_desig'].unique())\n",
    "cc.loc[cc['Principal_desig']=='2010 WH38']\n",
    "cc.to_csv('DES_Trojans_mpc(2).csv', index=None)"
   ]
  },
  {
   "cell_type": "code",
   "execution_count": 9,
   "id": "6d8438a9-ef1f-4414-99fd-616430b7249a",
   "metadata": {},
   "outputs": [
    {
     "ename": "ValueError",
     "evalue": "Invalid input coordinates. Please see the documentation for accepted input.",
     "output_type": "error",
     "traceback": [
      "\u001b[0;31m---------------------------------------------------------------------------\u001b[0m",
      "\u001b[0;31mValueError\u001b[0m                                Traceback (most recent call last)",
      "\u001b[0;32m<ipython-input-9-438ee2f5a3e6>\u001b[0m in \u001b[0;36m<module>\u001b[0;34m\u001b[0m\n\u001b[0;32m----> 1\u001b[0;31m rocks = SpaceRock(a='5.204', \n\u001b[0m\u001b[1;32m      2\u001b[0m                   \u001b[0me\u001b[0m\u001b[0;34m=\u001b[0m\u001b[0;34m'0.0489'\u001b[0m\u001b[0;34m,\u001b[0m\u001b[0;34m\u001b[0m\u001b[0;34m\u001b[0m\u001b[0m\n\u001b[1;32m      3\u001b[0m                   \u001b[0minc\u001b[0m\u001b[0;34m=\u001b[0m\u001b[0;34m'1.303'\u001b[0m\u001b[0;34m,\u001b[0m\u001b[0;34m\u001b[0m\u001b[0;34m\u001b[0m\u001b[0m\n\u001b[1;32m      4\u001b[0m                   \u001b[0marg\u001b[0m\u001b[0;34m=\u001b[0m\u001b[0;34m'273.867'\u001b[0m\u001b[0;34m,\u001b[0m\u001b[0;34m\u001b[0m\u001b[0;34m\u001b[0m\u001b[0m\n\u001b[1;32m      5\u001b[0m               \u001b[0;31m#    node=df.Node.values,\u001b[0m\u001b[0;34m\u001b[0m\u001b[0;34m\u001b[0m\u001b[0;34m\u001b[0m\u001b[0m\n",
      "\u001b[0;32m/usr/local/anaconda/lib/python3.8/site-packages/spacerocks/spacerock.py\u001b[0m in \u001b[0;36m__init__\u001b[0;34m(self, frame, units, *args, **kwargs)\u001b[0m\n\u001b[1;32m     50\u001b[0m     \u001b[0;32mdef\u001b[0m \u001b[0m__init__\u001b[0m\u001b[0;34m(\u001b[0m\u001b[0mself\u001b[0m\u001b[0;34m,\u001b[0m \u001b[0mframe\u001b[0m\u001b[0;34m=\u001b[0m\u001b[0;34m'barycentric'\u001b[0m\u001b[0;34m,\u001b[0m \u001b[0munits\u001b[0m\u001b[0;34m=\u001b[0m\u001b[0mUnits\u001b[0m\u001b[0;34m(\u001b[0m\u001b[0;34m)\u001b[0m\u001b[0;34m,\u001b[0m \u001b[0;34m*\u001b[0m\u001b[0margs\u001b[0m\u001b[0;34m,\u001b[0m \u001b[0;34m**\u001b[0m\u001b[0mkwargs\u001b[0m\u001b[0;34m)\u001b[0m\u001b[0;34m:\u001b[0m\u001b[0;34m\u001b[0m\u001b[0;34m\u001b[0m\u001b[0m\n\u001b[1;32m     51\u001b[0m \u001b[0;34m\u001b[0m\u001b[0m\n\u001b[0;32m---> 52\u001b[0;31m         \u001b[0mcoords\u001b[0m \u001b[0;34m=\u001b[0m \u001b[0mself\u001b[0m\u001b[0;34m.\u001b[0m\u001b[0mdetect_coords\u001b[0m\u001b[0;34m(\u001b[0m\u001b[0mkwargs\u001b[0m\u001b[0;34m)\u001b[0m\u001b[0;34m\u001b[0m\u001b[0;34m\u001b[0m\u001b[0m\n\u001b[0m\u001b[1;32m     53\u001b[0m         \u001b[0mframe\u001b[0m \u001b[0;34m=\u001b[0m \u001b[0mframe\u001b[0m\u001b[0;34m.\u001b[0m\u001b[0mlower\u001b[0m\u001b[0;34m(\u001b[0m\u001b[0;34m)\u001b[0m\u001b[0;34m\u001b[0m\u001b[0;34m\u001b[0m\u001b[0m\n\u001b[1;32m     54\u001b[0m \u001b[0;34m\u001b[0m\u001b[0m\n",
      "\u001b[0;32m/usr/local/anaconda/lib/python3.8/site-packages/spacerocks/convenience.py\u001b[0m in \u001b[0;36mdetect_coords\u001b[0;34m(self, kwargs)\u001b[0m\n\u001b[1;32m     51\u001b[0m \u001b[0;34m\u001b[0m\u001b[0m\n\u001b[1;32m     52\u001b[0m         \u001b[0;32melse\u001b[0m\u001b[0;34m:\u001b[0m\u001b[0;34m\u001b[0m\u001b[0;34m\u001b[0m\u001b[0m\n\u001b[0;32m---> 53\u001b[0;31m             \u001b[0;32mraise\u001b[0m \u001b[0mValueError\u001b[0m\u001b[0;34m(\u001b[0m\u001b[0;34m'Invalid input coordinates. Please see the documentation for accepted input.'\u001b[0m\u001b[0;34m)\u001b[0m\u001b[0;34m\u001b[0m\u001b[0;34m\u001b[0m\u001b[0m\n\u001b[0m\u001b[1;32m     54\u001b[0m \u001b[0;34m\u001b[0m\u001b[0m\n\u001b[1;32m     55\u001b[0m         \u001b[0;32mreturn\u001b[0m \u001b[0mcoords\u001b[0m\u001b[0;34m\u001b[0m\u001b[0;34m\u001b[0m\u001b[0m\n",
      "\u001b[0;31mValueError\u001b[0m: Invalid input coordinates. Please see the documentation for accepted input."
     ]
    }
   ],
   "source": [
    "rocks = SpaceRock(a='5.204', \n",
    "                  e='0.0489', \n",
    "                  inc='1.303', \n",
    "                  arg='273.867', \n",
    "              #    node=df.Node.values, \n",
    "                #  t_peri=df.Tp.values, \n",
    "               #   epoch=df.Epoch.values,\n",
    "              #    H=df.H.values, \n",
    "                  name='Jupiter',\n",
    "                  precise=False,\n",
    "                  coordinates='keplerian',\n",
    "                  angles='degrees',\n",
    "                  frame='heliocentric',\n",
    "                  obscode='W84')\n",
    "dates = Time('2015-01-16 01:30:48.578356', format='iso', scale='utc')\n",
    "prop1 = rocks.propagate(dates.jd, model=2)\n",
    "obs1o = prop1.observe('W84')\n",
    "print(obs1o.ra.deg)\n",
    "print(obs1o.dec.deg )"
   ]
  },
  {
   "cell_type": "code",
   "execution_count": null,
   "id": "8079be21-6f13-44a3-8c92-5a7eed2c4d42",
   "metadata": {},
   "outputs": [],
   "source": []
  }
 ],
 "metadata": {
  "kernelspec": {
   "display_name": "Python 3 (base)",
   "language": "python",
   "name": "python3"
  },
  "language_info": {
   "codemirror_mode": {
    "name": "ipython",
    "version": 3
   },
   "file_extension": ".py",
   "mimetype": "text/x-python",
   "name": "python",
   "nbconvert_exporter": "python",
   "pygments_lexer": "ipython3",
   "version": "3.8.5"
  }
 },
 "nbformat": 4,
 "nbformat_minor": 5
}
